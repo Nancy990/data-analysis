{
 "cells": [
  {
   "cell_type": "code",
   "execution_count": 1,
   "metadata": {},
   "outputs": [],
   "source": [
    "import pandas as pd\n",
    "import numpy as np\n",
    "import statsmodels.api as sm\n",
    "import matplotlib.pyplot as plt\n",
    "%matplotlib inline\n",
    "import os"
   ]
  },
  {
   "cell_type": "code",
   "execution_count": 2,
   "metadata": {},
   "outputs": [],
   "source": [
    "os.chdir('C:\\\\Users\\\\Gudavalli\\\\Desktop\\\\IIDT\\\\MACHINE LEARNING\\\\logistic regression')"
   ]
  },
  {
   "cell_type": "code",
   "execution_count": 3,
   "metadata": {},
   "outputs": [],
   "source": [
    "#Hypothesis in logistic regression\n",
    "#beta1=beta2=beat3=0 (null hypothesis)"
   ]
  },
  {
   "cell_type": "markdown",
   "metadata": {},
   "source": [
    "HR Data: Predict the probability that an employee will leave the organization."
   ]
  },
  {
   "cell_type": "code",
   "execution_count": 4,
   "metadata": {},
   "outputs": [
    {
     "data": {
      "text/html": [
       "<div>\n",
       "<style scoped>\n",
       "    .dataframe tbody tr th:only-of-type {\n",
       "        vertical-align: middle;\n",
       "    }\n",
       "\n",
       "    .dataframe tbody tr th {\n",
       "        vertical-align: top;\n",
       "    }\n",
       "\n",
       "    .dataframe thead th {\n",
       "        text-align: right;\n",
       "    }\n",
       "</style>\n",
       "<table border=\"1\" class=\"dataframe\">\n",
       "  <thead>\n",
       "    <tr style=\"text-align: right;\">\n",
       "      <th></th>\n",
       "      <th>satisfaction_level</th>\n",
       "      <th>last_evaluation</th>\n",
       "      <th>number_project</th>\n",
       "      <th>average_montly_hours</th>\n",
       "      <th>time_spend_company</th>\n",
       "      <th>Work_accident</th>\n",
       "      <th>left</th>\n",
       "      <th>promotion_last_5years</th>\n",
       "      <th>sales</th>\n",
       "      <th>salary</th>\n",
       "    </tr>\n",
       "  </thead>\n",
       "  <tbody>\n",
       "    <tr>\n",
       "      <td>0</td>\n",
       "      <td>0.38</td>\n",
       "      <td>0.53</td>\n",
       "      <td>2</td>\n",
       "      <td>157</td>\n",
       "      <td>3</td>\n",
       "      <td>0</td>\n",
       "      <td>1</td>\n",
       "      <td>0</td>\n",
       "      <td>sales</td>\n",
       "      <td>low</td>\n",
       "    </tr>\n",
       "    <tr>\n",
       "      <td>1</td>\n",
       "      <td>0.80</td>\n",
       "      <td>0.86</td>\n",
       "      <td>5</td>\n",
       "      <td>262</td>\n",
       "      <td>6</td>\n",
       "      <td>0</td>\n",
       "      <td>1</td>\n",
       "      <td>0</td>\n",
       "      <td>sales</td>\n",
       "      <td>medium</td>\n",
       "    </tr>\n",
       "    <tr>\n",
       "      <td>2</td>\n",
       "      <td>0.11</td>\n",
       "      <td>0.88</td>\n",
       "      <td>7</td>\n",
       "      <td>272</td>\n",
       "      <td>4</td>\n",
       "      <td>0</td>\n",
       "      <td>1</td>\n",
       "      <td>0</td>\n",
       "      <td>sales</td>\n",
       "      <td>medium</td>\n",
       "    </tr>\n",
       "    <tr>\n",
       "      <td>3</td>\n",
       "      <td>0.72</td>\n",
       "      <td>0.87</td>\n",
       "      <td>5</td>\n",
       "      <td>223</td>\n",
       "      <td>5</td>\n",
       "      <td>0</td>\n",
       "      <td>1</td>\n",
       "      <td>0</td>\n",
       "      <td>sales</td>\n",
       "      <td>low</td>\n",
       "    </tr>\n",
       "    <tr>\n",
       "      <td>4</td>\n",
       "      <td>0.37</td>\n",
       "      <td>0.52</td>\n",
       "      <td>2</td>\n",
       "      <td>159</td>\n",
       "      <td>3</td>\n",
       "      <td>0</td>\n",
       "      <td>1</td>\n",
       "      <td>0</td>\n",
       "      <td>sales</td>\n",
       "      <td>low</td>\n",
       "    </tr>\n",
       "  </tbody>\n",
       "</table>\n",
       "</div>"
      ],
      "text/plain": [
       "   satisfaction_level  last_evaluation  number_project  average_montly_hours  \\\n",
       "0                0.38             0.53               2                   157   \n",
       "1                0.80             0.86               5                   262   \n",
       "2                0.11             0.88               7                   272   \n",
       "3                0.72             0.87               5                   223   \n",
       "4                0.37             0.52               2                   159   \n",
       "\n",
       "   time_spend_company  Work_accident  left  promotion_last_5years  sales  \\\n",
       "0                   3              0     1                      0  sales   \n",
       "1                   6              0     1                      0  sales   \n",
       "2                   4              0     1                      0  sales   \n",
       "3                   5              0     1                      0  sales   \n",
       "4                   3              0     1                      0  sales   \n",
       "\n",
       "   salary  \n",
       "0     low  \n",
       "1  medium  \n",
       "2  medium  \n",
       "3     low  \n",
       "4     low  "
      ]
     },
     "execution_count": 4,
     "metadata": {},
     "output_type": "execute_result"
    }
   ],
   "source": [
    "hr=pd.read_csv('hr.csv')\n",
    "hr.head()"
   ]
  },
  {
   "cell_type": "code",
   "execution_count": 5,
   "metadata": {},
   "outputs": [
    {
     "data": {
      "text/plain": [
       "(14999, 10)"
      ]
     },
     "execution_count": 5,
     "metadata": {},
     "output_type": "execute_result"
    }
   ],
   "source": [
    "hr.shape"
   ]
  },
  {
   "cell_type": "code",
   "execution_count": 6,
   "metadata": {},
   "outputs": [
    {
     "data": {
      "text/plain": [
       "count    14999.000000\n",
       "mean         3.498233\n",
       "std          1.460136\n",
       "min          2.000000\n",
       "25%          3.000000\n",
       "50%          3.000000\n",
       "75%          4.000000\n",
       "max         10.000000\n",
       "Name: time_spend_company, dtype: float64"
      ]
     },
     "execution_count": 6,
     "metadata": {},
     "output_type": "execute_result"
    }
   ],
   "source": [
    "#finding the summary for time spend in the company.\n",
    "hr['time_spend_company'].describe()"
   ]
  },
  {
   "cell_type": "code",
   "execution_count": 7,
   "metadata": {},
   "outputs": [
    {
     "data": {
      "text/plain": [
       "array([0, 1], dtype=int64)"
      ]
     },
     "execution_count": 7,
     "metadata": {},
     "output_type": "execute_result"
    }
   ],
   "source": [
    "hr['Work_accident'].unique()"
   ]
  },
  {
   "cell_type": "code",
   "execution_count": 8,
   "metadata": {},
   "outputs": [
    {
     "data": {
      "text/plain": [
       "array(['sales', 'accounting', 'hr', 'technical', 'support', 'management',\n",
       "       'IT', 'product_mng', 'marketing', 'RandD'], dtype=object)"
      ]
     },
     "execution_count": 8,
     "metadata": {},
     "output_type": "execute_result"
    }
   ],
   "source": [
    "hr['sales'].unique()"
   ]
  },
  {
   "cell_type": "code",
   "execution_count": 9,
   "metadata": {},
   "outputs": [
    {
     "data": {
      "text/plain": [
       "Index(['satisfaction_level', 'last_evaluation', 'number_project',\n",
       "       'average_montly_hours', 'time_spend_company', 'Work_accident', 'left',\n",
       "       'promotion_last_5years', 'sales', 'salary'],\n",
       "      dtype='object')"
      ]
     },
     "execution_count": 9,
     "metadata": {},
     "output_type": "execute_result"
    }
   ],
   "source": [
    "#Data Preparation\n",
    "#Rename 'sales' column\n",
    "hr.columns"
   ]
  },
  {
   "cell_type": "code",
   "execution_count": 10,
   "metadata": {},
   "outputs": [
    {
     "data": {
      "text/plain": [
       "Index(['satisfaction_level', 'last_evaluation', 'number_project',\n",
       "       'average_montly_hours', 'time_spend_company', 'Work_accident', 'left',\n",
       "       'promotion_last_5years', 'Department', 'salary'],\n",
       "      dtype='object')"
      ]
     },
     "execution_count": 10,
     "metadata": {},
     "output_type": "execute_result"
    }
   ],
   "source": [
    "hr.rename(columns={'sales':'Department'},inplace=True)\n",
    "hr.columns"
   ]
  },
  {
   "cell_type": "code",
   "execution_count": 11,
   "metadata": {},
   "outputs": [
    {
     "ename": "NameError",
     "evalue": "name 'train' is not defined",
     "output_type": "error",
     "traceback": [
      "\u001b[1;31m---------------------------------------------------------------------------\u001b[0m",
      "\u001b[1;31mNameError\u001b[0m                                 Traceback (most recent call last)",
      "\u001b[1;32m<ipython-input-11-83cdb22fdc83>\u001b[0m in \u001b[0;36m<module>\u001b[1;34m\u001b[0m\n\u001b[1;32m----> 1\u001b[1;33m \u001b[0mtrain\u001b[0m\u001b[1;33m[\u001b[0m\u001b[1;34m'left'\u001b[0m\u001b[1;33m]\u001b[0m\u001b[1;33m.\u001b[0m\u001b[0mvalue_counts\u001b[0m\u001b[1;33m(\u001b[0m\u001b[1;33m)\u001b[0m\u001b[1;33m/\u001b[0m\u001b[0mtrain\u001b[0m\u001b[1;33m[\u001b[0m\u001b[1;34m'left'\u001b[0m\u001b[1;33m]\u001b[0m\u001b[1;33m.\u001b[0m\u001b[0mshape\u001b[0m\u001b[1;33m[\u001b[0m\u001b[1;36m0\u001b[0m\u001b[1;33m]\u001b[0m\u001b[1;33m\u001b[0m\u001b[1;33m\u001b[0m\u001b[0m\n\u001b[0m",
      "\u001b[1;31mNameError\u001b[0m: name 'train' is not defined"
     ]
    }
   ],
   "source": [
    "train['left'].value_counts()/train['left'].shape[0]"
   ]
  },
  {
   "cell_type": "code",
   "execution_count": 12,
   "metadata": {},
   "outputs": [
    {
     "data": {
      "text/plain": [
       "satisfaction_level       0\n",
       "last_evaluation          0\n",
       "number_project           0\n",
       "average_montly_hours     0\n",
       "time_spend_company       0\n",
       "Work_accident            0\n",
       "left                     0\n",
       "promotion_last_5years    0\n",
       "Department               0\n",
       "salary                   0\n",
       "dtype: int64"
      ]
     },
     "execution_count": 12,
     "metadata": {},
     "output_type": "execute_result"
    }
   ],
   "source": [
    "#Sanity check\n",
    "hr.isnull().sum()"
   ]
  },
  {
   "cell_type": "markdown",
   "metadata": {},
   "source": [
    "Train and Test split\n",
    "1. Train: Teach/train the model using past data.\n",
    "2. Test: Check how well model is working on new data."
   ]
  },
  {
   "cell_type": "code",
   "execution_count": 13,
   "metadata": {},
   "outputs": [
    {
     "data": {
      "text/plain": [
       "(11249, 10)"
      ]
     },
     "execution_count": 13,
     "metadata": {},
     "output_type": "execute_result"
    }
   ],
   "source": [
    "#here frac represents the amount of observations that need to be selected\n",
    "#it has by default does random sampling\n",
    "#random_state is done to fix the same sample\n",
    "train=hr.sample(frac=0.75,random_state=1)\n",
    "train.shape"
   ]
  },
  {
   "cell_type": "code",
   "execution_count": 14,
   "metadata": {},
   "outputs": [
    {
     "data": {
      "text/plain": [
       "11249"
      ]
     },
     "execution_count": 14,
     "metadata": {},
     "output_type": "execute_result"
    }
   ],
   "source": [
    "#length of train index\n",
    "len(train.index)"
   ]
  },
  {
   "cell_type": "code",
   "execution_count": 15,
   "metadata": {},
   "outputs": [],
   "source": [
    "# here we need to  specify index beacuse training set values may shift so specify index\n",
    "test=hr.drop(train.index)"
   ]
  },
  {
   "cell_type": "code",
   "execution_count": 16,
   "metadata": {},
   "outputs": [
    {
     "name": "stdout",
     "output_type": "stream",
     "text": [
      "(11249, 10)\n",
      "(3750, 10)\n"
     ]
    }
   ],
   "source": [
    "print(train.shape)\n",
    "print(test.shape)"
   ]
  },
  {
   "cell_type": "code",
   "execution_count": 17,
   "metadata": {},
   "outputs": [],
   "source": [
    "import statsmodels.formula.api as smf\n",
    "import statsmodels.api as sm"
   ]
  },
  {
   "cell_type": "code",
   "execution_count": 18,
   "metadata": {},
   "outputs": [
    {
     "data": {
      "text/plain": [
       "Index(['satisfaction_level', 'last_evaluation', 'number_project',\n",
       "       'average_montly_hours', 'time_spend_company', 'Work_accident', 'left',\n",
       "       'promotion_last_5years', 'DepartmentIT', 'DepartmentRandD',\n",
       "       'Departmentaccounting', 'Departmenthr', 'Departmentmanagement',\n",
       "       'Departmentmarketing', 'Departmentproduct_mng', 'Departmentsales',\n",
       "       'Departmentsupport', 'Departmenttechnical', 'salaryhigh', 'salarylow',\n",
       "       'salarymedium'],\n",
       "      dtype='object')"
      ]
     },
     "execution_count": 18,
     "metadata": {},
     "output_type": "execute_result"
    }
   ],
   "source": [
    "train=pd.get_dummies(train,prefix_sep='')\n",
    "train.columns"
   ]
  },
  {
   "cell_type": "code",
   "execution_count": 19,
   "metadata": {},
   "outputs": [
    {
     "name": "stdout",
     "output_type": "stream",
     "text": [
      "                 Generalized Linear Model Regression Results                  \n",
      "==============================================================================\n",
      "Dep. Variable:                   left   No. Observations:                11249\n",
      "Model:                            GLM   Df Residuals:                    11230\n",
      "Model Family:                Binomial   Df Model:                           18\n",
      "Link Function:                  logit   Scale:                          1.0000\n",
      "Method:                          IRLS   Log-Likelihood:                -4811.1\n",
      "Date:                Tue, 11 Feb 2020   Deviance:                       9622.1\n",
      "Time:                        12:15:25   Pearson chi2:                 1.04e+04\n",
      "No. Iterations:                     6                                         \n",
      "Covariance Type:            nonrobust                                         \n",
      "=========================================================================================\n",
      "                            coef    std err          z      P>|z|      [0.025      0.975]\n",
      "-----------------------------------------------------------------------------------------\n",
      "Intercept                -1.1440      0.226     -5.068      0.000      -1.586      -0.702\n",
      "satisfaction_level       -4.1746      0.114    -36.745      0.000      -4.397      -3.952\n",
      "last_evaluation           0.7484      0.173      4.338      0.000       0.410       1.086\n",
      "number_project           -0.3206      0.025    -12.959      0.000      -0.369      -0.272\n",
      "average_montly_hours      0.0044      0.001      7.414      0.000       0.003       0.006\n",
      "time_spend_company        0.2642      0.018     14.639      0.000       0.229       0.300\n",
      "Work_accident            -1.5812      0.106    -14.982      0.000      -1.788      -1.374\n",
      "promotion_last_5years    -1.2904      0.284     -4.536      0.000      -1.848      -0.733\n",
      "Departmentaccounting     -0.2491      0.153     -1.628      0.103      -0.549       0.051\n",
      "DepartmentIT             -0.3803      0.139     -2.735      0.006      -0.653      -0.108\n",
      "Departmentmanagement     -0.6487      0.182     -3.557      0.000      -1.006      -0.291\n",
      "Departmentmarketing      -0.3113      0.151     -2.055      0.040      -0.608      -0.014\n",
      "Departmentproduct_mng    -0.5222      0.150     -3.481      0.000      -0.816      -0.228\n",
      "DepartmentRandD          -0.7604      0.164     -4.650      0.000      -1.081      -0.440\n",
      "Departmentsales          -0.3217      0.116     -2.764      0.006      -0.550      -0.094\n",
      "Departmentsupport        -0.2906      0.125     -2.326      0.020      -0.535      -0.046\n",
      "Departmenttechnical      -0.2208      0.121     -1.820      0.069      -0.459       0.017\n",
      "salarylow                 1.9635      0.151     12.980      0.000       1.667       2.260\n",
      "salarymedium              1.4060      0.152      9.254      0.000       1.108       1.704\n",
      "=========================================================================================\n"
     ]
    }
   ],
   "source": [
    "glm1=smf.glm('left~satisfaction_level+last_evaluation+number_project+average_montly_hours+time_spend_company+Work_accident+promotion_last_5years+Departmentaccounting+DepartmentIT+Departmentmanagement+Departmentmarketing+Departmentproduct_mng+DepartmentRandD+Departmentsales+Departmentsupport+Departmenttechnical+salarylow+salarymedium',data=train,family=sm.families.Binomial()).fit()\n",
    "print(glm1.summary())"
   ]
  },
  {
   "cell_type": "code",
   "execution_count": 20,
   "metadata": {},
   "outputs": [
    {
     "data": {
      "text/plain": [
       "9660.13900961272"
      ]
     },
     "execution_count": 20,
     "metadata": {},
     "output_type": "execute_result"
    }
   ],
   "source": [
    "#akaike information criteria\n",
    "#smalest AIC is considered and selected.\n",
    "glm1.aic"
   ]
  },
  {
   "cell_type": "code",
   "execution_count": 21,
   "metadata": {},
   "outputs": [
    {
     "name": "stdout",
     "output_type": "stream",
     "text": [
      "                 Generalized Linear Model Regression Results                  \n",
      "==============================================================================\n",
      "Dep. Variable:                   left   No. Observations:                11249\n",
      "Model:                            GLM   Df Residuals:                    11230\n",
      "Model Family:                Binomial   Df Model:                           18\n",
      "Link Function:                  logit   Scale:                          1.0000\n",
      "Method:                          IRLS   Log-Likelihood:                -4811.1\n",
      "Date:                Tue, 11 Feb 2020   Deviance:                       9622.1\n",
      "Time:                        12:15:26   Pearson chi2:                 1.04e+04\n",
      "No. Iterations:                     6                                         \n",
      "Covariance Type:            nonrobust                                         \n",
      "=========================================================================================\n",
      "                            coef    std err          z      P>|z|      [0.025      0.975]\n",
      "-----------------------------------------------------------------------------------------\n",
      "Intercept                -1.3648      0.208     -6.562      0.000      -1.772      -0.957\n",
      "satisfaction_level       -4.1746      0.114    -36.745      0.000      -4.397      -3.952\n",
      "last_evaluation           0.7484      0.173      4.338      0.000       0.410       1.086\n",
      "number_project           -0.3206      0.025    -12.959      0.000      -0.369      -0.272\n",
      "average_montly_hours      0.0044      0.001      7.414      0.000       0.003       0.006\n",
      "time_spend_company        0.2642      0.018     14.639      0.000       0.229       0.300\n",
      "Work_accident            -1.5812      0.106    -14.982      0.000      -1.788      -1.374\n",
      "promotion_last_5years    -1.2904      0.284     -4.536      0.000      -1.848      -0.733\n",
      "Departmentaccounting     -0.0283      0.125     -0.227      0.821      -0.273       0.216\n",
      "DepartmentIT             -0.1595      0.107     -1.488      0.137      -0.370       0.051\n",
      "Departmentmanagement     -0.4279      0.160     -2.682      0.007      -0.741      -0.115\n",
      "Departmentmarketing      -0.0905      0.123     -0.735      0.462      -0.332       0.151\n",
      "Departmentproduct_mng    -0.3014      0.121     -2.488      0.013      -0.539      -0.064\n",
      "DepartmentRandD          -0.5396      0.138     -3.924      0.000      -0.809      -0.270\n",
      "Departmentsales          -0.1010      0.076     -1.334      0.182      -0.249       0.047\n",
      "Departmentsupport        -0.0698      0.088     -0.792      0.428      -0.243       0.103\n",
      "Departmenthr              0.2208      0.121      1.820      0.069      -0.017       0.459\n",
      "salarylow                 1.9635      0.151     12.980      0.000       1.667       2.260\n",
      "salarymedium              1.4060      0.152      9.254      0.000       1.108       1.704\n",
      "=========================================================================================\n"
     ]
    }
   ],
   "source": [
    "glm2=smf.glm('left~satisfaction_level+last_evaluation+number_project+average_montly_hours+time_spend_company+Work_accident+promotion_last_5years+Departmentaccounting+DepartmentIT+Departmentmanagement+Departmentmarketing+Departmentproduct_mng+DepartmentRandD+Departmentsales+Departmentsupport+Departmenthr+salarylow+salarymedium',data=train,family=sm.families.Binomial()).fit()\n",
    "print(glm2.summary())"
   ]
  },
  {
   "cell_type": "code",
   "execution_count": 22,
   "metadata": {},
   "outputs": [
    {
     "data": {
      "text/plain": [
       "9660.139009612722"
      ]
     },
     "execution_count": 22,
     "metadata": {},
     "output_type": "execute_result"
    }
   ],
   "source": [
    "glm2.aic"
   ]
  },
  {
   "cell_type": "code",
   "execution_count": 23,
   "metadata": {},
   "outputs": [
    {
     "name": "stdout",
     "output_type": "stream",
     "text": [
      "                 Generalized Linear Model Regression Results                  \n",
      "==============================================================================\n",
      "Dep. Variable:                   left   No. Observations:                11249\n",
      "Model:                            GLM   Df Residuals:                    11233\n",
      "Model Family:                Binomial   Df Model:                           15\n",
      "Link Function:                  logit   Scale:                          1.0000\n",
      "Method:                          IRLS   Log-Likelihood:                -4813.8\n",
      "Date:                Tue, 11 Feb 2020   Deviance:                       9627.6\n",
      "Time:                        12:15:31   Pearson chi2:                 1.04e+04\n",
      "No. Iterations:                     6                                         \n",
      "Covariance Type:            nonrobust                                         \n",
      "=========================================================================================\n",
      "                            coef    std err          z      P>|z|      [0.025      0.975]\n",
      "-----------------------------------------------------------------------------------------\n",
      "Intercept                -1.3595      0.203     -6.690      0.000      -1.758      -0.961\n",
      "satisfaction_level       -4.1745      0.114    -36.765      0.000      -4.397      -3.952\n",
      "last_evaluation           0.7425      0.172      4.307      0.000       0.405       1.080\n",
      "number_project           -0.3212      0.025    -12.994      0.000      -0.370      -0.273\n",
      "average_montly_hours      0.0044      0.001      7.426      0.000       0.003       0.006\n",
      "time_spend_company        0.2641      0.018     14.643      0.000       0.229       0.299\n",
      "Work_accident            -1.5821      0.106    -14.996      0.000      -1.789      -1.375\n",
      "promotion_last_5years    -1.2818      0.285     -4.505      0.000      -1.840      -0.724\n",
      "DepartmentIT             -0.1600      0.097     -1.642      0.101      -0.351       0.031\n",
      "Departmentmanagement     -0.4289      0.153     -2.801      0.005      -0.729      -0.129\n",
      "Departmentmarketing      -0.0914      0.115     -0.797      0.425      -0.316       0.133\n",
      "Departmentproduct_mng    -0.3020      0.113     -2.682      0.007      -0.523      -0.081\n",
      "DepartmentRandD          -0.5402      0.130     -4.154      0.000      -0.795      -0.285\n",
      "Departmentsales          -0.1015      0.061     -1.664      0.096      -0.221       0.018\n",
      "salarylow                 1.9626      0.151     12.980      0.000       1.666       2.259\n",
      "salarymedium              1.4098      0.152      9.283      0.000       1.112       1.707\n",
      "=========================================================================================\n"
     ]
    }
   ],
   "source": [
    "glm3=smf.glm('left~satisfaction_level+last_evaluation+number_project+average_montly_hours+time_spend_company+Work_accident+promotion_last_5years+DepartmentIT+Departmentmanagement+Departmentmarketing+Departmentproduct_mng+DepartmentRandD+Departmentsales+salarylow+salarymedium',data=train,family=sm.families.Binomial()).fit()\n",
    "print(glm3.summary())"
   ]
  },
  {
   "cell_type": "code",
   "execution_count": 24,
   "metadata": {},
   "outputs": [
    {
     "data": {
      "text/plain": [
       "9659.57972225939"
      ]
     },
     "execution_count": 24,
     "metadata": {},
     "output_type": "execute_result"
    }
   ],
   "source": [
    "glm3.aic"
   ]
  },
  {
   "cell_type": "code",
   "execution_count": 25,
   "metadata": {},
   "outputs": [
    {
     "name": "stdout",
     "output_type": "stream",
     "text": [
      "                 Generalized Linear Model Regression Results                  \n",
      "==============================================================================\n",
      "Dep. Variable:                   left   No. Observations:                11249\n",
      "Model:                            GLM   Df Residuals:                    11238\n",
      "Model Family:                Binomial   Df Model:                           10\n",
      "Link Function:                  logit   Scale:                          1.0000\n",
      "Method:                          IRLS   Log-Likelihood:                -4821.6\n",
      "Date:                Tue, 11 Feb 2020   Deviance:                       9643.3\n",
      "Time:                        12:15:33   Pearson chi2:                 1.04e+04\n",
      "No. Iterations:                     6                                         \n",
      "Covariance Type:            nonrobust                                         \n",
      "=========================================================================================\n",
      "                            coef    std err          z      P>|z|      [0.025      0.975]\n",
      "-----------------------------------------------------------------------------------------\n",
      "Intercept                -1.4809      0.201     -7.372      0.000      -1.875      -1.087\n",
      "satisfaction_level       -4.1730      0.113    -36.793      0.000      -4.395      -3.951\n",
      "last_evaluation           0.7455      0.172      4.330      0.000       0.408       1.083\n",
      "number_project           -0.3201      0.025    -12.976      0.000      -0.368      -0.272\n",
      "average_montly_hours      0.0044      0.001      7.465      0.000       0.003       0.006\n",
      "time_spend_company        0.2582      0.018     14.476      0.000       0.223       0.293\n",
      "Work_accident            -1.5771      0.105    -14.972      0.000      -1.784      -1.371\n",
      "promotion_last_5years    -1.3108      0.283     -4.629      0.000      -1.866      -0.756\n",
      "DepartmentRandD          -0.4580      0.127     -3.605      0.000      -0.707      -0.209\n",
      "salarylow                 2.0152      0.150     13.455      0.000       1.722       2.309\n",
      "salarymedium              1.4604      0.151      9.695      0.000       1.165       1.756\n",
      "=========================================================================================\n"
     ]
    }
   ],
   "source": [
    "glm4=smf.glm('left~satisfaction_level+last_evaluation+number_project+average_montly_hours+time_spend_company+Work_accident+promotion_last_5years+DepartmentRandD+salarylow+salarymedium',data=train,family=sm.families.Binomial()).fit()\n",
    "print(glm4.summary())"
   ]
  },
  {
   "cell_type": "code",
   "execution_count": 70,
   "metadata": {},
   "outputs": [
    {
     "data": {
      "text/plain": [
       "(11249, 21)"
      ]
     },
     "execution_count": 70,
     "metadata": {},
     "output_type": "execute_result"
    }
   ],
   "source": [
    "train.shape"
   ]
  },
  {
   "cell_type": "code",
   "execution_count": 26,
   "metadata": {},
   "outputs": [
    {
     "data": {
      "text/plain": [
       "9665.26047941935"
      ]
     },
     "execution_count": 26,
     "metadata": {},
     "output_type": "execute_result"
    }
   ],
   "source": [
    "glm4.aic"
   ]
  },
  {
   "cell_type": "code",
   "execution_count": 27,
   "metadata": {},
   "outputs": [
    {
     "data": {
      "text/plain": [
       "(11249, 11)"
      ]
     },
     "execution_count": 27,
     "metadata": {},
     "output_type": "execute_result"
    }
   ],
   "source": [
    "glm4.model.exog.shape"
   ]
  },
  {
   "cell_type": "code",
   "execution_count": 28,
   "metadata": {},
   "outputs": [
    {
     "data": {
      "text/html": [
       "<div>\n",
       "<style scoped>\n",
       "    .dataframe tbody tr th:only-of-type {\n",
       "        vertical-align: middle;\n",
       "    }\n",
       "\n",
       "    .dataframe tbody tr th {\n",
       "        vertical-align: top;\n",
       "    }\n",
       "\n",
       "    .dataframe thead th {\n",
       "        text-align: right;\n",
       "    }\n",
       "</style>\n",
       "<table border=\"1\" class=\"dataframe\">\n",
       "  <thead>\n",
       "    <tr style=\"text-align: right;\">\n",
       "      <th></th>\n",
       "      <th>Features</th>\n",
       "      <th>vif</th>\n",
       "    </tr>\n",
       "  </thead>\n",
       "  <tbody>\n",
       "    <tr>\n",
       "      <td>0</td>\n",
       "      <td>Intercept</td>\n",
       "      <td>47.924006</td>\n",
       "    </tr>\n",
       "    <tr>\n",
       "      <td>1</td>\n",
       "      <td>satisfaction_level</td>\n",
       "      <td>1.069403</td>\n",
       "    </tr>\n",
       "    <tr>\n",
       "      <td>2</td>\n",
       "      <td>last_evaluation</td>\n",
       "      <td>1.248464</td>\n",
       "    </tr>\n",
       "    <tr>\n",
       "      <td>3</td>\n",
       "      <td>number_project</td>\n",
       "      <td>1.359022</td>\n",
       "    </tr>\n",
       "    <tr>\n",
       "      <td>4</td>\n",
       "      <td>average_montly_hours</td>\n",
       "      <td>1.272947</td>\n",
       "    </tr>\n",
       "    <tr>\n",
       "      <td>5</td>\n",
       "      <td>time_spend_company</td>\n",
       "      <td>1.065938</td>\n",
       "    </tr>\n",
       "    <tr>\n",
       "      <td>6</td>\n",
       "      <td>Work_accident</td>\n",
       "      <td>1.006178</td>\n",
       "    </tr>\n",
       "    <tr>\n",
       "      <td>7</td>\n",
       "      <td>promotion_last_5years</td>\n",
       "      <td>1.017090</td>\n",
       "    </tr>\n",
       "    <tr>\n",
       "      <td>8</td>\n",
       "      <td>DepartmentRandD</td>\n",
       "      <td>1.002175</td>\n",
       "    </tr>\n",
       "    <tr>\n",
       "      <td>9</td>\n",
       "      <td>salarylow</td>\n",
       "      <td>3.619342</td>\n",
       "    </tr>\n",
       "    <tr>\n",
       "      <td>10</td>\n",
       "      <td>salarymedium</td>\n",
       "      <td>3.589212</td>\n",
       "    </tr>\n",
       "  </tbody>\n",
       "</table>\n",
       "</div>"
      ],
      "text/plain": [
       "                 Features        vif\n",
       "0               Intercept  47.924006\n",
       "1      satisfaction_level   1.069403\n",
       "2         last_evaluation   1.248464\n",
       "3          number_project   1.359022\n",
       "4    average_montly_hours   1.272947\n",
       "5      time_spend_company   1.065938\n",
       "6           Work_accident   1.006178\n",
       "7   promotion_last_5years   1.017090\n",
       "8         DepartmentRandD   1.002175\n",
       "9               salarylow   3.619342\n",
       "10           salarymedium   3.589212"
      ]
     },
     "execution_count": 28,
     "metadata": {},
     "output_type": "execute_result"
    }
   ],
   "source": [
    "#Multicollinearity check\n",
    "#exog represents all the independent variables\n",
    "from statsmodels.stats.outliers_influence import variance_inflation_factor\n",
    "idv = glm4.model.exog\n",
    "vif = [variance_inflation_factor(idv, i) for i in range(idv.shape[1])]\n",
    "\n",
    "pd.DataFrame({'Features':glm4.model.exog_names,'vif':vif})"
   ]
  },
  {
   "cell_type": "code",
   "execution_count": 29,
   "metadata": {},
   "outputs": [
    {
     "data": {
      "text/plain": [
       "Index(['satisfaction_level', 'last_evaluation', 'number_project',\n",
       "       'average_montly_hours', 'time_spend_company', 'Work_accident', 'left',\n",
       "       'promotion_last_5years', 'DepartmentIT', 'DepartmentRandD',\n",
       "       'Departmentaccounting', 'Departmenthr', 'Departmentmanagement',\n",
       "       'Departmentmarketing', 'Departmentproduct_mng', 'Departmentsales',\n",
       "       'Departmentsupport', 'Departmenttechnical', 'salaryhigh', 'salarylow',\n",
       "       'salarymedium'],\n",
       "      dtype='object')"
      ]
     },
     "execution_count": 29,
     "metadata": {},
     "output_type": "execute_result"
    }
   ],
   "source": [
    "#Prediction on new data\n",
    "test=pd.get_dummies(test,prefix_sep='')\n",
    "test.columns"
   ]
  },
  {
   "cell_type": "code",
   "execution_count": 73,
   "metadata": {},
   "outputs": [],
   "source": [
    "test.drop('left',axis=1,inplace=True)"
   ]
  },
  {
   "cell_type": "code",
   "execution_count": 76,
   "metadata": {},
   "outputs": [],
   "source": [
    "test.drop('deciles',axis=1,inplace=True)"
   ]
  },
  {
   "cell_type": "code",
   "execution_count": 78,
   "metadata": {},
   "outputs": [],
   "source": [
    "test.drop('prob',axis=1,inplace=True)"
   ]
  },
  {
   "cell_type": "code",
   "execution_count": 79,
   "metadata": {},
   "outputs": [
    {
     "data": {
      "text/plain": [
       "(3750, 20)"
      ]
     },
     "execution_count": 79,
     "metadata": {},
     "output_type": "execute_result"
    }
   ],
   "source": [
    "test.shape"
   ]
  },
  {
   "cell_type": "code",
   "execution_count": 30,
   "metadata": {},
   "outputs": [
    {
     "data": {
      "text/plain": [
       "0     0.543226\n",
       "2     0.543150\n",
       "14    0.547507\n",
       "15    0.529666\n",
       "18    0.047055\n",
       "Name: prob, dtype: float64"
      ]
     },
     "execution_count": 30,
     "metadata": {},
     "output_type": "execute_result"
    }
   ],
   "source": [
    "#predicting the probabilities.\n",
    "test['prob']=glm4.predict(test)\n",
    "test['prob'].head()"
   ]
  },
  {
   "cell_type": "code",
   "execution_count": 31,
   "metadata": {},
   "outputs": [
    {
     "data": {
      "text/plain": [
       "0     1\n",
       "2     1\n",
       "14    1\n",
       "15    1\n",
       "18    0\n",
       "dtype: int64"
      ]
     },
     "execution_count": 31,
     "metadata": {},
     "output_type": "execute_result"
    }
   ],
   "source": [
    "pred_y=glm4.predict(test).map(lambda x:1 if x>0.5 else 0)\n",
    "pred_y.head()"
   ]
  },
  {
   "cell_type": "code",
   "execution_count": 32,
   "metadata": {},
   "outputs": [
    {
     "data": {
      "text/plain": [
       "array([[2666,  200],\n",
       "       [ 556,  328]], dtype=int64)"
      ]
     },
     "execution_count": 32,
     "metadata": {},
     "output_type": "execute_result"
    }
   ],
   "source": [
    "#Accuracy: Confusion Matrix,ROC, AUC\n",
    "#Confusion matrix\n",
    "from sklearn import metrics\n",
    "metrics.confusion_matrix(test['left'],pred_y)"
   ]
  },
  {
   "cell_type": "code",
   "execution_count": 33,
   "metadata": {},
   "outputs": [],
   "source": [
    "#ROC curve\n",
    "fpr,tpr,thresholds=metrics.roc_curve(test['left'],test['prob'])\n",
    "x,y=np.arange(0,1.1,0.1),np.arange(0,1.1,0.1)"
   ]
  },
  {
   "cell_type": "code",
   "execution_count": 34,
   "metadata": {},
   "outputs": [
    {
     "data": {
      "text/plain": [
       "Text(0.5, 1.0, 'ROC Curve')"
      ]
     },
     "execution_count": 34,
     "metadata": {},
     "output_type": "execute_result"
    },
    {
     "data": {
      "image/png": "[encoded data removed]",
      "text/plain": [
       "<Figure size 432x288 with 1 Axes>"
      ]
     },
     "metadata": {
      "needs_background": "light"
     },
     "output_type": "display_data"
    }
   ],
   "source": [
    "plt.plot(fpr,tpr)\n",
    "plt.plot(x,y,'b--')#here b-- represents it must be in blue and in -'s\n",
    "plt.title(\"ROC Curve\")"
   ]
  },
  {
   "cell_type": "code",
   "execution_count": 35,
   "metadata": {},
   "outputs": [
    {
     "data": {
      "text/plain": [
       "0.8125913739804795"
      ]
     },
     "execution_count": 35,
     "metadata": {},
     "output_type": "execute_result"
    }
   ],
   "source": [
    "# AUC\n",
    "metrics.roc_auc_score(test['left'],test['prob'])"
   ]
  },
  {
   "cell_type": "code",
   "execution_count": 36,
   "metadata": {},
   "outputs": [
    {
     "data": {
      "text/plain": [
       "0       (0.423, 0.559]\n",
       "2       (0.423, 0.559]\n",
       "14      (0.423, 0.559]\n",
       "15      (0.423, 0.559]\n",
       "18    (0.0312, 0.0602]\n",
       "Name: deciles, dtype: category\n",
       "Categories (10, interval[float64]): [(2.0000000000000052e-05, 0.0312] < (0.0312, 0.0602] < (0.0602, 0.0895] < (0.0895, 0.127] ... (0.221, 0.308] < (0.308, 0.423] < (0.423, 0.559] < (0.559, 0.867]]"
      ]
     },
     "execution_count": 36,
     "metadata": {},
     "output_type": "execute_result"
    }
   ],
   "source": [
    "#Gains chart\n",
    "#here we will take a random of 10 groups(q)\n",
    "test['deciles']=pd.qcut(test['prob'],q=10)\n",
    "test['deciles'].head()"
   ]
  },
  {
   "cell_type": "code",
   "execution_count": 37,
   "metadata": {},
   "outputs": [
    {
     "data": {
      "text/plain": [
       "10"
      ]
     },
     "execution_count": 37,
     "metadata": {},
     "output_type": "execute_result"
    }
   ],
   "source": [
    "len(test['deciles'].unique())"
   ]
  },
  {
   "cell_type": "code",
   "execution_count": 38,
   "metadata": {},
   "outputs": [
    {
     "data": {
      "text/html": [
       "<div>\n",
       "<style scoped>\n",
       "    .dataframe tbody tr th:only-of-type {\n",
       "        vertical-align: middle;\n",
       "    }\n",
       "\n",
       "    .dataframe tbody tr th {\n",
       "        vertical-align: top;\n",
       "    }\n",
       "\n",
       "    .dataframe thead th {\n",
       "        text-align: right;\n",
       "    }\n",
       "</style>\n",
       "<table border=\"1\" class=\"dataframe\">\n",
       "  <thead>\n",
       "    <tr style=\"text-align: right;\">\n",
       "      <th></th>\n",
       "      <th>satisfaction_level</th>\n",
       "      <th>last_evaluation</th>\n",
       "      <th>number_project</th>\n",
       "      <th>average_montly_hours</th>\n",
       "      <th>time_spend_company</th>\n",
       "      <th>Work_accident</th>\n",
       "      <th>left</th>\n",
       "      <th>promotion_last_5years</th>\n",
       "      <th>DepartmentIT</th>\n",
       "      <th>DepartmentRandD</th>\n",
       "      <th>...</th>\n",
       "      <th>Departmentmarketing</th>\n",
       "      <th>Departmentproduct_mng</th>\n",
       "      <th>Departmentsales</th>\n",
       "      <th>Departmentsupport</th>\n",
       "      <th>Departmenttechnical</th>\n",
       "      <th>salaryhigh</th>\n",
       "      <th>salarylow</th>\n",
       "      <th>salarymedium</th>\n",
       "      <th>prob</th>\n",
       "      <th>deciles</th>\n",
       "    </tr>\n",
       "  </thead>\n",
       "  <tbody>\n",
       "    <tr>\n",
       "      <td>5651</td>\n",
       "      <td>0.15</td>\n",
       "      <td>0.76</td>\n",
       "      <td>4</td>\n",
       "      <td>255</td>\n",
       "      <td>6</td>\n",
       "      <td>0</td>\n",
       "      <td>0</td>\n",
       "      <td>0</td>\n",
       "      <td>0</td>\n",
       "      <td>0</td>\n",
       "      <td>...</td>\n",
       "      <td>0</td>\n",
       "      <td>0</td>\n",
       "      <td>0</td>\n",
       "      <td>0</td>\n",
       "      <td>0</td>\n",
       "      <td>0</td>\n",
       "      <td>1</td>\n",
       "      <td>0</td>\n",
       "      <td>0.866807</td>\n",
       "      <td>(0.559, 0.867]</td>\n",
       "    </tr>\n",
       "    <tr>\n",
       "      <td>2086</td>\n",
       "      <td>0.12</td>\n",
       "      <td>0.87</td>\n",
       "      <td>4</td>\n",
       "      <td>244</td>\n",
       "      <td>5</td>\n",
       "      <td>0</td>\n",
       "      <td>0</td>\n",
       "      <td>0</td>\n",
       "      <td>0</td>\n",
       "      <td>0</td>\n",
       "      <td>...</td>\n",
       "      <td>0</td>\n",
       "      <td>0</td>\n",
       "      <td>1</td>\n",
       "      <td>0</td>\n",
       "      <td>0</td>\n",
       "      <td>0</td>\n",
       "      <td>1</td>\n",
       "      <td>0</td>\n",
       "      <td>0.854862</td>\n",
       "      <td>(0.559, 0.867]</td>\n",
       "    </tr>\n",
       "    <tr>\n",
       "      <td>3559</td>\n",
       "      <td>0.15</td>\n",
       "      <td>0.52</td>\n",
       "      <td>4</td>\n",
       "      <td>265</td>\n",
       "      <td>6</td>\n",
       "      <td>0</td>\n",
       "      <td>0</td>\n",
       "      <td>0</td>\n",
       "      <td>0</td>\n",
       "      <td>0</td>\n",
       "      <td>...</td>\n",
       "      <td>0</td>\n",
       "      <td>0</td>\n",
       "      <td>0</td>\n",
       "      <td>1</td>\n",
       "      <td>0</td>\n",
       "      <td>0</td>\n",
       "      <td>1</td>\n",
       "      <td>0</td>\n",
       "      <td>0.850482</td>\n",
       "      <td>(0.559, 0.867]</td>\n",
       "    </tr>\n",
       "    <tr>\n",
       "      <td>11686</td>\n",
       "      <td>0.36</td>\n",
       "      <td>0.41</td>\n",
       "      <td>3</td>\n",
       "      <td>167</td>\n",
       "      <td>10</td>\n",
       "      <td>0</td>\n",
       "      <td>0</td>\n",
       "      <td>0</td>\n",
       "      <td>0</td>\n",
       "      <td>0</td>\n",
       "      <td>...</td>\n",
       "      <td>0</td>\n",
       "      <td>0</td>\n",
       "      <td>0</td>\n",
       "      <td>1</td>\n",
       "      <td>0</td>\n",
       "      <td>0</td>\n",
       "      <td>1</td>\n",
       "      <td>0</td>\n",
       "      <td>0.845433</td>\n",
       "      <td>(0.559, 0.867]</td>\n",
       "    </tr>\n",
       "    <tr>\n",
       "      <td>11581</td>\n",
       "      <td>0.57</td>\n",
       "      <td>0.93</td>\n",
       "      <td>2</td>\n",
       "      <td>204</td>\n",
       "      <td>10</td>\n",
       "      <td>0</td>\n",
       "      <td>0</td>\n",
       "      <td>0</td>\n",
       "      <td>0</td>\n",
       "      <td>0</td>\n",
       "      <td>...</td>\n",
       "      <td>0</td>\n",
       "      <td>0</td>\n",
       "      <td>0</td>\n",
       "      <td>0</td>\n",
       "      <td>0</td>\n",
       "      <td>0</td>\n",
       "      <td>1</td>\n",
       "      <td>0</td>\n",
       "      <td>0.844812</td>\n",
       "      <td>(0.559, 0.867]</td>\n",
       "    </tr>\n",
       "  </tbody>\n",
       "</table>\n",
       "<p>5 rows × 23 columns</p>\n",
       "</div>"
      ],
      "text/plain": [
       "       satisfaction_level  last_evaluation  number_project  \\\n",
       "5651                 0.15             0.76               4   \n",
       "2086                 0.12             0.87               4   \n",
       "3559                 0.15             0.52               4   \n",
       "11686                0.36             0.41               3   \n",
       "11581                0.57             0.93               2   \n",
       "\n",
       "       average_montly_hours  time_spend_company  Work_accident  left  \\\n",
       "5651                    255                   6              0     0   \n",
       "2086                    244                   5              0     0   \n",
       "3559                    265                   6              0     0   \n",
       "11686                   167                  10              0     0   \n",
       "11581                   204                  10              0     0   \n",
       "\n",
       "       promotion_last_5years  DepartmentIT  DepartmentRandD  ...  \\\n",
       "5651                       0             0                0  ...   \n",
       "2086                       0             0                0  ...   \n",
       "3559                       0             0                0  ...   \n",
       "11686                      0             0                0  ...   \n",
       "11581                      0             0                0  ...   \n",
       "\n",
       "       Departmentmarketing  Departmentproduct_mng  Departmentsales  \\\n",
       "5651                     0                      0                0   \n",
       "2086                     0                      0                1   \n",
       "3559                     0                      0                0   \n",
       "11686                    0                      0                0   \n",
       "11581                    0                      0                0   \n",
       "\n",
       "       Departmentsupport  Departmenttechnical  salaryhigh  salarylow  \\\n",
       "5651                   0                    0           0          1   \n",
       "2086                   0                    0           0          1   \n",
       "3559                   1                    0           0          1   \n",
       "11686                  1                    0           0          1   \n",
       "11581                  0                    0           0          1   \n",
       "\n",
       "       salarymedium      prob         deciles  \n",
       "5651              0  0.866807  (0.559, 0.867]  \n",
       "2086              0  0.854862  (0.559, 0.867]  \n",
       "3559              0  0.850482  (0.559, 0.867]  \n",
       "11686             0  0.845433  (0.559, 0.867]  \n",
       "11581             0  0.844812  (0.559, 0.867]  \n",
       "\n",
       "[5 rows x 23 columns]"
      ]
     },
     "execution_count": 38,
     "metadata": {},
     "output_type": "execute_result"
    }
   ],
   "source": [
    "test_sort=test.sort_values('prob',ascending=False).head()\n",
    "test_sort.head()"
   ]
  },
  {
   "cell_type": "code",
   "execution_count": 39,
   "metadata": {},
   "outputs": [
    {
     "data": {
      "text/html": [
       "<div>\n",
       "<style scoped>\n",
       "    .dataframe tbody tr th:only-of-type {\n",
       "        vertical-align: middle;\n",
       "    }\n",
       "\n",
       "    .dataframe tbody tr th {\n",
       "        vertical-align: top;\n",
       "    }\n",
       "\n",
       "    .dataframe thead th {\n",
       "        text-align: right;\n",
       "    }\n",
       "</style>\n",
       "<table border=\"1\" class=\"dataframe\">\n",
       "  <thead>\n",
       "    <tr style=\"text-align: right;\">\n",
       "      <th></th>\n",
       "      <th>deciles</th>\n",
       "      <th>sum</th>\n",
       "      <th>count</th>\n",
       "    </tr>\n",
       "  </thead>\n",
       "  <tbody>\n",
       "    <tr>\n",
       "      <td>9</td>\n",
       "      <td>(0.559, 0.867]</td>\n",
       "      <td>216</td>\n",
       "      <td>374</td>\n",
       "    </tr>\n",
       "    <tr>\n",
       "      <td>8</td>\n",
       "      <td>(0.423, 0.559]</td>\n",
       "      <td>234</td>\n",
       "      <td>376</td>\n",
       "    </tr>\n",
       "    <tr>\n",
       "      <td>7</td>\n",
       "      <td>(0.308, 0.423]</td>\n",
       "      <td>147</td>\n",
       "      <td>375</td>\n",
       "    </tr>\n",
       "    <tr>\n",
       "      <td>6</td>\n",
       "      <td>(0.221, 0.308]</td>\n",
       "      <td>82</td>\n",
       "      <td>375</td>\n",
       "    </tr>\n",
       "    <tr>\n",
       "      <td>5</td>\n",
       "      <td>(0.167, 0.221]</td>\n",
       "      <td>64</td>\n",
       "      <td>375</td>\n",
       "    </tr>\n",
       "    <tr>\n",
       "      <td>4</td>\n",
       "      <td>(0.127, 0.167]</td>\n",
       "      <td>51</td>\n",
       "      <td>375</td>\n",
       "    </tr>\n",
       "    <tr>\n",
       "      <td>3</td>\n",
       "      <td>(0.0895, 0.127]</td>\n",
       "      <td>60</td>\n",
       "      <td>374</td>\n",
       "    </tr>\n",
       "    <tr>\n",
       "      <td>2</td>\n",
       "      <td>(0.0602, 0.0895]</td>\n",
       "      <td>9</td>\n",
       "      <td>376</td>\n",
       "    </tr>\n",
       "    <tr>\n",
       "      <td>1</td>\n",
       "      <td>(0.0312, 0.0602]</td>\n",
       "      <td>12</td>\n",
       "      <td>375</td>\n",
       "    </tr>\n",
       "    <tr>\n",
       "      <td>0</td>\n",
       "      <td>(2.0000000000000052e-05, 0.0312]</td>\n",
       "      <td>9</td>\n",
       "      <td>375</td>\n",
       "    </tr>\n",
       "  </tbody>\n",
       "</table>\n",
       "</div>"
      ],
      "text/plain": [
       "                            deciles  sum  count\n",
       "9                    (0.559, 0.867]  216    374\n",
       "8                    (0.423, 0.559]  234    376\n",
       "7                    (0.308, 0.423]  147    375\n",
       "6                    (0.221, 0.308]   82    375\n",
       "5                    (0.167, 0.221]   64    375\n",
       "4                    (0.127, 0.167]   51    375\n",
       "3                   (0.0895, 0.127]   60    374\n",
       "2                  (0.0602, 0.0895]    9    376\n",
       "1                  (0.0312, 0.0602]   12    375\n",
       "0  (2.0000000000000052e-05, 0.0312]    9    375"
      ]
     },
     "execution_count": 39,
     "metadata": {},
     "output_type": "execute_result"
    }
   ],
   "source": [
    "gains=test.groupby('deciles')['left'].agg(['sum','count']).reset_index().sort_values(\"deciles\",ascending=False)\n",
    "gains"
   ]
  },
  {
   "cell_type": "code",
   "execution_count": 40,
   "metadata": {},
   "outputs": [],
   "source": [
    "gains.columns=['Deciles','TotalEvents','NObs']"
   ]
  },
  {
   "cell_type": "code",
   "execution_count": 41,
   "metadata": {},
   "outputs": [],
   "source": [
    "gains['Percentage']=gains['TotalEvents']/gains['TotalEvents'].sum()"
   ]
  },
  {
   "cell_type": "code",
   "execution_count": 42,
   "metadata": {},
   "outputs": [
    {
     "data": {
      "text/html": [
       "<div>\n",
       "<style scoped>\n",
       "    .dataframe tbody tr th:only-of-type {\n",
       "        vertical-align: middle;\n",
       "    }\n",
       "\n",
       "    .dataframe tbody tr th {\n",
       "        vertical-align: top;\n",
       "    }\n",
       "\n",
       "    .dataframe thead th {\n",
       "        text-align: right;\n",
       "    }\n",
       "</style>\n",
       "<table border=\"1\" class=\"dataframe\">\n",
       "  <thead>\n",
       "    <tr style=\"text-align: right;\">\n",
       "      <th></th>\n",
       "      <th>Deciles</th>\n",
       "      <th>TotalEvents</th>\n",
       "      <th>NObs</th>\n",
       "      <th>Percentage</th>\n",
       "    </tr>\n",
       "  </thead>\n",
       "  <tbody>\n",
       "    <tr>\n",
       "      <td>9</td>\n",
       "      <td>(0.559, 0.867]</td>\n",
       "      <td>216</td>\n",
       "      <td>374</td>\n",
       "      <td>0.244344</td>\n",
       "    </tr>\n",
       "    <tr>\n",
       "      <td>8</td>\n",
       "      <td>(0.423, 0.559]</td>\n",
       "      <td>234</td>\n",
       "      <td>376</td>\n",
       "      <td>0.264706</td>\n",
       "    </tr>\n",
       "    <tr>\n",
       "      <td>7</td>\n",
       "      <td>(0.308, 0.423]</td>\n",
       "      <td>147</td>\n",
       "      <td>375</td>\n",
       "      <td>0.166290</td>\n",
       "    </tr>\n",
       "    <tr>\n",
       "      <td>6</td>\n",
       "      <td>(0.221, 0.308]</td>\n",
       "      <td>82</td>\n",
       "      <td>375</td>\n",
       "      <td>0.092760</td>\n",
       "    </tr>\n",
       "    <tr>\n",
       "      <td>5</td>\n",
       "      <td>(0.167, 0.221]</td>\n",
       "      <td>64</td>\n",
       "      <td>375</td>\n",
       "      <td>0.072398</td>\n",
       "    </tr>\n",
       "    <tr>\n",
       "      <td>4</td>\n",
       "      <td>(0.127, 0.167]</td>\n",
       "      <td>51</td>\n",
       "      <td>375</td>\n",
       "      <td>0.057692</td>\n",
       "    </tr>\n",
       "    <tr>\n",
       "      <td>3</td>\n",
       "      <td>(0.0895, 0.127]</td>\n",
       "      <td>60</td>\n",
       "      <td>374</td>\n",
       "      <td>0.067873</td>\n",
       "    </tr>\n",
       "    <tr>\n",
       "      <td>2</td>\n",
       "      <td>(0.0602, 0.0895]</td>\n",
       "      <td>9</td>\n",
       "      <td>376</td>\n",
       "      <td>0.010181</td>\n",
       "    </tr>\n",
       "    <tr>\n",
       "      <td>1</td>\n",
       "      <td>(0.0312, 0.0602]</td>\n",
       "      <td>12</td>\n",
       "      <td>375</td>\n",
       "      <td>0.013575</td>\n",
       "    </tr>\n",
       "    <tr>\n",
       "      <td>0</td>\n",
       "      <td>(2.0000000000000052e-05, 0.0312]</td>\n",
       "      <td>9</td>\n",
       "      <td>375</td>\n",
       "      <td>0.010181</td>\n",
       "    </tr>\n",
       "  </tbody>\n",
       "</table>\n",
       "</div>"
      ],
      "text/plain": [
       "                            Deciles  TotalEvents  NObs  Percentage\n",
       "9                    (0.559, 0.867]          216   374    0.244344\n",
       "8                    (0.423, 0.559]          234   376    0.264706\n",
       "7                    (0.308, 0.423]          147   375    0.166290\n",
       "6                    (0.221, 0.308]           82   375    0.092760\n",
       "5                    (0.167, 0.221]           64   375    0.072398\n",
       "4                    (0.127, 0.167]           51   375    0.057692\n",
       "3                   (0.0895, 0.127]           60   374    0.067873\n",
       "2                  (0.0602, 0.0895]            9   376    0.010181\n",
       "1                  (0.0312, 0.0602]           12   375    0.013575\n",
       "0  (2.0000000000000052e-05, 0.0312]            9   375    0.010181"
      ]
     },
     "execution_count": 42,
     "metadata": {},
     "output_type": "execute_result"
    }
   ],
   "source": [
    "gains"
   ]
  },
  {
   "cell_type": "code",
   "execution_count": 43,
   "metadata": {},
   "outputs": [
    {
     "data": {
      "text/html": [
       "<div>\n",
       "<style scoped>\n",
       "    .dataframe tbody tr th:only-of-type {\n",
       "        vertical-align: middle;\n",
       "    }\n",
       "\n",
       "    .dataframe tbody tr th {\n",
       "        vertical-align: top;\n",
       "    }\n",
       "\n",
       "    .dataframe thead th {\n",
       "        text-align: right;\n",
       "    }\n",
       "</style>\n",
       "<table border=\"1\" class=\"dataframe\">\n",
       "  <thead>\n",
       "    <tr style=\"text-align: right;\">\n",
       "      <th></th>\n",
       "      <th>Deciles</th>\n",
       "      <th>TotalEvents</th>\n",
       "      <th>NObs</th>\n",
       "      <th>Percentage</th>\n",
       "      <th>cum_events</th>\n",
       "      <th>sample</th>\n",
       "    </tr>\n",
       "  </thead>\n",
       "  <tbody>\n",
       "    <tr>\n",
       "      <td>9</td>\n",
       "      <td>(0.559, 0.867]</td>\n",
       "      <td>216</td>\n",
       "      <td>374</td>\n",
       "      <td>0.244344</td>\n",
       "      <td>0.244344</td>\n",
       "      <td>0.1</td>\n",
       "    </tr>\n",
       "    <tr>\n",
       "      <td>8</td>\n",
       "      <td>(0.423, 0.559]</td>\n",
       "      <td>234</td>\n",
       "      <td>376</td>\n",
       "      <td>0.264706</td>\n",
       "      <td>0.509050</td>\n",
       "      <td>0.2</td>\n",
       "    </tr>\n",
       "    <tr>\n",
       "      <td>7</td>\n",
       "      <td>(0.308, 0.423]</td>\n",
       "      <td>147</td>\n",
       "      <td>375</td>\n",
       "      <td>0.166290</td>\n",
       "      <td>0.675339</td>\n",
       "      <td>0.3</td>\n",
       "    </tr>\n",
       "    <tr>\n",
       "      <td>6</td>\n",
       "      <td>(0.221, 0.308]</td>\n",
       "      <td>82</td>\n",
       "      <td>375</td>\n",
       "      <td>0.092760</td>\n",
       "      <td>0.768100</td>\n",
       "      <td>0.4</td>\n",
       "    </tr>\n",
       "    <tr>\n",
       "      <td>5</td>\n",
       "      <td>(0.167, 0.221]</td>\n",
       "      <td>64</td>\n",
       "      <td>375</td>\n",
       "      <td>0.072398</td>\n",
       "      <td>0.840498</td>\n",
       "      <td>0.5</td>\n",
       "    </tr>\n",
       "    <tr>\n",
       "      <td>4</td>\n",
       "      <td>(0.127, 0.167]</td>\n",
       "      <td>51</td>\n",
       "      <td>375</td>\n",
       "      <td>0.057692</td>\n",
       "      <td>0.898190</td>\n",
       "      <td>0.6</td>\n",
       "    </tr>\n",
       "    <tr>\n",
       "      <td>3</td>\n",
       "      <td>(0.0895, 0.127]</td>\n",
       "      <td>60</td>\n",
       "      <td>374</td>\n",
       "      <td>0.067873</td>\n",
       "      <td>0.966063</td>\n",
       "      <td>0.7</td>\n",
       "    </tr>\n",
       "    <tr>\n",
       "      <td>2</td>\n",
       "      <td>(0.0602, 0.0895]</td>\n",
       "      <td>9</td>\n",
       "      <td>376</td>\n",
       "      <td>0.010181</td>\n",
       "      <td>0.976244</td>\n",
       "      <td>0.8</td>\n",
       "    </tr>\n",
       "    <tr>\n",
       "      <td>1</td>\n",
       "      <td>(0.0312, 0.0602]</td>\n",
       "      <td>12</td>\n",
       "      <td>375</td>\n",
       "      <td>0.013575</td>\n",
       "      <td>0.989819</td>\n",
       "      <td>0.9</td>\n",
       "    </tr>\n",
       "    <tr>\n",
       "      <td>0</td>\n",
       "      <td>(2.0000000000000052e-05, 0.0312]</td>\n",
       "      <td>9</td>\n",
       "      <td>375</td>\n",
       "      <td>0.010181</td>\n",
       "      <td>1.000000</td>\n",
       "      <td>1.0</td>\n",
       "    </tr>\n",
       "  </tbody>\n",
       "</table>\n",
       "</div>"
      ],
      "text/plain": [
       "                            Deciles  TotalEvents  NObs  Percentage  \\\n",
       "9                    (0.559, 0.867]          216   374    0.244344   \n",
       "8                    (0.423, 0.559]          234   376    0.264706   \n",
       "7                    (0.308, 0.423]          147   375    0.166290   \n",
       "6                    (0.221, 0.308]           82   375    0.092760   \n",
       "5                    (0.167, 0.221]           64   375    0.072398   \n",
       "4                    (0.127, 0.167]           51   375    0.057692   \n",
       "3                   (0.0895, 0.127]           60   374    0.067873   \n",
       "2                  (0.0602, 0.0895]            9   376    0.010181   \n",
       "1                  (0.0312, 0.0602]           12   375    0.013575   \n",
       "0  (2.0000000000000052e-05, 0.0312]            9   375    0.010181   \n",
       "\n",
       "   cum_events  sample  \n",
       "9    0.244344     0.1  \n",
       "8    0.509050     0.2  \n",
       "7    0.675339     0.3  \n",
       "6    0.768100     0.4  \n",
       "5    0.840498     0.5  \n",
       "4    0.898190     0.6  \n",
       "3    0.966063     0.7  \n",
       "2    0.976244     0.8  \n",
       "1    0.989819     0.9  \n",
       "0    1.000000     1.0  "
      ]
     },
     "execution_count": 43,
     "metadata": {},
     "output_type": "execute_result"
    }
   ],
   "source": [
    "#cummulative value is done percentage\n",
    "gains['cum_events']=gains['Percentage'].cumsum()\n",
    "gains['sample']=np.arange(0.1,1.1,0.1)\n",
    "gains"
   ]
  },
  {
   "cell_type": "code",
   "execution_count": 44,
   "metadata": {},
   "outputs": [
    {
     "data": {
      "text/plain": [
       "Text(0.5, 1.0, 'Gains Chart')"
      ]
     },
     "execution_count": 44,
     "metadata": {},
     "output_type": "execute_result"
    },
    {
     "data": {
      "image/png": "[encoded data removed]",
      "text/plain": [
       "<Figure size 432x288 with 1 Axes>"
      ]
     },
     "metadata": {
      "needs_background": "light"
     },
     "output_type": "display_data"
    }
   ],
   "source": [
    "plt.scatter(gains['sample'],gains['cum_events'])\n",
    "plt.plot(gains['sample'],gains['cum_events'])\n",
    "plt.plot(gains['sample'],gains['sample'])\n",
    "plt.title(\"Gains Chart\")"
   ]
  },
  {
   "cell_type": "code",
   "execution_count": 45,
   "metadata": {},
   "outputs": [
    {
     "data": {
      "text/plain": [
       "<Figure size 432x288 with 0 Axes>"
      ]
     },
     "metadata": {},
     "output_type": "display_data"
    }
   ],
   "source": [
    "#stepwise selection:(another method of finding)\n",
    "%run step.py"
   ]
  },
  {
   "cell_type": "code",
   "execution_count": 46,
   "metadata": {},
   "outputs": [
    {
     "name": "stderr",
     "output_type": "stream",
     "text": [
      "C:\\Users\\Gudavalli\\Anaconda3\\lib\\site-packages\\numpy\\core\\fromnumeric.py:2389: FutureWarning: Method .ptp is deprecated and will be removed in a future version. Use numpy.ptp instead.\n",
      "  return ptp(axis=axis, out=out, **kwargs)\n",
      "C:\\Users\\Gudavalli\\Anaconda3\\lib\\site-packages\\numpy\\core\\fromnumeric.py:2389: FutureWarning: Method .ptp is deprecated and will be removed in a future version. Use numpy.ptp instead.\n",
      "  return ptp(axis=axis, out=out, **kwargs)\n",
      "C:\\Users\\Gudavalli\\Anaconda3\\lib\\site-packages\\numpy\\core\\fromnumeric.py:2389: FutureWarning: Method .ptp is deprecated and will be removed in a future version. Use numpy.ptp instead.\n",
      "  return ptp(axis=axis, out=out, **kwargs)\n",
      "C:\\Users\\Gudavalli\\Anaconda3\\lib\\site-packages\\numpy\\core\\fromnumeric.py:2389: FutureWarning: Method .ptp is deprecated and will be removed in a future version. Use numpy.ptp instead.\n",
      "  return ptp(axis=axis, out=out, **kwargs)\n",
      "C:\\Users\\Gudavalli\\Anaconda3\\lib\\site-packages\\numpy\\core\\fromnumeric.py:2389: FutureWarning: Method .ptp is deprecated and will be removed in a future version. Use numpy.ptp instead.\n",
      "  return ptp(axis=axis, out=out, **kwargs)\n",
      "C:\\Users\\Gudavalli\\Anaconda3\\lib\\site-packages\\numpy\\core\\fromnumeric.py:2389: FutureWarning: Method .ptp is deprecated and will be removed in a future version. Use numpy.ptp instead.\n",
      "  return ptp(axis=axis, out=out, **kwargs)\n",
      "C:\\Users\\Gudavalli\\Anaconda3\\lib\\site-packages\\numpy\\core\\fromnumeric.py:2389: FutureWarning: Method .ptp is deprecated and will be removed in a future version. Use numpy.ptp instead.\n",
      "  return ptp(axis=axis, out=out, **kwargs)\n",
      "C:\\Users\\Gudavalli\\Anaconda3\\lib\\site-packages\\numpy\\core\\fromnumeric.py:2389: FutureWarning: Method .ptp is deprecated and will be removed in a future version. Use numpy.ptp instead.\n",
      "  return ptp(axis=axis, out=out, **kwargs)\n",
      "C:\\Users\\Gudavalli\\Anaconda3\\lib\\site-packages\\numpy\\core\\fromnumeric.py:2389: FutureWarning: Method .ptp is deprecated and will be removed in a future version. Use numpy.ptp instead.\n",
      "  return ptp(axis=axis, out=out, **kwargs)\n",
      "C:\\Users\\Gudavalli\\Anaconda3\\lib\\site-packages\\numpy\\core\\fromnumeric.py:2389: FutureWarning: Method .ptp is deprecated and will be removed in a future version. Use numpy.ptp instead.\n",
      "  return ptp(axis=axis, out=out, **kwargs)\n",
      "C:\\Users\\Gudavalli\\Anaconda3\\lib\\site-packages\\numpy\\core\\fromnumeric.py:2389: FutureWarning: Method .ptp is deprecated and will be removed in a future version. Use numpy.ptp instead.\n",
      "  return ptp(axis=axis, out=out, **kwargs)\n",
      "C:\\Users\\Gudavalli\\Anaconda3\\lib\\site-packages\\numpy\\core\\fromnumeric.py:2389: FutureWarning: Method .ptp is deprecated and will be removed in a future version. Use numpy.ptp instead.\n",
      "  return ptp(axis=axis, out=out, **kwargs)\n",
      "C:\\Users\\Gudavalli\\Anaconda3\\lib\\site-packages\\numpy\\core\\fromnumeric.py:2389: FutureWarning: Method .ptp is deprecated and will be removed in a future version. Use numpy.ptp instead.\n",
      "  return ptp(axis=axis, out=out, **kwargs)\n",
      "C:\\Users\\Gudavalli\\Anaconda3\\lib\\site-packages\\numpy\\core\\fromnumeric.py:2389: FutureWarning: Method .ptp is deprecated and will be removed in a future version. Use numpy.ptp instead.\n",
      "  return ptp(axis=axis, out=out, **kwargs)\n",
      "C:\\Users\\Gudavalli\\Desktop\\IIDT\\MACHINE LEARNING\\logistic regression\\step.py:34: FutureWarning: \n",
      "The current behaviour of 'Series.argmin' is deprecated, use 'idxmin'\n",
      "instead.\n",
      "The behavior of 'argmin' will be corrected to return the positional\n",
      "minimum in the future. For now, use 'series.values.argmin' or\n",
      "'np.argmin(np.array(values))' to get the position of the minimum\n",
      "row.\n",
      "  best_feature = new_pval.argmin()\n"
     ]
    },
    {
     "name": "stdout",
     "output_type": "stream",
     "text": [
      "Add  satisfaction_level             with p-value 0.0\n",
      "Add  Work_accident                  with p-value 8.1936e-56\n",
      "Add  salarylow                      with p-value 5.84362e-44\n",
      "Add  time_spend_company             with p-value 6.82309e-39\n",
      "Add  salarymedium                   with p-value 7.02128e-22\n",
      "Add  number_project                 with p-value 7.70818e-11\n",
      "Add  average_montly_hours           with p-value 2.91185e-20\n",
      "Add  promotion_last_5years          with p-value 8.22603e-06\n",
      "Add  DepartmentRandD                with p-value 0.000126605\n",
      "Add  last_evaluation                with p-value 0.000126214\n",
      "Add  Departmenthr                   with p-value 0.00307879\n",
      "Add  Departmentmanagement           with p-value 0.00628763\n"
     ]
    },
    {
     "data": {
      "text/plain": [
       "['satisfaction_level',\n",
       " 'Work_accident',\n",
       " 'salarylow',\n",
       " 'time_spend_company',\n",
       " 'salarymedium',\n",
       " 'number_project',\n",
       " 'average_montly_hours',\n",
       " 'promotion_last_5years',\n",
       " 'DepartmentRandD',\n",
       " 'last_evaluation',\n",
       " 'Departmenthr',\n",
       " 'Departmentmanagement']"
      ]
     },
     "execution_count": 46,
     "metadata": {},
     "output_type": "execute_result"
    }
   ],
   "source": [
    "features=stepwise_selection(train.drop('left',axis=1),train['left'])\n",
    "features"
   ]
  },
  {
   "cell_type": "code",
   "execution_count": 47,
   "metadata": {},
   "outputs": [
    {
     "data": {
      "text/plain": [
       "12"
      ]
     },
     "execution_count": 47,
     "metadata": {},
     "output_type": "execute_result"
    }
   ],
   "source": [
    "len(features)"
   ]
  },
  {
   "cell_type": "code",
   "execution_count": 48,
   "metadata": {},
   "outputs": [
    {
     "data": {
      "text/html": [
       "<table class=\"simpletable\">\n",
       "<caption>Generalized Linear Model Regression Results</caption>\n",
       "<tr>\n",
       "  <th>Dep. Variable:</th>         <td>left</td>       <th>  No. Observations:  </th>  <td> 11249</td> \n",
       "</tr>\n",
       "<tr>\n",
       "  <th>Model:</th>                  <td>GLM</td>       <th>  Df Residuals:      </th>  <td> 11237</td> \n",
       "</tr>\n",
       "<tr>\n",
       "  <th>Model Family:</th>        <td>Binomial</td>     <th>  Df Model:          </th>  <td>    11</td> \n",
       "</tr>\n",
       "<tr>\n",
       "  <th>Link Function:</th>         <td>logit</td>      <th>  Scale:             </th> <td>  1.0000</td>\n",
       "</tr>\n",
       "<tr>\n",
       "  <th>Method:</th>                <td>IRLS</td>       <th>  Log-Likelihood:    </th> <td> -4843.0</td>\n",
       "</tr>\n",
       "<tr>\n",
       "  <th>Date:</th>            <td>Tue, 11 Feb 2020</td> <th>  Deviance:          </th> <td>  9686.0</td>\n",
       "</tr>\n",
       "<tr>\n",
       "  <th>Time:</th>                <td>12:16:01</td>     <th>  Pearson chi2:      </th> <td>1.10e+04</td>\n",
       "</tr>\n",
       "<tr>\n",
       "  <th>No. Iterations:</th>          <td>6</td>        <th>                     </th>     <td> </td>   \n",
       "</tr>\n",
       "<tr>\n",
       "  <th>Covariance Type:</th>     <td>nonrobust</td>    <th>                     </th>     <td> </td>   \n",
       "</tr>\n",
       "</table>\n",
       "<table class=\"simpletable\">\n",
       "<tr>\n",
       "            <td></td>               <th>coef</th>     <th>std err</th>      <th>z</th>      <th>P>|z|</th>  <th>[0.025</th>    <th>0.975]</th>  \n",
       "</tr>\n",
       "<tr>\n",
       "  <th>satisfaction_level</th>    <td>   -4.3970</td> <td>    0.109</td> <td>  -40.231</td> <td> 0.000</td> <td>   -4.611</td> <td>   -4.183</td>\n",
       "</tr>\n",
       "<tr>\n",
       "  <th>Work_accident</th>         <td>   -1.5936</td> <td>    0.105</td> <td>  -15.147</td> <td> 0.000</td> <td>   -1.800</td> <td>   -1.387</td>\n",
       "</tr>\n",
       "<tr>\n",
       "  <th>salarylow</th>             <td>    1.2503</td> <td>    0.094</td> <td>   13.239</td> <td> 0.000</td> <td>    1.065</td> <td>    1.435</td>\n",
       "</tr>\n",
       "<tr>\n",
       "  <th>time_spend_company</th>    <td>    0.2253</td> <td>    0.017</td> <td>   13.069</td> <td> 0.000</td> <td>    0.192</td> <td>    0.259</td>\n",
       "</tr>\n",
       "<tr>\n",
       "  <th>salarymedium</th>          <td>    0.7026</td> <td>    0.097</td> <td>    7.256</td> <td> 0.000</td> <td>    0.513</td> <td>    0.892</td>\n",
       "</tr>\n",
       "<tr>\n",
       "  <th>number_project</th>        <td>   -0.3261</td> <td>    0.024</td> <td>  -13.358</td> <td> 0.000</td> <td>   -0.374</td> <td>   -0.278</td>\n",
       "</tr>\n",
       "<tr>\n",
       "  <th>average_montly_hours</th>  <td>    0.0032</td> <td>    0.001</td> <td>    5.635</td> <td> 0.000</td> <td>    0.002</td> <td>    0.004</td>\n",
       "</tr>\n",
       "<tr>\n",
       "  <th>promotion_last_5years</th> <td>   -1.3418</td> <td>    0.283</td> <td>   -4.739</td> <td> 0.000</td> <td>   -1.897</td> <td>   -0.787</td>\n",
       "</tr>\n",
       "<tr>\n",
       "  <th>DepartmentRandD</th>       <td>   -0.4905</td> <td>    0.127</td> <td>   -3.860</td> <td> 0.000</td> <td>   -0.740</td> <td>   -0.241</td>\n",
       "</tr>\n",
       "<tr>\n",
       "  <th>last_evaluation</th>       <td>    0.4427</td> <td>    0.166</td> <td>    2.661</td> <td> 0.008</td> <td>    0.117</td> <td>    0.769</td>\n",
       "</tr>\n",
       "<tr>\n",
       "  <th>Departmenthr</th>          <td>    0.2744</td> <td>    0.110</td> <td>    2.495</td> <td> 0.013</td> <td>    0.059</td> <td>    0.490</td>\n",
       "</tr>\n",
       "<tr>\n",
       "  <th>Departmentmanagement</th>  <td>   -0.4565</td> <td>    0.149</td> <td>   -3.065</td> <td> 0.002</td> <td>   -0.748</td> <td>   -0.165</td>\n",
       "</tr>\n",
       "</table>"
      ],
      "text/plain": [
       "<class 'statsmodels.iolib.summary.Summary'>\n",
       "\"\"\"\n",
       "                 Generalized Linear Model Regression Results                  \n",
       "==============================================================================\n",
       "Dep. Variable:                   left   No. Observations:                11249\n",
       "Model:                            GLM   Df Residuals:                    11237\n",
       "Model Family:                Binomial   Df Model:                           11\n",
       "Link Function:                  logit   Scale:                          1.0000\n",
       "Method:                          IRLS   Log-Likelihood:                -4843.0\n",
       "Date:                Tue, 11 Feb 2020   Deviance:                       9686.0\n",
       "Time:                        12:16:01   Pearson chi2:                 1.10e+04\n",
       "No. Iterations:                     6                                         \n",
       "Covariance Type:            nonrobust                                         \n",
       "=========================================================================================\n",
       "                            coef    std err          z      P>|z|      [0.025      0.975]\n",
       "-----------------------------------------------------------------------------------------\n",
       "satisfaction_level       -4.3970      0.109    -40.231      0.000      -4.611      -4.183\n",
       "Work_accident            -1.5936      0.105    -15.147      0.000      -1.800      -1.387\n",
       "salarylow                 1.2503      0.094     13.239      0.000       1.065       1.435\n",
       "time_spend_company        0.2253      0.017     13.069      0.000       0.192       0.259\n",
       "salarymedium              0.7026      0.097      7.256      0.000       0.513       0.892\n",
       "number_project           -0.3261      0.024    -13.358      0.000      -0.374      -0.278\n",
       "average_montly_hours      0.0032      0.001      5.635      0.000       0.002       0.004\n",
       "promotion_last_5years    -1.3418      0.283     -4.739      0.000      -1.897      -0.787\n",
       "DepartmentRandD          -0.4905      0.127     -3.860      0.000      -0.740      -0.241\n",
       "last_evaluation           0.4427      0.166      2.661      0.008       0.117       0.769\n",
       "Departmenthr              0.2744      0.110      2.495      0.013       0.059       0.490\n",
       "Departmentmanagement     -0.4565      0.149     -3.065      0.002      -0.748      -0.165\n",
       "=========================================================================================\n",
       "\"\"\""
      ]
     },
     "execution_count": 48,
     "metadata": {},
     "output_type": "execute_result"
    }
   ],
   "source": [
    "final=sm.GLM(train['left'],train[features],family=sm.families.Binomial()).fit()\n",
    "final.summary()"
   ]
  },
  {
   "cell_type": "code",
   "execution_count": 49,
   "metadata": {},
   "outputs": [
    {
     "data": {
      "text/plain": [
       "0.8059544258951097"
      ]
     },
     "execution_count": 49,
     "metadata": {},
     "output_type": "execute_result"
    }
   ],
   "source": [
    "#AUC\n",
    "pred=final.predict(test[features])\n",
    "metrics.roc_auc_score(test['left'],pred)"
   ]
  },
  {
   "cell_type": "code",
   "execution_count": 50,
   "metadata": {},
   "outputs": [
    {
     "data": {
      "text/html": [
       "<table class=\"simpletable\">\n",
       "<caption>Generalized Linear Model Regression Results</caption>\n",
       "<tr>\n",
       "  <th>Dep. Variable:</th>         <td>left</td>       <th>  No. Observations:  </th>  <td> 11249</td> \n",
       "</tr>\n",
       "<tr>\n",
       "  <th>Model:</th>                  <td>GLM</td>       <th>  Df Residuals:      </th>  <td> 11238</td> \n",
       "</tr>\n",
       "<tr>\n",
       "  <th>Model Family:</th>        <td>Binomial</td>     <th>  Df Model:          </th>  <td>    10</td> \n",
       "</tr>\n",
       "<tr>\n",
       "  <th>Link Function:</th>         <td>logit</td>      <th>  Scale:             </th> <td>  1.0000</td>\n",
       "</tr>\n",
       "<tr>\n",
       "  <th>Method:</th>                <td>IRLS</td>       <th>  Log-Likelihood:    </th> <td> -4870.7</td>\n",
       "</tr>\n",
       "<tr>\n",
       "  <th>Date:</th>            <td>Tue, 11 Feb 2020</td> <th>  Deviance:          </th> <td>  9741.3</td>\n",
       "</tr>\n",
       "<tr>\n",
       "  <th>Time:</th>                <td>12:16:12</td>     <th>  Pearson chi2:      </th> <td>1.07e+04</td>\n",
       "</tr>\n",
       "<tr>\n",
       "  <th>No. Iterations:</th>          <td>6</td>        <th>                     </th>     <td> </td>   \n",
       "</tr>\n",
       "<tr>\n",
       "  <th>Covariance Type:</th>     <td>nonrobust</td>    <th>                     </th>     <td> </td>   \n",
       "</tr>\n",
       "</table>\n",
       "<table class=\"simpletable\">\n",
       "<tr>\n",
       "            <td></td>               <th>coef</th>     <th>std err</th>      <th>z</th>      <th>P>|z|</th>  <th>[0.025</th>    <th>0.975]</th>  \n",
       "</tr>\n",
       "<tr>\n",
       "  <th>satisfaction_level</th>    <td>   -4.2220</td> <td>    0.106</td> <td>  -39.896</td> <td> 0.000</td> <td>   -4.429</td> <td>   -4.015</td>\n",
       "</tr>\n",
       "<tr>\n",
       "  <th>Work_accident</th>         <td>   -1.5792</td> <td>    0.105</td> <td>  -15.005</td> <td> 0.000</td> <td>   -1.785</td> <td>   -1.373</td>\n",
       "</tr>\n",
       "<tr>\n",
       "  <th>salarylow</th>             <td>    0.6833</td> <td>    0.050</td> <td>   13.623</td> <td> 0.000</td> <td>    0.585</td> <td>    0.782</td>\n",
       "</tr>\n",
       "<tr>\n",
       "  <th>time_spend_company</th>    <td>    0.2445</td> <td>    0.017</td> <td>   14.486</td> <td> 0.000</td> <td>    0.211</td> <td>    0.278</td>\n",
       "</tr>\n",
       "<tr>\n",
       "  <th>number_project</th>        <td>   -0.3151</td> <td>    0.024</td> <td>  -12.941</td> <td> 0.000</td> <td>   -0.363</td> <td>   -0.267</td>\n",
       "</tr>\n",
       "<tr>\n",
       "  <th>average_montly_hours</th>  <td>    0.0041</td> <td>    0.001</td> <td>    7.458</td> <td> 0.000</td> <td>    0.003</td> <td>    0.005</td>\n",
       "</tr>\n",
       "<tr>\n",
       "  <th>promotion_last_5years</th> <td>   -1.3929</td> <td>    0.285</td> <td>   -4.880</td> <td> 0.000</td> <td>   -1.952</td> <td>   -0.833</td>\n",
       "</tr>\n",
       "<tr>\n",
       "  <th>DepartmentRandD</th>       <td>   -0.4650</td> <td>    0.127</td> <td>   -3.676</td> <td> 0.000</td> <td>   -0.713</td> <td>   -0.217</td>\n",
       "</tr>\n",
       "<tr>\n",
       "  <th>last_evaluation</th>       <td>    0.7012</td> <td>    0.162</td> <td>    4.329</td> <td> 0.000</td> <td>    0.384</td> <td>    1.019</td>\n",
       "</tr>\n",
       "<tr>\n",
       "  <th>Departmenthr</th>          <td>    0.3234</td> <td>    0.109</td> <td>    2.969</td> <td> 0.003</td> <td>    0.110</td> <td>    0.537</td>\n",
       "</tr>\n",
       "<tr>\n",
       "  <th>Departmentmanagement</th>  <td>   -0.5812</td> <td>    0.147</td> <td>   -3.950</td> <td> 0.000</td> <td>   -0.870</td> <td>   -0.293</td>\n",
       "</tr>\n",
       "</table>"
      ],
      "text/plain": [
       "<class 'statsmodels.iolib.summary.Summary'>\n",
       "\"\"\"\n",
       "                 Generalized Linear Model Regression Results                  \n",
       "==============================================================================\n",
       "Dep. Variable:                   left   No. Observations:                11249\n",
       "Model:                            GLM   Df Residuals:                    11238\n",
       "Model Family:                Binomial   Df Model:                           10\n",
       "Link Function:                  logit   Scale:                          1.0000\n",
       "Method:                          IRLS   Log-Likelihood:                -4870.7\n",
       "Date:                Tue, 11 Feb 2020   Deviance:                       9741.3\n",
       "Time:                        12:16:12   Pearson chi2:                 1.07e+04\n",
       "No. Iterations:                     6                                         \n",
       "Covariance Type:            nonrobust                                         \n",
       "=========================================================================================\n",
       "                            coef    std err          z      P>|z|      [0.025      0.975]\n",
       "-----------------------------------------------------------------------------------------\n",
       "satisfaction_level       -4.2220      0.106    -39.896      0.000      -4.429      -4.015\n",
       "Work_accident            -1.5792      0.105    -15.005      0.000      -1.785      -1.373\n",
       "salarylow                 0.6833      0.050     13.623      0.000       0.585       0.782\n",
       "time_spend_company        0.2445      0.017     14.486      0.000       0.211       0.278\n",
       "number_project           -0.3151      0.024    -12.941      0.000      -0.363      -0.267\n",
       "average_montly_hours      0.0041      0.001      7.458      0.000       0.003       0.005\n",
       "promotion_last_5years    -1.3929      0.285     -4.880      0.000      -1.952      -0.833\n",
       "DepartmentRandD          -0.4650      0.127     -3.676      0.000      -0.713      -0.217\n",
       "last_evaluation           0.7012      0.162      4.329      0.000       0.384       1.019\n",
       "Departmenthr              0.3234      0.109      2.969      0.003       0.110       0.537\n",
       "Departmentmanagement     -0.5812      0.147     -3.950      0.000      -0.870      -0.293\n",
       "=========================================================================================\n",
       "\"\"\""
      ]
     },
     "execution_count": 50,
     "metadata": {},
     "output_type": "execute_result"
    }
   ],
   "source": [
    "final1=sm.GLM(train['left'],train[features].drop('salarymedium',axis=1),family=sm.families.Binomial()).fit()\n",
    "final1.summary()"
   ]
  },
  {
   "cell_type": "code",
   "execution_count": 51,
   "metadata": {},
   "outputs": [
    {
     "data": {
      "text/plain": [
       "0.8071373538411016"
      ]
     },
     "execution_count": 51,
     "metadata": {},
     "output_type": "execute_result"
    }
   ],
   "source": [
    "#auc\n",
    "pred1=final1.predict(test[features].drop(['salarymedium'],axis=1))\n",
    "metrics.roc_auc_score(test['left'],pred1)"
   ]
  },
  {
   "cell_type": "code",
   "execution_count": 52,
   "metadata": {},
   "outputs": [
    {
     "data": {
      "text/html": [
       "<table class=\"simpletable\">\n",
       "<caption>Generalized Linear Model Regression Results</caption>\n",
       "<tr>\n",
       "  <th>Dep. Variable:</th>         <td>left</td>       <th>  No. Observations:  </th>  <td> 11249</td> \n",
       "</tr>\n",
       "<tr>\n",
       "  <th>Model:</th>                  <td>GLM</td>       <th>  Df Residuals:      </th>  <td> 11239</td> \n",
       "</tr>\n",
       "<tr>\n",
       "  <th>Model Family:</th>        <td>Binomial</td>     <th>  Df Model:          </th>  <td>     9</td> \n",
       "</tr>\n",
       "<tr>\n",
       "  <th>Link Function:</th>         <td>logit</td>      <th>  Scale:             </th> <td>  1.0000</td>\n",
       "</tr>\n",
       "<tr>\n",
       "  <th>Method:</th>                <td>IRLS</td>       <th>  Log-Likelihood:    </th> <td> -4965.6</td>\n",
       "</tr>\n",
       "<tr>\n",
       "  <th>Date:</th>            <td>Tue, 11 Feb 2020</td> <th>  Deviance:          </th> <td>  9931.2</td>\n",
       "</tr>\n",
       "<tr>\n",
       "  <th>Time:</th>                <td>12:16:13</td>     <th>  Pearson chi2:      </th> <td>1.05e+04</td>\n",
       "</tr>\n",
       "<tr>\n",
       "  <th>No. Iterations:</th>          <td>6</td>        <th>                     </th>     <td> </td>   \n",
       "</tr>\n",
       "<tr>\n",
       "  <th>Covariance Type:</th>     <td>nonrobust</td>    <th>                     </th>     <td> </td>   \n",
       "</tr>\n",
       "</table>\n",
       "<table class=\"simpletable\">\n",
       "<tr>\n",
       "            <td></td>               <th>coef</th>     <th>std err</th>      <th>z</th>      <th>P>|z|</th>  <th>[0.025</th>    <th>0.975]</th>  \n",
       "</tr>\n",
       "<tr>\n",
       "  <th>satisfaction_level</th>    <td>   -4.0932</td> <td>    0.104</td> <td>  -39.399</td> <td> 0.000</td> <td>   -4.297</td> <td>   -3.890</td>\n",
       "</tr>\n",
       "<tr>\n",
       "  <th>Work_accident</th>         <td>   -1.5409</td> <td>    0.104</td> <td>  -14.782</td> <td> 0.000</td> <td>   -1.745</td> <td>   -1.337</td>\n",
       "</tr>\n",
       "<tr>\n",
       "  <th>time_spend_company</th>    <td>    0.2426</td> <td>    0.017</td> <td>   14.576</td> <td> 0.000</td> <td>    0.210</td> <td>    0.275</td>\n",
       "</tr>\n",
       "<tr>\n",
       "  <th>number_project</th>        <td>   -0.3096</td> <td>    0.024</td> <td>  -12.795</td> <td> 0.000</td> <td>   -0.357</td> <td>   -0.262</td>\n",
       "</tr>\n",
       "<tr>\n",
       "  <th>average_montly_hours</th>  <td>    0.0047</td> <td>    0.001</td> <td>    8.624</td> <td> 0.000</td> <td>    0.004</td> <td>    0.006</td>\n",
       "</tr>\n",
       "<tr>\n",
       "  <th>promotion_last_5years</th> <td>   -1.5134</td> <td>    0.284</td> <td>   -5.335</td> <td> 0.000</td> <td>   -2.069</td> <td>   -0.957</td>\n",
       "</tr>\n",
       "<tr>\n",
       "  <th>DepartmentRandD</th>       <td>   -0.4829</td> <td>    0.126</td> <td>   -3.847</td> <td> 0.000</td> <td>   -0.729</td> <td>   -0.237</td>\n",
       "</tr>\n",
       "<tr>\n",
       "  <th>last_evaluation</th>       <td>    0.9237</td> <td>    0.159</td> <td>    5.807</td> <td> 0.000</td> <td>    0.612</td> <td>    1.235</td>\n",
       "</tr>\n",
       "<tr>\n",
       "  <th>Departmenthr</th>          <td>    0.2974</td> <td>    0.108</td> <td>    2.748</td> <td> 0.006</td> <td>    0.085</td> <td>    0.509</td>\n",
       "</tr>\n",
       "<tr>\n",
       "  <th>Departmentmanagement</th>  <td>   -0.7207</td> <td>    0.146</td> <td>   -4.937</td> <td> 0.000</td> <td>   -1.007</td> <td>   -0.435</td>\n",
       "</tr>\n",
       "</table>"
      ],
      "text/plain": [
       "<class 'statsmodels.iolib.summary.Summary'>\n",
       "\"\"\"\n",
       "                 Generalized Linear Model Regression Results                  \n",
       "==============================================================================\n",
       "Dep. Variable:                   left   No. Observations:                11249\n",
       "Model:                            GLM   Df Residuals:                    11239\n",
       "Model Family:                Binomial   Df Model:                            9\n",
       "Link Function:                  logit   Scale:                          1.0000\n",
       "Method:                          IRLS   Log-Likelihood:                -4965.6\n",
       "Date:                Tue, 11 Feb 2020   Deviance:                       9931.2\n",
       "Time:                        12:16:13   Pearson chi2:                 1.05e+04\n",
       "No. Iterations:                     6                                         \n",
       "Covariance Type:            nonrobust                                         \n",
       "=========================================================================================\n",
       "                            coef    std err          z      P>|z|      [0.025      0.975]\n",
       "-----------------------------------------------------------------------------------------\n",
       "satisfaction_level       -4.0932      0.104    -39.399      0.000      -4.297      -3.890\n",
       "Work_accident            -1.5409      0.104    -14.782      0.000      -1.745      -1.337\n",
       "time_spend_company        0.2426      0.017     14.576      0.000       0.210       0.275\n",
       "number_project           -0.3096      0.024    -12.795      0.000      -0.357      -0.262\n",
       "average_montly_hours      0.0047      0.001      8.624      0.000       0.004       0.006\n",
       "promotion_last_5years    -1.5134      0.284     -5.335      0.000      -2.069      -0.957\n",
       "DepartmentRandD          -0.4829      0.126     -3.847      0.000      -0.729      -0.237\n",
       "last_evaluation           0.9237      0.159      5.807      0.000       0.612       1.235\n",
       "Departmenthr              0.2974      0.108      2.748      0.006       0.085       0.509\n",
       "Departmentmanagement     -0.7207      0.146     -4.937      0.000      -1.007      -0.435\n",
       "=========================================================================================\n",
       "\"\"\""
      ]
     },
     "execution_count": 52,
     "metadata": {},
     "output_type": "execute_result"
    }
   ],
   "source": [
    "final2=sm.GLM(train['left'],train[features].drop(['salarymedium','salarylow'],axis=1),family=sm.families.Binomial()).fit()\n",
    "final2.summary()"
   ]
  },
  {
   "cell_type": "code",
   "execution_count": 53,
   "metadata": {},
   "outputs": [
    {
     "data": {
      "text/plain": [
       "0.8022013827271206"
      ]
     },
     "execution_count": 53,
     "metadata": {},
     "output_type": "execute_result"
    }
   ],
   "source": [
    "#auc\n",
    "pred2=final2.predict(test[features].drop(['salarymedium','salarylow'],axis=1))\n",
    "metrics.roc_auc_score(test['left'],pred2)"
   ]
  },
  {
   "cell_type": "code",
   "execution_count": 54,
   "metadata": {},
   "outputs": [
    {
     "name": "stderr",
     "output_type": "stream",
     "text": [
      "C:\\Users\\Gudavalli\\Anaconda3\\lib\\site-packages\\sklearn\\linear_model\\_logistic.py:940: ConvergenceWarning: lbfgs failed to converge (status=1):\n",
      "STOP: TOTAL NO. of ITERATIONS REACHED LIMIT.\n",
      "\n",
      "Increase the number of iterations (max_iter) or scale the data as shown in:\n",
      "    https://scikit-learn.org/stable/modules/preprocessing.html\n",
      "Please also refer to the documentation for alternative solver options:\n",
      "    https://scikit-learn.org/stable/modules/linear_model.html#logistic-regression\n",
      "  extra_warning_msg=_LOGISTIC_SOLVER_CONVERGENCE_MSG)\n"
     ]
    },
    {
     "data": {
      "text/plain": [
       "LogisticRegression(C=1.0, class_weight=None, dual=False, fit_intercept=True,\n",
       "                   intercept_scaling=1, l1_ratio=None, max_iter=100,\n",
       "                   multi_class='auto', n_jobs=None, penalty='l2',\n",
       "                   random_state=None, solver='lbfgs', tol=0.0001, verbose=0,\n",
       "                   warm_start=False)"
      ]
     },
     "execution_count": 54,
     "metadata": {},
     "output_type": "execute_result"
    }
   ],
   "source": [
    "# in MACHINE LEARNING APPROACH\n",
    "from sklearn.linear_model import LogisticRegression\n",
    "binary=LogisticRegression()\n",
    "binary.fit(train.drop('left',axis=1),train['left'])"
   ]
  },
  {
   "cell_type": "code",
   "execution_count": 55,
   "metadata": {},
   "outputs": [
    {
     "data": {
      "text/plain": [
       "0.7885145346253001"
      ]
     },
     "execution_count": 55,
     "metadata": {},
     "output_type": "execute_result"
    }
   ],
   "source": [
    "binary.score(train.drop('left',axis=1),train['left'])"
   ]
  },
  {
   "cell_type": "code",
   "execution_count": 56,
   "metadata": {},
   "outputs": [
    {
     "data": {
      "text/plain": [
       "0.7946666666666666"
      ]
     },
     "execution_count": 56,
     "metadata": {},
     "output_type": "execute_result"
    }
   ],
   "source": [
    "binary.score(test.drop(['prob','deciles','left'],axis=1),test['left'])"
   ]
  },
  {
   "cell_type": "markdown",
   "metadata": {},
   "source": [
    "# PCA"
   ]
  },
  {
   "cell_type": "code",
   "execution_count": 58,
   "metadata": {},
   "outputs": [],
   "source": [
    "x_train=train.drop('left',axis=1)"
   ]
  },
  {
   "cell_type": "code",
   "execution_count": 80,
   "metadata": {},
   "outputs": [
    {
     "data": {
      "text/plain": [
       "(11249, 4)"
      ]
     },
     "execution_count": 80,
     "metadata": {},
     "output_type": "execute_result"
    }
   ],
   "source": [
    "from sklearn import decomposition\n",
    "pca=decomposition.PCA(n_components=4)\n",
    "x1=pca.fit_transform(x_train)\n",
    "x1.shape"
   ]
  },
  {
   "cell_type": "code",
   "execution_count": 81,
   "metadata": {},
   "outputs": [
    {
     "data": {
      "text/plain": [
       "array([9.98000279e-01, 8.72338108e-04, 4.71157993e-04, 1.82875110e-04])"
      ]
     },
     "execution_count": 81,
     "metadata": {},
     "output_type": "execute_result"
    }
   ],
   "source": [
    "pca.explained_variance_ratio_"
   ]
  },
  {
   "cell_type": "code",
   "execution_count": 82,
   "metadata": {},
   "outputs": [
    {
     "data": {
      "text/plain": [
       "0.9995266506516144"
      ]
     },
     "execution_count": 82,
     "metadata": {},
     "output_type": "execute_result"
    }
   ],
   "source": [
    "np.sum(pca.explained_variance_ratio_)"
   ]
  },
  {
   "cell_type": "code",
   "execution_count": 83,
   "metadata": {},
   "outputs": [
    {
     "data": {
      "text/html": [
       "<table class=\"simpletable\">\n",
       "<caption>Generalized Linear Model Regression Results</caption>\n",
       "<tr>\n",
       "  <th>Dep. Variable:</th>         <td>left</td>       <th>  No. Observations:  </th>  <td> 11249</td> \n",
       "</tr>\n",
       "<tr>\n",
       "  <th>Model:</th>                  <td>GLM</td>       <th>  Df Residuals:      </th>  <td> 11245</td> \n",
       "</tr>\n",
       "<tr>\n",
       "  <th>Model Family:</th>        <td>Binomial</td>     <th>  Df Model:          </th>  <td>     3</td> \n",
       "</tr>\n",
       "<tr>\n",
       "  <th>Link Function:</th>         <td>logit</td>      <th>  Scale:             </th> <td>  1.0000</td>\n",
       "</tr>\n",
       "<tr>\n",
       "  <th>Method:</th>                <td>IRLS</td>       <th>  Log-Likelihood:    </th> <td> -7640.2</td>\n",
       "</tr>\n",
       "<tr>\n",
       "  <th>Date:</th>            <td>Tue, 11 Feb 2020</td> <th>  Deviance:          </th> <td>  15280.</td>\n",
       "</tr>\n",
       "<tr>\n",
       "  <th>Time:</th>                <td>13:06:03</td>     <th>  Pearson chi2:      </th> <td>1.13e+04</td>\n",
       "</tr>\n",
       "<tr>\n",
       "  <th>No. Iterations:</th>          <td>4</td>        <th>                     </th>     <td> </td>   \n",
       "</tr>\n",
       "<tr>\n",
       "  <th>Covariance Type:</th>     <td>nonrobust</td>    <th>                     </th>     <td> </td>   \n",
       "</tr>\n",
       "</table>\n",
       "<table class=\"simpletable\">\n",
       "<tr>\n",
       "   <td></td>     <th>coef</th>     <th>std err</th>      <th>z</th>      <th>P>|z|</th>  <th>[0.025</th>    <th>0.975]</th>  \n",
       "</tr>\n",
       "<tr>\n",
       "  <th>x1</th> <td>    0.0025</td> <td>    0.000</td> <td>    6.492</td> <td> 0.000</td> <td>    0.002</td> <td>    0.003</td>\n",
       "</tr>\n",
       "<tr>\n",
       "  <th>x2</th> <td>    0.1532</td> <td>    0.013</td> <td>   11.385</td> <td> 0.000</td> <td>    0.127</td> <td>    0.180</td>\n",
       "</tr>\n",
       "<tr>\n",
       "  <th>x3</th> <td>    0.0930</td> <td>    0.018</td> <td>    5.227</td> <td> 0.000</td> <td>    0.058</td> <td>    0.128</td>\n",
       "</tr>\n",
       "<tr>\n",
       "  <th>x4</th> <td>    0.2993</td> <td>    0.028</td> <td>   10.570</td> <td> 0.000</td> <td>    0.244</td> <td>    0.355</td>\n",
       "</tr>\n",
       "</table>"
      ],
      "text/plain": [
       "<class 'statsmodels.iolib.summary.Summary'>\n",
       "\"\"\"\n",
       "                 Generalized Linear Model Regression Results                  \n",
       "==============================================================================\n",
       "Dep. Variable:                   left   No. Observations:                11249\n",
       "Model:                            GLM   Df Residuals:                    11245\n",
       "Model Family:                Binomial   Df Model:                            3\n",
       "Link Function:                  logit   Scale:                          1.0000\n",
       "Method:                          IRLS   Log-Likelihood:                -7640.2\n",
       "Date:                Tue, 11 Feb 2020   Deviance:                       15280.\n",
       "Time:                        13:06:03   Pearson chi2:                 1.13e+04\n",
       "No. Iterations:                     4                                         \n",
       "Covariance Type:            nonrobust                                         \n",
       "==============================================================================\n",
       "                 coef    std err          z      P>|z|      [0.025      0.975]\n",
       "------------------------------------------------------------------------------\n",
       "x1             0.0025      0.000      6.492      0.000       0.002       0.003\n",
       "x2             0.1532      0.013     11.385      0.000       0.127       0.180\n",
       "x3             0.0930      0.018      5.227      0.000       0.058       0.128\n",
       "x4             0.2993      0.028     10.570      0.000       0.244       0.355\n",
       "==============================================================================\n",
       "\"\"\""
      ]
     },
     "execution_count": 83,
     "metadata": {},
     "output_type": "execute_result"
    }
   ],
   "source": [
    "final1=sm.GLM(train['left'],x1,family=sm.families.Binomial()).fit()\n",
    "final1.summary()"
   ]
  },
  {
   "cell_type": "code",
   "execution_count": 65,
   "metadata": {},
   "outputs": [
    {
     "data": {
      "text/plain": [
       "0.6534114395950915"
      ]
     },
     "execution_count": 65,
     "metadata": {},
     "output_type": "execute_result"
    }
   ],
   "source": [
    "#AUC\n",
    "from sklearn import metrics\n",
    "pred=final1.predict(x1)\n",
    "metrics.roc_auc_score(train['left'],pred)"
   ]
  },
  {
   "cell_type": "code",
   "execution_count": 87,
   "metadata": {},
   "outputs": [
    {
     "data": {
      "text/html": [
       "<div>\n",
       "<style scoped>\n",
       "    .dataframe tbody tr th:only-of-type {\n",
       "        vertical-align: middle;\n",
       "    }\n",
       "\n",
       "    .dataframe tbody tr th {\n",
       "        vertical-align: top;\n",
       "    }\n",
       "\n",
       "    .dataframe thead th {\n",
       "        text-align: right;\n",
       "    }\n",
       "</style>\n",
       "<table border=\"1\" class=\"dataframe\">\n",
       "  <thead>\n",
       "    <tr style=\"text-align: right;\">\n",
       "      <th></th>\n",
       "      <th>satisfaction_level</th>\n",
       "      <th>last_evaluation</th>\n",
       "      <th>number_project</th>\n",
       "      <th>average_montly_hours</th>\n",
       "      <th>time_spend_company</th>\n",
       "      <th>Work_accident</th>\n",
       "      <th>promotion_last_5years</th>\n",
       "      <th>DepartmentIT</th>\n",
       "      <th>DepartmentRandD</th>\n",
       "      <th>Departmentaccounting</th>\n",
       "      <th>Departmenthr</th>\n",
       "      <th>Departmentmanagement</th>\n",
       "      <th>Departmentmarketing</th>\n",
       "      <th>Departmentproduct_mng</th>\n",
       "      <th>Departmentsales</th>\n",
       "      <th>Departmentsupport</th>\n",
       "      <th>Departmenttechnical</th>\n",
       "      <th>salaryhigh</th>\n",
       "      <th>salarylow</th>\n",
       "      <th>salarymedium</th>\n",
       "    </tr>\n",
       "  </thead>\n",
       "  <tbody>\n",
       "    <tr>\n",
       "      <td>0</td>\n",
       "      <td>0.38</td>\n",
       "      <td>0.53</td>\n",
       "      <td>2</td>\n",
       "      <td>157</td>\n",
       "      <td>3</td>\n",
       "      <td>0</td>\n",
       "      <td>0</td>\n",
       "      <td>0</td>\n",
       "      <td>0</td>\n",
       "      <td>0</td>\n",
       "      <td>0</td>\n",
       "      <td>0</td>\n",
       "      <td>0</td>\n",
       "      <td>0</td>\n",
       "      <td>1</td>\n",
       "      <td>0</td>\n",
       "      <td>0</td>\n",
       "      <td>0</td>\n",
       "      <td>1</td>\n",
       "      <td>0</td>\n",
       "    </tr>\n",
       "    <tr>\n",
       "      <td>2</td>\n",
       "      <td>0.11</td>\n",
       "      <td>0.88</td>\n",
       "      <td>7</td>\n",
       "      <td>272</td>\n",
       "      <td>4</td>\n",
       "      <td>0</td>\n",
       "      <td>0</td>\n",
       "      <td>0</td>\n",
       "      <td>0</td>\n",
       "      <td>0</td>\n",
       "      <td>0</td>\n",
       "      <td>0</td>\n",
       "      <td>0</td>\n",
       "      <td>0</td>\n",
       "      <td>1</td>\n",
       "      <td>0</td>\n",
       "      <td>0</td>\n",
       "      <td>0</td>\n",
       "      <td>0</td>\n",
       "      <td>1</td>\n",
       "    </tr>\n",
       "    <tr>\n",
       "      <td>14</td>\n",
       "      <td>0.36</td>\n",
       "      <td>0.56</td>\n",
       "      <td>2</td>\n",
       "      <td>137</td>\n",
       "      <td>3</td>\n",
       "      <td>0</td>\n",
       "      <td>0</td>\n",
       "      <td>0</td>\n",
       "      <td>0</td>\n",
       "      <td>0</td>\n",
       "      <td>0</td>\n",
       "      <td>0</td>\n",
       "      <td>0</td>\n",
       "      <td>0</td>\n",
       "      <td>1</td>\n",
       "      <td>0</td>\n",
       "      <td>0</td>\n",
       "      <td>0</td>\n",
       "      <td>1</td>\n",
       "      <td>0</td>\n",
       "    </tr>\n",
       "    <tr>\n",
       "      <td>15</td>\n",
       "      <td>0.38</td>\n",
       "      <td>0.54</td>\n",
       "      <td>2</td>\n",
       "      <td>143</td>\n",
       "      <td>3</td>\n",
       "      <td>0</td>\n",
       "      <td>0</td>\n",
       "      <td>0</td>\n",
       "      <td>0</td>\n",
       "      <td>0</td>\n",
       "      <td>0</td>\n",
       "      <td>0</td>\n",
       "      <td>0</td>\n",
       "      <td>0</td>\n",
       "      <td>1</td>\n",
       "      <td>0</td>\n",
       "      <td>0</td>\n",
       "      <td>0</td>\n",
       "      <td>1</td>\n",
       "      <td>0</td>\n",
       "    </tr>\n",
       "    <tr>\n",
       "      <td>18</td>\n",
       "      <td>0.45</td>\n",
       "      <td>0.51</td>\n",
       "      <td>2</td>\n",
       "      <td>160</td>\n",
       "      <td>3</td>\n",
       "      <td>1</td>\n",
       "      <td>1</td>\n",
       "      <td>0</td>\n",
       "      <td>0</td>\n",
       "      <td>0</td>\n",
       "      <td>0</td>\n",
       "      <td>0</td>\n",
       "      <td>0</td>\n",
       "      <td>0</td>\n",
       "      <td>1</td>\n",
       "      <td>0</td>\n",
       "      <td>0</td>\n",
       "      <td>0</td>\n",
       "      <td>1</td>\n",
       "      <td>0</td>\n",
       "    </tr>\n",
       "  </tbody>\n",
       "</table>\n",
       "</div>"
      ],
      "text/plain": [
       "    satisfaction_level  last_evaluation  number_project  average_montly_hours  \\\n",
       "0                 0.38             0.53               2                   157   \n",
       "2                 0.11             0.88               7                   272   \n",
       "14                0.36             0.56               2                   137   \n",
       "15                0.38             0.54               2                   143   \n",
       "18                0.45             0.51               2                   160   \n",
       "\n",
       "    time_spend_company  Work_accident  promotion_last_5years  DepartmentIT  \\\n",
       "0                    3              0                      0             0   \n",
       "2                    4              0                      0             0   \n",
       "14                   3              0                      0             0   \n",
       "15                   3              0                      0             0   \n",
       "18                   3              1                      1             0   \n",
       "\n",
       "    DepartmentRandD  Departmentaccounting  Departmenthr  Departmentmanagement  \\\n",
       "0                 0                     0             0                     0   \n",
       "2                 0                     0             0                     0   \n",
       "14                0                     0             0                     0   \n",
       "15                0                     0             0                     0   \n",
       "18                0                     0             0                     0   \n",
       "\n",
       "    Departmentmarketing  Departmentproduct_mng  Departmentsales  \\\n",
       "0                     0                      0                1   \n",
       "2                     0                      0                1   \n",
       "14                    0                      0                1   \n",
       "15                    0                      0                1   \n",
       "18                    0                      0                1   \n",
       "\n",
       "    Departmentsupport  Departmenttechnical  salaryhigh  salarylow  \\\n",
       "0                   0                    0           0          1   \n",
       "2                   0                    0           0          0   \n",
       "14                  0                    0           0          1   \n",
       "15                  0                    0           0          1   \n",
       "18                  0                    0           0          1   \n",
       "\n",
       "    salarymedium  \n",
       "0              0  \n",
       "2              1  \n",
       "14             0  \n",
       "15             0  \n",
       "18             0  "
      ]
     },
     "execution_count": 87,
     "metadata": {},
     "output_type": "execute_result"
    }
   ],
   "source": [
    "test.head()"
   ]
  },
  {
   "cell_type": "code",
   "execution_count": 91,
   "metadata": {},
   "outputs": [
    {
     "data": {
      "text/html": [
       "<div>\n",
       "<style scoped>\n",
       "    .dataframe tbody tr th:only-of-type {\n",
       "        vertical-align: middle;\n",
       "    }\n",
       "\n",
       "    .dataframe tbody tr th {\n",
       "        vertical-align: top;\n",
       "    }\n",
       "\n",
       "    .dataframe thead th {\n",
       "        text-align: right;\n",
       "    }\n",
       "</style>\n",
       "<table border=\"1\" class=\"dataframe\">\n",
       "  <thead>\n",
       "    <tr style=\"text-align: right;\">\n",
       "      <th></th>\n",
       "      <th>satisfaction_level</th>\n",
       "      <th>last_evaluation</th>\n",
       "      <th>number_project</th>\n",
       "      <th>average_montly_hours</th>\n",
       "      <th>time_spend_company</th>\n",
       "      <th>Work_accident</th>\n",
       "      <th>promotion_last_5years</th>\n",
       "      <th>DepartmentIT</th>\n",
       "      <th>DepartmentRandD</th>\n",
       "      <th>Departmentaccounting</th>\n",
       "      <th>Departmenthr</th>\n",
       "      <th>Departmentmanagement</th>\n",
       "      <th>Departmentmarketing</th>\n",
       "      <th>Departmentproduct_mng</th>\n",
       "      <th>Departmentsales</th>\n",
       "      <th>Departmentsupport</th>\n",
       "      <th>Departmenttechnical</th>\n",
       "      <th>salaryhigh</th>\n",
       "      <th>salarylow</th>\n",
       "      <th>salarymedium</th>\n",
       "    </tr>\n",
       "  </thead>\n",
       "  <tbody>\n",
       "    <tr>\n",
       "      <td>0</td>\n",
       "      <td>0.38</td>\n",
       "      <td>0.53</td>\n",
       "      <td>2</td>\n",
       "      <td>157</td>\n",
       "      <td>3</td>\n",
       "      <td>0</td>\n",
       "      <td>0</td>\n",
       "      <td>0</td>\n",
       "      <td>0</td>\n",
       "      <td>0</td>\n",
       "      <td>0</td>\n",
       "      <td>0</td>\n",
       "      <td>0</td>\n",
       "      <td>0</td>\n",
       "      <td>1</td>\n",
       "      <td>0</td>\n",
       "      <td>0</td>\n",
       "      <td>0</td>\n",
       "      <td>1</td>\n",
       "      <td>0</td>\n",
       "    </tr>\n",
       "    <tr>\n",
       "      <td>2</td>\n",
       "      <td>0.11</td>\n",
       "      <td>0.88</td>\n",
       "      <td>7</td>\n",
       "      <td>272</td>\n",
       "      <td>4</td>\n",
       "      <td>0</td>\n",
       "      <td>0</td>\n",
       "      <td>0</td>\n",
       "      <td>0</td>\n",
       "      <td>0</td>\n",
       "      <td>0</td>\n",
       "      <td>0</td>\n",
       "      <td>0</td>\n",
       "      <td>0</td>\n",
       "      <td>1</td>\n",
       "      <td>0</td>\n",
       "      <td>0</td>\n",
       "      <td>0</td>\n",
       "      <td>0</td>\n",
       "      <td>1</td>\n",
       "    </tr>\n",
       "    <tr>\n",
       "      <td>14</td>\n",
       "      <td>0.36</td>\n",
       "      <td>0.56</td>\n",
       "      <td>2</td>\n",
       "      <td>137</td>\n",
       "      <td>3</td>\n",
       "      <td>0</td>\n",
       "      <td>0</td>\n",
       "      <td>0</td>\n",
       "      <td>0</td>\n",
       "      <td>0</td>\n",
       "      <td>0</td>\n",
       "      <td>0</td>\n",
       "      <td>0</td>\n",
       "      <td>0</td>\n",
       "      <td>1</td>\n",
       "      <td>0</td>\n",
       "      <td>0</td>\n",
       "      <td>0</td>\n",
       "      <td>1</td>\n",
       "      <td>0</td>\n",
       "    </tr>\n",
       "    <tr>\n",
       "      <td>15</td>\n",
       "      <td>0.38</td>\n",
       "      <td>0.54</td>\n",
       "      <td>2</td>\n",
       "      <td>143</td>\n",
       "      <td>3</td>\n",
       "      <td>0</td>\n",
       "      <td>0</td>\n",
       "      <td>0</td>\n",
       "      <td>0</td>\n",
       "      <td>0</td>\n",
       "      <td>0</td>\n",
       "      <td>0</td>\n",
       "      <td>0</td>\n",
       "      <td>0</td>\n",
       "      <td>1</td>\n",
       "      <td>0</td>\n",
       "      <td>0</td>\n",
       "      <td>0</td>\n",
       "      <td>1</td>\n",
       "      <td>0</td>\n",
       "    </tr>\n",
       "    <tr>\n",
       "      <td>18</td>\n",
       "      <td>0.45</td>\n",
       "      <td>0.51</td>\n",
       "      <td>2</td>\n",
       "      <td>160</td>\n",
       "      <td>3</td>\n",
       "      <td>1</td>\n",
       "      <td>1</td>\n",
       "      <td>0</td>\n",
       "      <td>0</td>\n",
       "      <td>0</td>\n",
       "      <td>0</td>\n",
       "      <td>0</td>\n",
       "      <td>0</td>\n",
       "      <td>0</td>\n",
       "      <td>1</td>\n",
       "      <td>0</td>\n",
       "      <td>0</td>\n",
       "      <td>0</td>\n",
       "      <td>1</td>\n",
       "      <td>0</td>\n",
       "    </tr>\n",
       "  </tbody>\n",
       "</table>\n",
       "</div>"
      ],
      "text/plain": [
       "    satisfaction_level  last_evaluation  number_project  average_montly_hours  \\\n",
       "0                 0.38             0.53               2                   157   \n",
       "2                 0.11             0.88               7                   272   \n",
       "14                0.36             0.56               2                   137   \n",
       "15                0.38             0.54               2                   143   \n",
       "18                0.45             0.51               2                   160   \n",
       "\n",
       "    time_spend_company  Work_accident  promotion_last_5years  DepartmentIT  \\\n",
       "0                    3              0                      0             0   \n",
       "2                    4              0                      0             0   \n",
       "14                   3              0                      0             0   \n",
       "15                   3              0                      0             0   \n",
       "18                   3              1                      1             0   \n",
       "\n",
       "    DepartmentRandD  Departmentaccounting  Departmenthr  Departmentmanagement  \\\n",
       "0                 0                     0             0                     0   \n",
       "2                 0                     0             0                     0   \n",
       "14                0                     0             0                     0   \n",
       "15                0                     0             0                     0   \n",
       "18                0                     0             0                     0   \n",
       "\n",
       "    Departmentmarketing  Departmentproduct_mng  Departmentsales  \\\n",
       "0                     0                      0                1   \n",
       "2                     0                      0                1   \n",
       "14                    0                      0                1   \n",
       "15                    0                      0                1   \n",
       "18                    0                      0                1   \n",
       "\n",
       "    Departmentsupport  Departmenttechnical  salaryhigh  salarylow  \\\n",
       "0                   0                    0           0          1   \n",
       "2                   0                    0           0          0   \n",
       "14                  0                    0           0          1   \n",
       "15                  0                    0           0          1   \n",
       "18                  0                    0           0          1   \n",
       "\n",
       "    salarymedium  \n",
       "0              0  \n",
       "2              1  \n",
       "14             0  \n",
       "15             0  \n",
       "18             0  "
      ]
     },
     "execution_count": 91,
     "metadata": {},
     "output_type": "execute_result"
    }
   ],
   "source": [
    "x_test.head()"
   ]
  },
  {
   "cell_type": "code",
   "execution_count": 92,
   "metadata": {},
   "outputs": [],
   "source": [
    "x2=pca.transform(x_test)"
   ]
  },
  {
   "cell_type": "code",
   "execution_count": 97,
   "metadata": {},
   "outputs": [
    {
     "data": {
      "text/plain": [
       "(3750, 4)"
      ]
     },
     "execution_count": 97,
     "metadata": {},
     "output_type": "execute_result"
    }
   ],
   "source": [
    "from sklearn import decomposition\n",
    "pca=decomposition.PCA(n_components=4)\n",
    "x2=pca.fit_transform(x_test)\n",
    "x2.shape"
   ]
  },
  {
   "cell_type": "code",
   "execution_count": 100,
   "metadata": {},
   "outputs": [
    {
     "data": {
      "text/html": [
       "<table class=\"simpletable\">\n",
       "<caption>Generalized Linear Model Regression Results</caption>\n",
       "<tr>\n",
       "  <th>Dep. Variable:</th>   <td>['satisfaction_level', 'last_evaluation', 'number_project', 'average_montly_hours', 'time_spend_company', 'Work_accident', 'promotion_last_5years', 'DepartmentIT', 'DepartmentRandD', 'Departmentaccounting', 'Departmenthr', 'Departmentmanagement', 'Departmentmarketing', 'Departmentproduct_mng', 'Departmentsales', 'Departmentsupport', 'Departmenttechnical', 'salaryhigh', 'salarylow', 'salarymedium']</td> <th>  No. Observations:  </th>   <td>  3750</td>   \n",
       "</tr>\n",
       "<tr>\n",
       "  <th>Model:</th>                                                                                                                                                                                                                  <td>GLM</td>                                                                                                                                                                                                       <th>  Df Residuals:      </th>   <td>  3746</td>   \n",
       "</tr>\n",
       "<tr>\n",
       "  <th>Model Family:</th>                                                                                                                                                                                                        <td>Binomial</td>                                                                                                                                                                                                     <th>  Df Model:          </th>   <td>     3</td>   \n",
       "</tr>\n",
       "<tr>\n",
       "  <th>Link Function:</th>                                                                                                                                                                                                         <td>logit</td>                                                                                                                                                                                                      <th>  Scale:             </th>  <td>  1.0000</td>  \n",
       "</tr>\n",
       "<tr>\n",
       "  <th>Method:</th>                                                                                                                                                                                                                <td>IRLS</td>                                                                                                                                                                                                       <th>  Log-Likelihood:    </th> <td>-5.1465e+05</td>\n",
       "</tr>\n",
       "<tr>\n",
       "  <th>Date:</th>                                                                                                                                                                                                            <td>Tue, 11 Feb 2020</td>                                                                                                                                                                                                 <th>  Deviance:          </th> <td>1.0236e+06</td> \n",
       "</tr>\n",
       "<tr>\n",
       "  <th>Time:</th>                                                                                                                                                                                                                <td>13:20:13</td>                                                                                                                                                                                                     <th>  Pearson chi2:      </th>  <td>7.83e+05</td>  \n",
       "</tr>\n",
       "<tr>\n",
       "  <th>No. Iterations:</th>                                                                                                                                                                                                          <td>5</td>                                                                                                                                                                                                        <th>                     </th>      <td> </td>     \n",
       "</tr>\n",
       "<tr>\n",
       "  <th>Covariance Type:</th>                                                                                                                                                                                                     <td>nonrobust</td>                                                                                                                                                                                                    <th>                     </th>      <td> </td>     \n",
       "</tr>\n",
       "</table>\n",
       "<table class=\"simpletable\">\n",
       "<tr>\n",
       "   <td></td>     <th>coef</th>     <th>std err</th>      <th>z</th>      <th>P>|z|</th>  <th>[0.025</th>    <th>0.975]</th>  \n",
       "</tr>\n",
       "<tr>\n",
       "  <th>x1</th> <td>   -0.0098</td> <td> 4.72e-05</td> <td> -208.130</td> <td> 0.000</td> <td>   -0.010</td> <td>   -0.010</td>\n",
       "</tr>\n",
       "<tr>\n",
       "  <th>x2</th> <td>   -0.0059</td> <td>    0.002</td> <td>   -3.804</td> <td> 0.000</td> <td>   -0.009</td> <td>   -0.003</td>\n",
       "</tr>\n",
       "<tr>\n",
       "  <th>x3</th> <td>   -0.0009</td> <td>    0.002</td> <td>   -0.405</td> <td> 0.685</td> <td>   -0.005</td> <td>    0.003</td>\n",
       "</tr>\n",
       "<tr>\n",
       "  <th>x4</th> <td>   -0.0072</td> <td>    0.003</td> <td>   -2.110</td> <td> 0.035</td> <td>   -0.014</td> <td>   -0.001</td>\n",
       "</tr>\n",
       "</table>"
      ],
      "text/plain": [
       "<class 'statsmodels.iolib.summary.Summary'>\n",
       "\"\"\"\n",
       "                                                                                                                                                                                                                Generalized Linear Model Regression Results                                                                                                                                                                                                                 \n",
       "============================================================================================================================================================================================================================================================================================================================================================================================================================================================================\n",
       "Dep. Variable:     ['satisfaction_level', 'last_evaluation', 'number_project', 'average_montly_hours', 'time_spend_company', 'Work_accident', 'promotion_last_5years', 'DepartmentIT', 'DepartmentRandD', 'Departmentaccounting', 'Departmenthr', 'Departmentmanagement', 'Departmentmarketing', 'Departmentproduct_mng', 'Departmentsales', 'Departmentsupport', 'Departmenttechnical', 'salaryhigh', 'salarylow', 'salarymedium']   No. Observations:                 3750\n",
       "Model:                                                                                                                                                                                                                                                                                                                                                                                                                          GLM   Df Residuals:                     3746\n",
       "Model Family:                                                                                                                                                                                                                                                                                                                                                                                                              Binomial   Df Model:                            3\n",
       "Link Function:                                                                                                                                                                                                                                                                                                                                                                                                                logit   Scale:                          1.0000\n",
       "Method:                                                                                                                                                                                                                                                                                                                                                                                                                        IRLS   Log-Likelihood:            -5.1465e+05\n",
       "Date:                                                                                                                                                                                                                                                                                                                                                                                                              Tue, 11 Feb 2020   Deviance:                   1.0236e+06\n",
       "Time:                                                                                                                                                                                                                                                                                                                                                                                                                      13:20:13   Pearson chi2:                 7.83e+05\n",
       "No. Iterations:                                                                                                                                                                                                                                                                                                                                                                                                                   5                                         \n",
       "Covariance Type:                                                                                                                                                                                                                                                                                                                                                                                                          nonrobust                                         \n",
       "==============================================================================\n",
       "                 coef    std err          z      P>|z|      [0.025      0.975]\n",
       "------------------------------------------------------------------------------\n",
       "x1            -0.0098   4.72e-05   -208.130      0.000      -0.010      -0.010\n",
       "x2            -0.0059      0.002     -3.804      0.000      -0.009      -0.003\n",
       "x3            -0.0009      0.002     -0.405      0.685      -0.005       0.003\n",
       "x4            -0.0072      0.003     -2.110      0.035      -0.014      -0.001\n",
       "==============================================================================\n",
       "\"\"\""
      ]
     },
     "execution_count": 100,
     "metadata": {},
     "output_type": "execute_result"
    }
   ],
   "source": [
    "model=sm.GLM(x_test,x2,family=sm.families.Binomial()).fit()\n",
    "model.summary()"
   ]
  },
  {
   "cell_type": "code",
   "execution_count": null,
   "metadata": {},
   "outputs": [],
   "source": []
  }
 ],
 "metadata": {
  "kernelspec": {
   "display_name": "Python 3",
   "language": "python",
   "name": "python3"
  },
  "language_info": {
   "codemirror_mode": {
    "name": "ipython",
    "version": 3
   },
   "file_extension": ".py",
   "mimetype": "text/x-python",
   "name": "python",
   "nbconvert_exporter": "python",
   "pygments_lexer": "ipython3",
   "version": "3.7.4"
  }
 },
 "nbformat": 4,
 "nbformat_minor": 2
}
