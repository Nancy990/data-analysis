{
 "cells": [
  {
   "cell_type": "code",
   "execution_count": 1,
   "metadata": {},
   "outputs": [],
   "source": [
    "import pandas as pd\n",
    "import numpy as np\n",
    "import statsmodels.api as sm\n",
    "import matplotlib.pyplot as plt\n",
    "%matplotlib inline\n",
    "import os\n",
    "import seaborn as sns"
   ]
  },
  {
   "cell_type": "code",
   "execution_count": 2,
   "metadata": {},
   "outputs": [],
   "source": [
    "os.chdir('C:\\\\Users\\\\Gudavalli\\\\Desktop\\\\IIDT\\\\MACHINE LEARNING')"
   ]
  },
  {
   "cell_type": "markdown",
   "metadata": {},
   "source": [
    "Direct Marketing\n",
    "1. Given data is from a direct marketer who sells his product only via direct email\n",
    "2. He sends catalogues with product characteristics to customers, who can directly order from catalogue\n",
    "3. Learn what makes some customers spend more than others"
   ]
  },
  {
   "cell_type": "code",
   "execution_count": 3,
   "metadata": {
    "scrolled": true
   },
   "outputs": [
    {
     "data": {
      "text/html": [
       "<div>\n",
       "<style scoped>\n",
       "    .dataframe tbody tr th:only-of-type {\n",
       "        vertical-align: middle;\n",
       "    }\n",
       "\n",
       "    .dataframe tbody tr th {\n",
       "        vertical-align: top;\n",
       "    }\n",
       "\n",
       "    .dataframe thead th {\n",
       "        text-align: right;\n",
       "    }\n",
       "</style>\n",
       "<table border=\"1\" class=\"dataframe\">\n",
       "  <thead>\n",
       "    <tr style=\"text-align: right;\">\n",
       "      <th></th>\n",
       "      <th>Age</th>\n",
       "      <th>Gender</th>\n",
       "      <th>OwnHome</th>\n",
       "      <th>Married</th>\n",
       "      <th>Location</th>\n",
       "      <th>Salary</th>\n",
       "      <th>Children</th>\n",
       "      <th>History</th>\n",
       "      <th>Catalogs</th>\n",
       "      <th>AmountSpent</th>\n",
       "      <th>Cust_Id</th>\n",
       "    </tr>\n",
       "  </thead>\n",
       "  <tbody>\n",
       "    <tr>\n",
       "      <td>0</td>\n",
       "      <td>Old</td>\n",
       "      <td>Female</td>\n",
       "      <td>Own</td>\n",
       "      <td>Single</td>\n",
       "      <td>Far</td>\n",
       "      <td>47500</td>\n",
       "      <td>0</td>\n",
       "      <td>High</td>\n",
       "      <td>6</td>\n",
       "      <td>755</td>\n",
       "      <td>247</td>\n",
       "    </tr>\n",
       "    <tr>\n",
       "      <td>1</td>\n",
       "      <td>Middle</td>\n",
       "      <td>Male</td>\n",
       "      <td>Rent</td>\n",
       "      <td>Single</td>\n",
       "      <td>Close</td>\n",
       "      <td>63600</td>\n",
       "      <td>0</td>\n",
       "      <td>High</td>\n",
       "      <td>6</td>\n",
       "      <td>1318</td>\n",
       "      <td>127</td>\n",
       "    </tr>\n",
       "    <tr>\n",
       "      <td>2</td>\n",
       "      <td>Young</td>\n",
       "      <td>Female</td>\n",
       "      <td>Rent</td>\n",
       "      <td>Single</td>\n",
       "      <td>Close</td>\n",
       "      <td>13500</td>\n",
       "      <td>0</td>\n",
       "      <td>Low</td>\n",
       "      <td>18</td>\n",
       "      <td>296</td>\n",
       "      <td>479</td>\n",
       "    </tr>\n",
       "    <tr>\n",
       "      <td>3</td>\n",
       "      <td>Middle</td>\n",
       "      <td>Male</td>\n",
       "      <td>Own</td>\n",
       "      <td>Married</td>\n",
       "      <td>Close</td>\n",
       "      <td>85600</td>\n",
       "      <td>1</td>\n",
       "      <td>High</td>\n",
       "      <td>18</td>\n",
       "      <td>2436</td>\n",
       "      <td>475</td>\n",
       "    </tr>\n",
       "    <tr>\n",
       "      <td>4</td>\n",
       "      <td>Middle</td>\n",
       "      <td>Female</td>\n",
       "      <td>Own</td>\n",
       "      <td>Single</td>\n",
       "      <td>Close</td>\n",
       "      <td>68400</td>\n",
       "      <td>0</td>\n",
       "      <td>High</td>\n",
       "      <td>12</td>\n",
       "      <td>1304</td>\n",
       "      <td>151</td>\n",
       "    </tr>\n",
       "  </tbody>\n",
       "</table>\n",
       "</div>"
      ],
      "text/plain": [
       "      Age  Gender OwnHome  Married Location  Salary  Children History  \\\n",
       "0     Old  Female     Own   Single      Far   47500         0    High   \n",
       "1  Middle    Male    Rent   Single    Close   63600         0    High   \n",
       "2   Young  Female    Rent   Single    Close   13500         0     Low   \n",
       "3  Middle    Male     Own  Married    Close   85600         1    High   \n",
       "4  Middle  Female     Own   Single    Close   68400         0    High   \n",
       "\n",
       "   Catalogs  AmountSpent  Cust_Id  \n",
       "0         6          755      247  \n",
       "1         6         1318      127  \n",
       "2        18          296      479  \n",
       "3        18         2436      475  \n",
       "4        12         1304      151  "
      ]
     },
     "execution_count": 3,
     "metadata": {},
     "output_type": "execute_result"
    }
   ],
   "source": [
    "dm=pd.read_csv('dm.csv')\n",
    "dm.head()"
   ]
  },
  {
   "cell_type": "code",
   "execution_count": null,
   "metadata": {},
   "outputs": [],
   "source": []
  },
  {
   "cell_type": "markdown",
   "metadata": {},
   "source": [
    "Exploration and preparation"
   ]
  },
  {
   "cell_type": "code",
   "execution_count": 4,
   "metadata": {},
   "outputs": [
    {
     "data": {
      "text/plain": [
       "Age            0.000\n",
       "Gender         0.000\n",
       "OwnHome        0.000\n",
       "Married        0.000\n",
       "Location       0.000\n",
       "Salary         0.000\n",
       "Children       0.000\n",
       "History        0.303\n",
       "Catalogs       0.000\n",
       "AmountSpent    0.000\n",
       "Cust_Id        0.000\n",
       "dtype: float64"
      ]
     },
     "execution_count": 4,
     "metadata": {},
     "output_type": "execute_result"
    }
   ],
   "source": [
    "#Sanity check\n",
    "# to get them in a percentage format we divide with dm.shape[0]\n",
    "#to check if there are any null values we will use (isnull)\n",
    "dm.isnull().sum()/dm.shape[0]"
   ]
  },
  {
   "cell_type": "code",
   "execution_count": 5,
   "metadata": {},
   "outputs": [
    {
     "data": {
      "text/plain": [
       "array(['High', 'Low', 'Medium', nan], dtype=object)"
      ]
     },
     "execution_count": 5,
     "metadata": {},
     "output_type": "execute_result"
    }
   ],
   "source": [
    "dm['History'].unique()"
   ]
  },
  {
   "cell_type": "code",
   "execution_count": 6,
   "metadata": {},
   "outputs": [],
   "source": [
    "dm['History']=dm['History'].fillna('Missing',axis=0)"
   ]
  },
  {
   "cell_type": "code",
   "execution_count": null,
   "metadata": {},
   "outputs": [],
   "source": []
  },
  {
   "cell_type": "code",
   "execution_count": 7,
   "metadata": {},
   "outputs": [
    {
     "data": {
      "text/plain": [
       "array(['High', 'Low', 'Medium', 'Missing'], dtype=object)"
      ]
     },
     "execution_count": 7,
     "metadata": {},
     "output_type": "execute_result"
    }
   ],
   "source": [
    "dm['History'].unique()"
   ]
  },
  {
   "cell_type": "code",
   "execution_count": 8,
   "metadata": {},
   "outputs": [
    {
     "data": {
      "text/plain": [
       "Missing    303\n",
       "High       255\n",
       "Low        230\n",
       "Medium     212\n",
       "Name: History, dtype: int64"
      ]
     },
     "execution_count": 8,
     "metadata": {},
     "output_type": "execute_result"
    }
   ],
   "source": [
    "dm['History'].value_counts()"
   ]
  },
  {
   "cell_type": "code",
   "execution_count": 9,
   "metadata": {},
   "outputs": [
    {
     "data": {
      "text/plain": [
       "count    1000.000000\n",
       "mean     1216.770000\n",
       "std       961.068613\n",
       "min        38.000000\n",
       "25%       488.250000\n",
       "50%       962.000000\n",
       "75%      1688.500000\n",
       "max      6217.000000\n",
       "Name: AmountSpent, dtype: float64"
      ]
     },
     "execution_count": 9,
     "metadata": {},
     "output_type": "execute_result"
    }
   ],
   "source": [
    "# get the statistics\n",
    "dm['AmountSpent'].describe()"
   ]
  },
  {
   "cell_type": "code",
   "execution_count": 10,
   "metadata": {},
   "outputs": [
    {
     "data": {
      "image/png": "[encoded data removed]",
      "text/plain": [
       "<Figure size 432x288 with 1 Axes>"
      ]
     },
     "metadata": {
      "needs_background": "light"
     },
     "output_type": "display_data"
    }
   ],
   "source": [
    "# \n",
    "b=plt.boxplot(dm['AmountSpent'])"
   ]
  },
  {
   "cell_type": "code",
   "execution_count": 11,
   "metadata": {},
   "outputs": [
    {
     "data": {
      "text/plain": [
       "{'whiskers': [<matplotlib.lines.Line2D at 0x2944ea1dc88>,\n",
       "  <matplotlib.lines.Line2D at 0x2944ea1dd48>],\n",
       " 'caps': [<matplotlib.lines.Line2D at 0x2944ea29d88>,\n",
       "  <matplotlib.lines.Line2D at 0x2944ea29e48>],\n",
       " 'boxes': [<matplotlib.lines.Line2D at 0x2944ea1d108>],\n",
       " 'medians': [<matplotlib.lines.Line2D at 0x2944ea2fe88>],\n",
       " 'fliers': [<matplotlib.lines.Line2D at 0x2944ea2ff48>],\n",
       " 'means': []}"
      ]
     },
     "execution_count": 11,
     "metadata": {},
     "output_type": "execute_result"
    }
   ],
   "source": [
    "b"
   ]
  },
  {
   "cell_type": "code",
   "execution_count": 12,
   "metadata": {},
   "outputs": [
    {
     "data": {
      "text/plain": [
       "[array([5564, 3655, 3604, 4182, 4558, 3505, 3688, 3596, 4279, 4894, 3491,\n",
       "        5830, 3632, 3916, 3671, 5151, 3941, 5878, 5209, 4984, 4109, 3995,\n",
       "        3780, 6217, 3785, 3537, 5503], dtype=int64)]"
      ]
     },
     "execution_count": 12,
     "metadata": {},
     "output_type": "execute_result"
    }
   ],
   "source": [
    "#to access the Outliers (to get the observations which are outliers)\n",
    "out=[i.get_ydata() for i in b['fliers']]\n",
    "out"
   ]
  },
  {
   "cell_type": "code",
   "execution_count": 13,
   "metadata": {},
   "outputs": [
    {
     "data": {
      "text/plain": [
       "count      1000.000000\n",
       "mean      56103.900000\n",
       "std       30616.314826\n",
       "min       10100.000000\n",
       "25%       29975.000000\n",
       "50%       53700.000000\n",
       "75%       77025.000000\n",
       "max      168800.000000\n",
       "Name: Salary, dtype: float64"
      ]
     },
     "execution_count": 13,
     "metadata": {},
     "output_type": "execute_result"
    }
   ],
   "source": [
    "dm['Salary'].describe()"
   ]
  },
  {
   "cell_type": "code",
   "execution_count": 14,
   "metadata": {},
   "outputs": [
    {
     "data": {
      "text/html": [
       "<div>\n",
       "<style scoped>\n",
       "    .dataframe tbody tr th:only-of-type {\n",
       "        vertical-align: middle;\n",
       "    }\n",
       "\n",
       "    .dataframe tbody tr th {\n",
       "        vertical-align: top;\n",
       "    }\n",
       "\n",
       "    .dataframe thead th {\n",
       "        text-align: right;\n",
       "    }\n",
       "</style>\n",
       "<table border=\"1\" class=\"dataframe\">\n",
       "  <thead>\n",
       "    <tr style=\"text-align: right;\">\n",
       "      <th></th>\n",
       "      <th>Age</th>\n",
       "      <th>Gender</th>\n",
       "      <th>OwnHome</th>\n",
       "      <th>Married</th>\n",
       "      <th>Location</th>\n",
       "      <th>Salary</th>\n",
       "      <th>Children</th>\n",
       "      <th>History</th>\n",
       "      <th>Catalogs</th>\n",
       "      <th>AmountSpent</th>\n",
       "      <th>Cust_Id</th>\n",
       "    </tr>\n",
       "  </thead>\n",
       "  <tbody>\n",
       "    <tr>\n",
       "      <td>14</td>\n",
       "      <td>Old</td>\n",
       "      <td>Female</td>\n",
       "      <td>Own</td>\n",
       "      <td>Married</td>\n",
       "      <td>Far</td>\n",
       "      <td>110000</td>\n",
       "      <td>0</td>\n",
       "      <td>High</td>\n",
       "      <td>24</td>\n",
       "      <td>5564</td>\n",
       "      <td>477</td>\n",
       "    </tr>\n",
       "    <tr>\n",
       "      <td>43</td>\n",
       "      <td>Old</td>\n",
       "      <td>Female</td>\n",
       "      <td>Rent</td>\n",
       "      <td>Married</td>\n",
       "      <td>Far</td>\n",
       "      <td>81500</td>\n",
       "      <td>0</td>\n",
       "      <td>High</td>\n",
       "      <td>18</td>\n",
       "      <td>3655</td>\n",
       "      <td>1010</td>\n",
       "    </tr>\n",
       "    <tr>\n",
       "      <td>51</td>\n",
       "      <td>Middle</td>\n",
       "      <td>Female</td>\n",
       "      <td>Own</td>\n",
       "      <td>Married</td>\n",
       "      <td>Far</td>\n",
       "      <td>87200</td>\n",
       "      <td>0</td>\n",
       "      <td>High</td>\n",
       "      <td>18</td>\n",
       "      <td>3604</td>\n",
       "      <td>1095</td>\n",
       "    </tr>\n",
       "    <tr>\n",
       "      <td>69</td>\n",
       "      <td>Middle</td>\n",
       "      <td>Male</td>\n",
       "      <td>Own</td>\n",
       "      <td>Single</td>\n",
       "      <td>Far</td>\n",
       "      <td>72300</td>\n",
       "      <td>0</td>\n",
       "      <td>High</td>\n",
       "      <td>24</td>\n",
       "      <td>4182</td>\n",
       "      <td>689</td>\n",
       "    </tr>\n",
       "    <tr>\n",
       "      <td>91</td>\n",
       "      <td>Old</td>\n",
       "      <td>Male</td>\n",
       "      <td>Own</td>\n",
       "      <td>Married</td>\n",
       "      <td>Close</td>\n",
       "      <td>134500</td>\n",
       "      <td>0</td>\n",
       "      <td>High</td>\n",
       "      <td>24</td>\n",
       "      <td>4558</td>\n",
       "      <td>170</td>\n",
       "    </tr>\n",
       "    <tr>\n",
       "      <td>123</td>\n",
       "      <td>Middle</td>\n",
       "      <td>Male</td>\n",
       "      <td>Own</td>\n",
       "      <td>Married</td>\n",
       "      <td>Close</td>\n",
       "      <td>105300</td>\n",
       "      <td>1</td>\n",
       "      <td>Missing</td>\n",
       "      <td>18</td>\n",
       "      <td>3505</td>\n",
       "      <td>684</td>\n",
       "    </tr>\n",
       "    <tr>\n",
       "      <td>138</td>\n",
       "      <td>Young</td>\n",
       "      <td>Female</td>\n",
       "      <td>Own</td>\n",
       "      <td>Married</td>\n",
       "      <td>Far</td>\n",
       "      <td>68000</td>\n",
       "      <td>0</td>\n",
       "      <td>High</td>\n",
       "      <td>24</td>\n",
       "      <td>3688</td>\n",
       "      <td>404</td>\n",
       "    </tr>\n",
       "    <tr>\n",
       "      <td>146</td>\n",
       "      <td>Old</td>\n",
       "      <td>Female</td>\n",
       "      <td>Own</td>\n",
       "      <td>Married</td>\n",
       "      <td>Close</td>\n",
       "      <td>114800</td>\n",
       "      <td>0</td>\n",
       "      <td>High</td>\n",
       "      <td>18</td>\n",
       "      <td>3596</td>\n",
       "      <td>176</td>\n",
       "    </tr>\n",
       "    <tr>\n",
       "      <td>152</td>\n",
       "      <td>Middle</td>\n",
       "      <td>Female</td>\n",
       "      <td>Own</td>\n",
       "      <td>Married</td>\n",
       "      <td>Far</td>\n",
       "      <td>109800</td>\n",
       "      <td>0</td>\n",
       "      <td>High</td>\n",
       "      <td>18</td>\n",
       "      <td>4279</td>\n",
       "      <td>1024</td>\n",
       "    </tr>\n",
       "    <tr>\n",
       "      <td>169</td>\n",
       "      <td>Middle</td>\n",
       "      <td>Male</td>\n",
       "      <td>Own</td>\n",
       "      <td>Married</td>\n",
       "      <td>Far</td>\n",
       "      <td>140000</td>\n",
       "      <td>0</td>\n",
       "      <td>High</td>\n",
       "      <td>12</td>\n",
       "      <td>4894</td>\n",
       "      <td>865</td>\n",
       "    </tr>\n",
       "    <tr>\n",
       "      <td>200</td>\n",
       "      <td>Middle</td>\n",
       "      <td>Male</td>\n",
       "      <td>Own</td>\n",
       "      <td>Married</td>\n",
       "      <td>Far</td>\n",
       "      <td>100100</td>\n",
       "      <td>1</td>\n",
       "      <td>High</td>\n",
       "      <td>24</td>\n",
       "      <td>3491</td>\n",
       "      <td>162</td>\n",
       "    </tr>\n",
       "    <tr>\n",
       "      <td>216</td>\n",
       "      <td>Middle</td>\n",
       "      <td>Female</td>\n",
       "      <td>Rent</td>\n",
       "      <td>Married</td>\n",
       "      <td>Far</td>\n",
       "      <td>120800</td>\n",
       "      <td>1</td>\n",
       "      <td>High</td>\n",
       "      <td>24</td>\n",
       "      <td>5830</td>\n",
       "      <td>1227</td>\n",
       "    </tr>\n",
       "    <tr>\n",
       "      <td>352</td>\n",
       "      <td>Old</td>\n",
       "      <td>Female</td>\n",
       "      <td>Rent</td>\n",
       "      <td>Married</td>\n",
       "      <td>Far</td>\n",
       "      <td>88400</td>\n",
       "      <td>0</td>\n",
       "      <td>High</td>\n",
       "      <td>18</td>\n",
       "      <td>3632</td>\n",
       "      <td>1162</td>\n",
       "    </tr>\n",
       "    <tr>\n",
       "      <td>366</td>\n",
       "      <td>Middle</td>\n",
       "      <td>Male</td>\n",
       "      <td>Own</td>\n",
       "      <td>Married</td>\n",
       "      <td>Close</td>\n",
       "      <td>96300</td>\n",
       "      <td>2</td>\n",
       "      <td>Missing</td>\n",
       "      <td>18</td>\n",
       "      <td>3916</td>\n",
       "      <td>1148</td>\n",
       "    </tr>\n",
       "    <tr>\n",
       "      <td>386</td>\n",
       "      <td>Old</td>\n",
       "      <td>Male</td>\n",
       "      <td>Own</td>\n",
       "      <td>Married</td>\n",
       "      <td>Close</td>\n",
       "      <td>123000</td>\n",
       "      <td>0</td>\n",
       "      <td>High</td>\n",
       "      <td>24</td>\n",
       "      <td>3671</td>\n",
       "      <td>584</td>\n",
       "    </tr>\n",
       "    <tr>\n",
       "      <td>403</td>\n",
       "      <td>Middle</td>\n",
       "      <td>Male</td>\n",
       "      <td>Own</td>\n",
       "      <td>Married</td>\n",
       "      <td>Far</td>\n",
       "      <td>113300</td>\n",
       "      <td>1</td>\n",
       "      <td>High</td>\n",
       "      <td>18</td>\n",
       "      <td>5151</td>\n",
       "      <td>207</td>\n",
       "    </tr>\n",
       "    <tr>\n",
       "      <td>404</td>\n",
       "      <td>Middle</td>\n",
       "      <td>Male</td>\n",
       "      <td>Own</td>\n",
       "      <td>Married</td>\n",
       "      <td>Far</td>\n",
       "      <td>118400</td>\n",
       "      <td>2</td>\n",
       "      <td>Missing</td>\n",
       "      <td>12</td>\n",
       "      <td>3941</td>\n",
       "      <td>728</td>\n",
       "    </tr>\n",
       "    <tr>\n",
       "      <td>496</td>\n",
       "      <td>Middle</td>\n",
       "      <td>Male</td>\n",
       "      <td>Own</td>\n",
       "      <td>Married</td>\n",
       "      <td>Far</td>\n",
       "      <td>123000</td>\n",
       "      <td>1</td>\n",
       "      <td>High</td>\n",
       "      <td>24</td>\n",
       "      <td>5878</td>\n",
       "      <td>72</td>\n",
       "    </tr>\n",
       "    <tr>\n",
       "      <td>637</td>\n",
       "      <td>Middle</td>\n",
       "      <td>Male</td>\n",
       "      <td>Own</td>\n",
       "      <td>Married</td>\n",
       "      <td>Far</td>\n",
       "      <td>89500</td>\n",
       "      <td>0</td>\n",
       "      <td>High</td>\n",
       "      <td>24</td>\n",
       "      <td>5209</td>\n",
       "      <td>981</td>\n",
       "    </tr>\n",
       "    <tr>\n",
       "      <td>743</td>\n",
       "      <td>Middle</td>\n",
       "      <td>Male</td>\n",
       "      <td>Own</td>\n",
       "      <td>Married</td>\n",
       "      <td>Close</td>\n",
       "      <td>122700</td>\n",
       "      <td>1</td>\n",
       "      <td>Missing</td>\n",
       "      <td>18</td>\n",
       "      <td>4984</td>\n",
       "      <td>699</td>\n",
       "    </tr>\n",
       "    <tr>\n",
       "      <td>762</td>\n",
       "      <td>Old</td>\n",
       "      <td>Male</td>\n",
       "      <td>Own</td>\n",
       "      <td>Married</td>\n",
       "      <td>Close</td>\n",
       "      <td>124900</td>\n",
       "      <td>0</td>\n",
       "      <td>High</td>\n",
       "      <td>18</td>\n",
       "      <td>4109</td>\n",
       "      <td>107</td>\n",
       "    </tr>\n",
       "    <tr>\n",
       "      <td>901</td>\n",
       "      <td>Old</td>\n",
       "      <td>Female</td>\n",
       "      <td>Own</td>\n",
       "      <td>Married</td>\n",
       "      <td>Far</td>\n",
       "      <td>128700</td>\n",
       "      <td>0</td>\n",
       "      <td>High</td>\n",
       "      <td>24</td>\n",
       "      <td>3995</td>\n",
       "      <td>1164</td>\n",
       "    </tr>\n",
       "    <tr>\n",
       "      <td>908</td>\n",
       "      <td>Middle</td>\n",
       "      <td>Male</td>\n",
       "      <td>Own</td>\n",
       "      <td>Married</td>\n",
       "      <td>Close</td>\n",
       "      <td>96500</td>\n",
       "      <td>0</td>\n",
       "      <td>High</td>\n",
       "      <td>24</td>\n",
       "      <td>3780</td>\n",
       "      <td>494</td>\n",
       "    </tr>\n",
       "    <tr>\n",
       "      <td>987</td>\n",
       "      <td>Old</td>\n",
       "      <td>Male</td>\n",
       "      <td>Own</td>\n",
       "      <td>Married</td>\n",
       "      <td>Far</td>\n",
       "      <td>112900</td>\n",
       "      <td>0</td>\n",
       "      <td>High</td>\n",
       "      <td>24</td>\n",
       "      <td>6217</td>\n",
       "      <td>975</td>\n",
       "    </tr>\n",
       "    <tr>\n",
       "      <td>989</td>\n",
       "      <td>Middle</td>\n",
       "      <td>Male</td>\n",
       "      <td>Own</td>\n",
       "      <td>Married</td>\n",
       "      <td>Far</td>\n",
       "      <td>102700</td>\n",
       "      <td>1</td>\n",
       "      <td>High</td>\n",
       "      <td>18</td>\n",
       "      <td>3785</td>\n",
       "      <td>1269</td>\n",
       "    </tr>\n",
       "    <tr>\n",
       "      <td>990</td>\n",
       "      <td>Middle</td>\n",
       "      <td>Male</td>\n",
       "      <td>Own</td>\n",
       "      <td>Married</td>\n",
       "      <td>Close</td>\n",
       "      <td>123800</td>\n",
       "      <td>2</td>\n",
       "      <td>Missing</td>\n",
       "      <td>18</td>\n",
       "      <td>3537</td>\n",
       "      <td>898</td>\n",
       "    </tr>\n",
       "    <tr>\n",
       "      <td>993</td>\n",
       "      <td>Middle</td>\n",
       "      <td>Female</td>\n",
       "      <td>Own</td>\n",
       "      <td>Married</td>\n",
       "      <td>Far</td>\n",
       "      <td>99200</td>\n",
       "      <td>0</td>\n",
       "      <td>High</td>\n",
       "      <td>24</td>\n",
       "      <td>5503</td>\n",
       "      <td>924</td>\n",
       "    </tr>\n",
       "  </tbody>\n",
       "</table>\n",
       "</div>"
      ],
      "text/plain": [
       "        Age  Gender OwnHome  Married Location  Salary  Children  History  \\\n",
       "14      Old  Female     Own  Married      Far  110000         0     High   \n",
       "43      Old  Female    Rent  Married      Far   81500         0     High   \n",
       "51   Middle  Female     Own  Married      Far   87200         0     High   \n",
       "69   Middle    Male     Own   Single      Far   72300         0     High   \n",
       "91      Old    Male     Own  Married    Close  134500         0     High   \n",
       "123  Middle    Male     Own  Married    Close  105300         1  Missing   \n",
       "138   Young  Female     Own  Married      Far   68000         0     High   \n",
       "146     Old  Female     Own  Married    Close  114800         0     High   \n",
       "152  Middle  Female     Own  Married      Far  109800         0     High   \n",
       "169  Middle    Male     Own  Married      Far  140000         0     High   \n",
       "200  Middle    Male     Own  Married      Far  100100         1     High   \n",
       "216  Middle  Female    Rent  Married      Far  120800         1     High   \n",
       "352     Old  Female    Rent  Married      Far   88400         0     High   \n",
       "366  Middle    Male     Own  Married    Close   96300         2  Missing   \n",
       "386     Old    Male     Own  Married    Close  123000         0     High   \n",
       "403  Middle    Male     Own  Married      Far  113300         1     High   \n",
       "404  Middle    Male     Own  Married      Far  118400         2  Missing   \n",
       "496  Middle    Male     Own  Married      Far  123000         1     High   \n",
       "637  Middle    Male     Own  Married      Far   89500         0     High   \n",
       "743  Middle    Male     Own  Married    Close  122700         1  Missing   \n",
       "762     Old    Male     Own  Married    Close  124900         0     High   \n",
       "901     Old  Female     Own  Married      Far  128700         0     High   \n",
       "908  Middle    Male     Own  Married    Close   96500         0     High   \n",
       "987     Old    Male     Own  Married      Far  112900         0     High   \n",
       "989  Middle    Male     Own  Married      Far  102700         1     High   \n",
       "990  Middle    Male     Own  Married    Close  123800         2  Missing   \n",
       "993  Middle  Female     Own  Married      Far   99200         0     High   \n",
       "\n",
       "     Catalogs  AmountSpent  Cust_Id  \n",
       "14         24         5564      477  \n",
       "43         18         3655     1010  \n",
       "51         18         3604     1095  \n",
       "69         24         4182      689  \n",
       "91         24         4558      170  \n",
       "123        18         3505      684  \n",
       "138        24         3688      404  \n",
       "146        18         3596      176  \n",
       "152        18         4279     1024  \n",
       "169        12         4894      865  \n",
       "200        24         3491      162  \n",
       "216        24         5830     1227  \n",
       "352        18         3632     1162  \n",
       "366        18         3916     1148  \n",
       "386        24         3671      584  \n",
       "403        18         5151      207  \n",
       "404        12         3941      728  \n",
       "496        24         5878       72  \n",
       "637        24         5209      981  \n",
       "743        18         4984      699  \n",
       "762        18         4109      107  \n",
       "901        24         3995     1164  \n",
       "908        24         3780      494  \n",
       "987        24         6217      975  \n",
       "989        18         3785     1269  \n",
       "990        18         3537      898  \n",
       "993        24         5503      924  "
      ]
     },
     "execution_count": 14,
     "metadata": {},
     "output_type": "execute_result"
    }
   ],
   "source": [
    "# to filter the data we use(isin)\n",
    "dm[dm['AmountSpent'].isin(out[0])]"
   ]
  },
  {
   "cell_type": "code",
   "execution_count": 15,
   "metadata": {},
   "outputs": [
    {
     "data": {
      "text/plain": [
       "array([5564, 3655, 3604, 4182, 4558, 3505, 3688, 3596, 4279, 4894, 3491,\n",
       "       5830, 3632, 3916, 3671, 5151, 3941, 5878, 5209, 4984, 4109, 3995,\n",
       "       3780, 6217, 3785, 3537, 5503], dtype=int64)"
      ]
     },
     "execution_count": 15,
     "metadata": {},
     "output_type": "execute_result"
    }
   ],
   "source": [
    "out[0]"
   ]
  },
  {
   "cell_type": "markdown",
   "metadata": {},
   "source": [
    "Understand relationship between DV and IVs"
   ]
  },
  {
   "cell_type": "code",
   "execution_count": 16,
   "metadata": {},
   "outputs": [
    {
     "data": {
      "text/plain": [
       "<matplotlib.collections.PathCollection at 0x2944ead6608>"
      ]
     },
     "execution_count": 16,
     "metadata": {},
     "output_type": "execute_result"
    },
    {
     "data": {
      "image/png": "[encoded data removed]",
      "text/plain": [
       "<Figure size 432x288 with 1 Axes>"
      ]
     },
     "metadata": {
      "needs_background": "light"
     },
     "output_type": "display_data"
    }
   ],
   "source": [
    "#Relationship between Salary and AmountSpent \n",
    "# since both variables are continous variables we use scatter plot.\n",
    "plt.scatter(dm['Salary'],dm['AmountSpent']) #Might be heteroescadasticity"
   ]
  },
  {
   "cell_type": "code",
   "execution_count": 17,
   "metadata": {},
   "outputs": [
    {
     "data": {
      "text/plain": [
       "Text(0.5, 0.98, '')"
      ]
     },
     "execution_count": 17,
     "metadata": {},
     "output_type": "execute_result"
    },
    {
     "data": {
      "image/png": "[encoded data removed]",
      "text/plain": [
       "<Figure size 432x288 with 1 Axes>"
      ]
     },
     "metadata": {
      "needs_background": "light"
     },
     "output_type": "display_data"
    }
   ],
   "source": [
    "#Distribution of AmountSpent by Age\n",
    "dm.boxplot('AmountSpent',by='Age')\n",
    "plt.title(label='Boxplot of AmountSpent by Age')\n",
    "plt.suptitle(\"\")"
   ]
  },
  {
   "cell_type": "code",
   "execution_count": 18,
   "metadata": {},
   "outputs": [
    {
     "data": {
      "text/html": [
       "<div>\n",
       "<style scoped>\n",
       "    .dataframe tbody tr th:only-of-type {\n",
       "        vertical-align: middle;\n",
       "    }\n",
       "\n",
       "    .dataframe tbody tr th {\n",
       "        vertical-align: top;\n",
       "    }\n",
       "\n",
       "    .dataframe thead th {\n",
       "        text-align: right;\n",
       "    }\n",
       "</style>\n",
       "<table border=\"1\" class=\"dataframe\">\n",
       "  <thead>\n",
       "    <tr style=\"text-align: right;\">\n",
       "      <th></th>\n",
       "      <th>Age</th>\n",
       "      <th>AmountSpent</th>\n",
       "    </tr>\n",
       "  </thead>\n",
       "  <tbody>\n",
       "    <tr>\n",
       "      <td>0</td>\n",
       "      <td>Middle</td>\n",
       "      <td>1501.690945</td>\n",
       "    </tr>\n",
       "    <tr>\n",
       "      <td>1</td>\n",
       "      <td>Old</td>\n",
       "      <td>1432.126829</td>\n",
       "    </tr>\n",
       "    <tr>\n",
       "      <td>2</td>\n",
       "      <td>Young</td>\n",
       "      <td>558.623693</td>\n",
       "    </tr>\n",
       "  </tbody>\n",
       "</table>\n",
       "</div>"
      ],
      "text/plain": [
       "      Age  AmountSpent\n",
       "0  Middle  1501.690945\n",
       "1     Old  1432.126829\n",
       "2   Young   558.623693"
      ]
     },
     "execution_count": 18,
     "metadata": {},
     "output_type": "execute_result"
    }
   ],
   "source": [
    "import seaborn as sb\n",
    "byage=dm.groupby('Age')['AmountSpent'].mean().reset_index()\n",
    "byage"
   ]
  },
  {
   "cell_type": "code",
   "execution_count": 19,
   "metadata": {},
   "outputs": [
    {
     "name": "stdout",
     "output_type": "stream",
     "text": [
      "(0, Age             Middle\n",
      "AmountSpent    1501.69\n",
      "Name: 0, dtype: object)\n",
      "(1, Age                Old\n",
      "AmountSpent    1432.13\n",
      "Name: 1, dtype: object)\n",
      "(2, Age              Young\n",
      "AmountSpent    558.624\n",
      "Name: 2, dtype: object)\n"
     ]
    }
   ],
   "source": [
    "for i , v in byage.iterrows():\n",
    "    print((i,v))"
   ]
  },
  {
   "cell_type": "code",
   "execution_count": 20,
   "metadata": {},
   "outputs": [
    {
     "data": {
      "image/png": "[encoded data removed]",
      "text/plain": [
       "<Figure size 432x288 with 1 Axes>"
      ]
     },
     "metadata": {
      "needs_background": "light"
     },
     "output_type": "display_data"
    }
   ],
   "source": [
    "p=sb.barplot(x='Age',y='AmountSpent',data=byage)\n",
    "\n",
    "for i, v in byage.iterrows():\n",
    "    p.text(v.name,v.AmountSpent,round(v.AmountSpent,2),ha=\"center\")\n",
    "    #'i' represents row numbers and'v' reperesents values"
   ]
  },
  {
   "cell_type": "code",
   "execution_count": 21,
   "metadata": {},
   "outputs": [
    {
     "data": {
      "text/plain": [
       "Text(0.5, 0.98, '')"
      ]
     },
     "execution_count": 21,
     "metadata": {},
     "output_type": "execute_result"
    },
    {
     "data": {
      "image/png": "[encoded data removed]",
      "text/plain": [
       "<Figure size 432x288 with 1 Axes>"
      ]
     },
     "metadata": {
      "needs_background": "light"
     },
     "output_type": "display_data"
    }
   ],
   "source": [
    "#Distribution of AmountSpent by Gender\n",
    "dm.boxplot('AmountSpent',by='Gender')\n",
    "plt.title(label='Boxplot of AmountSpent by Gender')\n",
    "plt.suptitle(\"\")"
   ]
  },
  {
   "cell_type": "code",
   "execution_count": 22,
   "metadata": {},
   "outputs": [
    {
     "data": {
      "image/png": "[encoded data removed]",
      "text/plain": [
       "<Figure size 432x288 with 1 Axes>"
      ]
     },
     "metadata": {
      "needs_background": "light"
     },
     "output_type": "display_data"
    }
   ],
   "source": [
    "bygen=dm.groupby('Gender')['AmountSpent'].mean().reset_index()\n",
    "bygen\n",
    "\n",
    "p=sb.barplot(x='Gender',y='AmountSpent',data=bygen)\n",
    "\n",
    "for i, v in bygen.iterrows():\n",
    "    p.text(v.name,v.AmountSpent,round(v.AmountSpent,2),ha=\"center\")"
   ]
  },
  {
   "cell_type": "code",
   "execution_count": 23,
   "metadata": {},
   "outputs": [
    {
     "data": {
      "text/plain": [
       "Text(0.5, 0.98, '')"
      ]
     },
     "execution_count": 23,
     "metadata": {},
     "output_type": "execute_result"
    },
    {
     "data": {
      "image/png": "[encoded data removed]",
      "text/plain": [
       "<Figure size 432x288 with 1 Axes>"
      ]
     },
     "metadata": {
      "needs_background": "light"
     },
     "output_type": "display_data"
    }
   ],
   "source": [
    "#Distribution of AmountSpent by Married\n",
    "dm.boxplot('AmountSpent',by='Married')\n",
    "plt.title(label='Boxplot of AmountSpent by Married')\n",
    "plt.suptitle(\"\")"
   ]
  },
  {
   "cell_type": "code",
   "execution_count": 24,
   "metadata": {},
   "outputs": [
    {
     "data": {
      "image/png": "[encoded data removed]",
      "text/plain": [
       "<Figure size 432x288 with 1 Axes>"
      ]
     },
     "metadata": {
      "needs_background": "light"
     },
     "output_type": "display_data"
    }
   ],
   "source": [
    "bymar=dm.groupby('Married')['AmountSpent'].mean().reset_index()\n",
    "bymar\n",
    "\n",
    "p=sb.barplot(x='Married',y='AmountSpent',data=bymar)\n",
    "\n",
    "for i, v in bymar.iterrows():\n",
    "    p.text(v.name,v.AmountSpent,round(v.AmountSpent,2),ha=\"center\")"
   ]
  },
  {
   "cell_type": "code",
   "execution_count": 25,
   "metadata": {},
   "outputs": [
    {
     "data": {
      "text/plain": [
       "Text(0.5, 0.98, '')"
      ]
     },
     "execution_count": 25,
     "metadata": {},
     "output_type": "execute_result"
    },
    {
     "data": {
      "image/png": "[encoded data removed]",
      "text/plain": [
       "<Figure size 432x288 with 1 Axes>"
      ]
     },
     "metadata": {
      "needs_background": "light"
     },
     "output_type": "display_data"
    }
   ],
   "source": [
    "#Distribution of AmountSpent by Location\n",
    "dm.boxplot('AmountSpent',by='Location')\n",
    "plt.title(label='Boxplot of AmountSpent by Location')\n",
    "plt.suptitle(\"\")"
   ]
  },
  {
   "cell_type": "code",
   "execution_count": 26,
   "metadata": {},
   "outputs": [
    {
     "data": {
      "image/png": "[encoded data removed]",
      "text/plain": [
       "<Figure size 432x288 with 1 Axes>"
      ]
     },
     "metadata": {
      "needs_background": "light"
     },
     "output_type": "display_data"
    }
   ],
   "source": [
    "byloc=dm.groupby('Location')['AmountSpent'].mean().reset_index()\n",
    "byloc\n",
    "\n",
    "p=sb.barplot(x='Location',y='AmountSpent',data=byloc)\n",
    "\n",
    "for i, v in byloc.iterrows():\n",
    "    p.text(v.name,v.AmountSpent,round(v.AmountSpent,2),ha=\"center\")"
   ]
  },
  {
   "cell_type": "code",
   "execution_count": 27,
   "metadata": {},
   "outputs": [
    {
     "data": {
      "text/html": [
       "<div>\n",
       "<style scoped>\n",
       "    .dataframe tbody tr th:only-of-type {\n",
       "        vertical-align: middle;\n",
       "    }\n",
       "\n",
       "    .dataframe tbody tr th {\n",
       "        vertical-align: top;\n",
       "    }\n",
       "\n",
       "    .dataframe thead th {\n",
       "        text-align: right;\n",
       "    }\n",
       "</style>\n",
       "<table border=\"1\" class=\"dataframe\">\n",
       "  <thead>\n",
       "    <tr style=\"text-align: right;\">\n",
       "      <th></th>\n",
       "      <th>History</th>\n",
       "      <th>AmountSpent</th>\n",
       "    </tr>\n",
       "  </thead>\n",
       "  <tbody>\n",
       "    <tr>\n",
       "      <td>0</td>\n",
       "      <td>High</td>\n",
       "      <td>2186.137255</td>\n",
       "    </tr>\n",
       "    <tr>\n",
       "      <td>1</td>\n",
       "      <td>Low</td>\n",
       "      <td>357.086957</td>\n",
       "    </tr>\n",
       "    <tr>\n",
       "      <td>2</td>\n",
       "      <td>Medium</td>\n",
       "      <td>950.400943</td>\n",
       "    </tr>\n",
       "    <tr>\n",
       "      <td>3</td>\n",
       "      <td>Missing</td>\n",
       "      <td>1239.900990</td>\n",
       "    </tr>\n",
       "  </tbody>\n",
       "</table>\n",
       "</div>"
      ],
      "text/plain": [
       "   History  AmountSpent\n",
       "0     High  2186.137255\n",
       "1      Low   357.086957\n",
       "2   Medium   950.400943\n",
       "3  Missing  1239.900990"
      ]
     },
     "execution_count": 27,
     "metadata": {},
     "output_type": "execute_result"
    }
   ],
   "source": [
    "#Distribution of AmountSpent by History\n",
    "byhist=dm.groupby('History')['AmountSpent'].mean().reset_index()\n",
    "byhist"
   ]
  },
  {
   "cell_type": "code",
   "execution_count": 28,
   "metadata": {},
   "outputs": [
    {
     "data": {
      "image/png": "[encoded data removed]",
      "text/plain": [
       "<Figure size 432x288 with 1 Axes>"
      ]
     },
     "metadata": {
      "needs_background": "light"
     },
     "output_type": "display_data"
    }
   ],
   "source": [
    "p=sb.barplot(x='History',y='AmountSpent',data=byhist)\n",
    "\n",
    "for i, v in byhist.iterrows():\n",
    "    p.text(v.name,v.AmountSpent,round(v.AmountSpent,2),ha=\"center\")"
   ]
  },
  {
   "cell_type": "code",
   "execution_count": 29,
   "metadata": {},
   "outputs": [
    {
     "data": {
      "text/html": [
       "<div>\n",
       "<style scoped>\n",
       "    .dataframe tbody tr th:only-of-type {\n",
       "        vertical-align: middle;\n",
       "    }\n",
       "\n",
       "    .dataframe tbody tr th {\n",
       "        vertical-align: top;\n",
       "    }\n",
       "\n",
       "    .dataframe thead th {\n",
       "        text-align: right;\n",
       "    }\n",
       "</style>\n",
       "<table border=\"1\" class=\"dataframe\">\n",
       "  <thead>\n",
       "    <tr style=\"text-align: right;\">\n",
       "      <th></th>\n",
       "      <th>Age</th>\n",
       "      <th>Gender</th>\n",
       "      <th>OwnHome</th>\n",
       "      <th>Married</th>\n",
       "      <th>Location</th>\n",
       "      <th>Salary</th>\n",
       "      <th>Children</th>\n",
       "      <th>History</th>\n",
       "      <th>Catalogs</th>\n",
       "      <th>AmountSpent</th>\n",
       "      <th>Cust_Id</th>\n",
       "    </tr>\n",
       "  </thead>\n",
       "  <tbody>\n",
       "    <tr>\n",
       "      <td>0</td>\n",
       "      <td>Old</td>\n",
       "      <td>Female</td>\n",
       "      <td>Own</td>\n",
       "      <td>Single</td>\n",
       "      <td>Far</td>\n",
       "      <td>47500</td>\n",
       "      <td>0</td>\n",
       "      <td>High</td>\n",
       "      <td>6</td>\n",
       "      <td>755</td>\n",
       "      <td>247</td>\n",
       "    </tr>\n",
       "    <tr>\n",
       "      <td>1</td>\n",
       "      <td>Middle</td>\n",
       "      <td>Male</td>\n",
       "      <td>Rent</td>\n",
       "      <td>Single</td>\n",
       "      <td>Close</td>\n",
       "      <td>63600</td>\n",
       "      <td>0</td>\n",
       "      <td>High</td>\n",
       "      <td>6</td>\n",
       "      <td>1318</td>\n",
       "      <td>127</td>\n",
       "    </tr>\n",
       "    <tr>\n",
       "      <td>2</td>\n",
       "      <td>Young</td>\n",
       "      <td>Female</td>\n",
       "      <td>Rent</td>\n",
       "      <td>Single</td>\n",
       "      <td>Close</td>\n",
       "      <td>13500</td>\n",
       "      <td>0</td>\n",
       "      <td>Low</td>\n",
       "      <td>18</td>\n",
       "      <td>296</td>\n",
       "      <td>479</td>\n",
       "    </tr>\n",
       "    <tr>\n",
       "      <td>3</td>\n",
       "      <td>Middle</td>\n",
       "      <td>Male</td>\n",
       "      <td>Own</td>\n",
       "      <td>Married</td>\n",
       "      <td>Close</td>\n",
       "      <td>85600</td>\n",
       "      <td>1</td>\n",
       "      <td>High</td>\n",
       "      <td>18</td>\n",
       "      <td>2436</td>\n",
       "      <td>475</td>\n",
       "    </tr>\n",
       "    <tr>\n",
       "      <td>4</td>\n",
       "      <td>Middle</td>\n",
       "      <td>Female</td>\n",
       "      <td>Own</td>\n",
       "      <td>Single</td>\n",
       "      <td>Close</td>\n",
       "      <td>68400</td>\n",
       "      <td>0</td>\n",
       "      <td>High</td>\n",
       "      <td>12</td>\n",
       "      <td>1304</td>\n",
       "      <td>151</td>\n",
       "    </tr>\n",
       "  </tbody>\n",
       "</table>\n",
       "</div>"
      ],
      "text/plain": [
       "      Age  Gender OwnHome  Married Location  Salary  Children History  \\\n",
       "0     Old  Female     Own   Single      Far   47500         0    High   \n",
       "1  Middle    Male    Rent   Single    Close   63600         0    High   \n",
       "2   Young  Female    Rent   Single    Close   13500         0     Low   \n",
       "3  Middle    Male     Own  Married    Close   85600         1    High   \n",
       "4  Middle  Female     Own   Single    Close   68400         0    High   \n",
       "\n",
       "   Catalogs  AmountSpent  Cust_Id  \n",
       "0         6          755      247  \n",
       "1         6         1318      127  \n",
       "2        18          296      479  \n",
       "3        18         2436      475  \n",
       "4        12         1304      151  "
      ]
     },
     "execution_count": 29,
     "metadata": {},
     "output_type": "execute_result"
    }
   ],
   "source": [
    "dm.head()"
   ]
  },
  {
   "cell_type": "code",
   "execution_count": 30,
   "metadata": {},
   "outputs": [
    {
     "data": {
      "text/plain": [
       "Age\n",
       "Middle    508\n",
       "Old       205\n",
       "Young     287\n",
       "Name: Age, dtype: int64"
      ]
     },
     "execution_count": 30,
     "metadata": {},
     "output_type": "execute_result"
    }
   ],
   "source": [
    "dm.groupby('Age')['Age'].count()"
   ]
  },
  {
   "cell_type": "code",
   "execution_count": 31,
   "metadata": {},
   "outputs": [
    {
     "data": {
      "text/plain": [
       "Gender\n",
       "Female    506\n",
       "Male      494\n",
       "Name: Gender, dtype: int64"
      ]
     },
     "execution_count": 31,
     "metadata": {},
     "output_type": "execute_result"
    }
   ],
   "source": [
    "dm.groupby('Gender')['Gender'].count()"
   ]
  },
  {
   "cell_type": "code",
   "execution_count": 32,
   "metadata": {},
   "outputs": [
    {
     "data": {
      "text/plain": [
       "OwnHome\n",
       "Own     516\n",
       "Rent    484\n",
       "Name: OwnHome, dtype: int64"
      ]
     },
     "execution_count": 32,
     "metadata": {},
     "output_type": "execute_result"
    }
   ],
   "source": [
    "dm.groupby('OwnHome')['OwnHome'].count()"
   ]
  },
  {
   "cell_type": "code",
   "execution_count": 33,
   "metadata": {},
   "outputs": [
    {
     "data": {
      "text/plain": [
       "Married\n",
       "Married    502\n",
       "Single     498\n",
       "Name: Married, dtype: int64"
      ]
     },
     "execution_count": 33,
     "metadata": {},
     "output_type": "execute_result"
    }
   ],
   "source": [
    "dm.groupby('Married')['Married'].count()"
   ]
  },
  {
   "cell_type": "code",
   "execution_count": 34,
   "metadata": {},
   "outputs": [
    {
     "data": {
      "text/plain": [
       "Location\n",
       "Close    710\n",
       "Far      290\n",
       "Name: Location, dtype: int64"
      ]
     },
     "execution_count": 34,
     "metadata": {},
     "output_type": "execute_result"
    }
   ],
   "source": [
    "dm.groupby('Location')['Location'].count()"
   ]
  },
  {
   "cell_type": "code",
   "execution_count": 35,
   "metadata": {},
   "outputs": [
    {
     "data": {
      "text/plain": [
       "(13.009027718462155, 0.00030999285491423476, 1, array([[254.012, 251.988],\n",
       "        [247.988, 246.012]]))"
      ]
     },
     "execution_count": 35,
     "metadata": {},
     "output_type": "execute_result"
    }
   ],
   "source": [
    "# realtionship between gender and martial status\n",
    "from scipy.stats import chi2_contingency\n",
    "#H0 = there is a no relationship between gender and marital status\n",
    "table=pd.crosstab(dm['Gender'],dm['Married'])\n",
    "chi2_contingency(table)\n",
    "# reject the null hypothesis."
   ]
  },
  {
   "cell_type": "code",
   "execution_count": 36,
   "metadata": {},
   "outputs": [
    {
     "data": {
      "text/plain": [
       "<matplotlib.axes._subplots.AxesSubplot at 0x2944ef6dc48>"
      ]
     },
     "execution_count": 36,
     "metadata": {},
     "output_type": "execute_result"
    },
    {
     "data": {
      "image/png": "[encoded data removed]",
      "text/plain": [
       "<Figure size 432x288 with 2 Axes>"
      ]
     },
     "metadata": {
      "needs_background": "light"
     },
     "output_type": "display_data"
    }
   ],
   "source": [
    "table1=pd.crosstab(dm['Location'],dm['History'])\n",
    "sns.heatmap(table1,annot = True)"
   ]
  },
  {
   "cell_type": "code",
   "execution_count": 37,
   "metadata": {},
   "outputs": [
    {
     "data": {
      "text/html": [
       "<div>\n",
       "<style scoped>\n",
       "    .dataframe tbody tr th:only-of-type {\n",
       "        vertical-align: middle;\n",
       "    }\n",
       "\n",
       "    .dataframe tbody tr th {\n",
       "        vertical-align: top;\n",
       "    }\n",
       "\n",
       "    .dataframe thead th {\n",
       "        text-align: right;\n",
       "    }\n",
       "</style>\n",
       "<table border=\"1\" class=\"dataframe\">\n",
       "  <thead>\n",
       "    <tr style=\"text-align: right;\">\n",
       "      <th></th>\n",
       "      <th>Salary</th>\n",
       "      <th>Children</th>\n",
       "      <th>Catalogs</th>\n",
       "      <th>AmountSpent</th>\n",
       "      <th>AgeMiddle</th>\n",
       "      <th>AgeOld</th>\n",
       "      <th>AgeYoung</th>\n",
       "      <th>GenderFemale</th>\n",
       "      <th>GenderMale</th>\n",
       "      <th>OwnHomeOwn</th>\n",
       "      <th>OwnHomeRent</th>\n",
       "      <th>MarriedMarried</th>\n",
       "      <th>MarriedSingle</th>\n",
       "      <th>LocationClose</th>\n",
       "      <th>LocationFar</th>\n",
       "      <th>HistoryHigh</th>\n",
       "      <th>HistoryLow</th>\n",
       "      <th>HistoryMedium</th>\n",
       "      <th>HistoryMissing</th>\n",
       "    </tr>\n",
       "  </thead>\n",
       "  <tbody>\n",
       "    <tr>\n",
       "      <td>0</td>\n",
       "      <td>47500</td>\n",
       "      <td>0</td>\n",
       "      <td>6</td>\n",
       "      <td>755</td>\n",
       "      <td>0</td>\n",
       "      <td>1</td>\n",
       "      <td>0</td>\n",
       "      <td>1</td>\n",
       "      <td>0</td>\n",
       "      <td>1</td>\n",
       "      <td>0</td>\n",
       "      <td>0</td>\n",
       "      <td>1</td>\n",
       "      <td>0</td>\n",
       "      <td>1</td>\n",
       "      <td>1</td>\n",
       "      <td>0</td>\n",
       "      <td>0</td>\n",
       "      <td>0</td>\n",
       "    </tr>\n",
       "    <tr>\n",
       "      <td>1</td>\n",
       "      <td>63600</td>\n",
       "      <td>0</td>\n",
       "      <td>6</td>\n",
       "      <td>1318</td>\n",
       "      <td>1</td>\n",
       "      <td>0</td>\n",
       "      <td>0</td>\n",
       "      <td>0</td>\n",
       "      <td>1</td>\n",
       "      <td>0</td>\n",
       "      <td>1</td>\n",
       "      <td>0</td>\n",
       "      <td>1</td>\n",
       "      <td>1</td>\n",
       "      <td>0</td>\n",
       "      <td>1</td>\n",
       "      <td>0</td>\n",
       "      <td>0</td>\n",
       "      <td>0</td>\n",
       "    </tr>\n",
       "    <tr>\n",
       "      <td>2</td>\n",
       "      <td>13500</td>\n",
       "      <td>0</td>\n",
       "      <td>18</td>\n",
       "      <td>296</td>\n",
       "      <td>0</td>\n",
       "      <td>0</td>\n",
       "      <td>1</td>\n",
       "      <td>1</td>\n",
       "      <td>0</td>\n",
       "      <td>0</td>\n",
       "      <td>1</td>\n",
       "      <td>0</td>\n",
       "      <td>1</td>\n",
       "      <td>1</td>\n",
       "      <td>0</td>\n",
       "      <td>0</td>\n",
       "      <td>1</td>\n",
       "      <td>0</td>\n",
       "      <td>0</td>\n",
       "    </tr>\n",
       "    <tr>\n",
       "      <td>3</td>\n",
       "      <td>85600</td>\n",
       "      <td>1</td>\n",
       "      <td>18</td>\n",
       "      <td>2436</td>\n",
       "      <td>1</td>\n",
       "      <td>0</td>\n",
       "      <td>0</td>\n",
       "      <td>0</td>\n",
       "      <td>1</td>\n",
       "      <td>1</td>\n",
       "      <td>0</td>\n",
       "      <td>1</td>\n",
       "      <td>0</td>\n",
       "      <td>1</td>\n",
       "      <td>0</td>\n",
       "      <td>1</td>\n",
       "      <td>0</td>\n",
       "      <td>0</td>\n",
       "      <td>0</td>\n",
       "    </tr>\n",
       "    <tr>\n",
       "      <td>4</td>\n",
       "      <td>68400</td>\n",
       "      <td>0</td>\n",
       "      <td>12</td>\n",
       "      <td>1304</td>\n",
       "      <td>1</td>\n",
       "      <td>0</td>\n",
       "      <td>0</td>\n",
       "      <td>1</td>\n",
       "      <td>0</td>\n",
       "      <td>1</td>\n",
       "      <td>0</td>\n",
       "      <td>0</td>\n",
       "      <td>1</td>\n",
       "      <td>1</td>\n",
       "      <td>0</td>\n",
       "      <td>1</td>\n",
       "      <td>0</td>\n",
       "      <td>0</td>\n",
       "      <td>0</td>\n",
       "    </tr>\n",
       "  </tbody>\n",
       "</table>\n",
       "</div>"
      ],
      "text/plain": [
       "   Salary  Children  Catalogs  AmountSpent  AgeMiddle  AgeOld  AgeYoung  \\\n",
       "0   47500         0         6          755          0       1         0   \n",
       "1   63600         0         6         1318          1       0         0   \n",
       "2   13500         0        18          296          0       0         1   \n",
       "3   85600         1        18         2436          1       0         0   \n",
       "4   68400         0        12         1304          1       0         0   \n",
       "\n",
       "   GenderFemale  GenderMale  OwnHomeOwn  OwnHomeRent  MarriedMarried  \\\n",
       "0             1           0           1            0               0   \n",
       "1             0           1           0            1               0   \n",
       "2             1           0           0            1               0   \n",
       "3             0           1           1            0               1   \n",
       "4             1           0           1            0               0   \n",
       "\n",
       "   MarriedSingle  LocationClose  LocationFar  HistoryHigh  HistoryLow  \\\n",
       "0              1              0            1            1           0   \n",
       "1              1              1            0            1           0   \n",
       "2              1              1            0            0           1   \n",
       "3              0              1            0            1           0   \n",
       "4              1              1            0            1           0   \n",
       "\n",
       "   HistoryMedium  HistoryMissing  \n",
       "0              0               0  \n",
       "1              0               0  \n",
       "2              0               0  \n",
       "3              0               0  \n",
       "4              0               0  "
      ]
     },
     "execution_count": 37,
     "metadata": {},
     "output_type": "execute_result"
    }
   ],
   "source": [
    "#Create dummies\n",
    "data=pd.get_dummies(dm,prefix_sep='').drop('Cust_Id',axis=1)\n",
    "data.head()"
   ]
  },
  {
   "cell_type": "code",
   "execution_count": null,
   "metadata": {},
   "outputs": [],
   "source": []
  },
  {
   "cell_type": "code",
   "execution_count": 39,
   "metadata": {},
   "outputs": [
    {
     "ename": "SyntaxError",
     "evalue": "invalid syntax (<ipython-input-39-a0ae7ff91228>, line 1)",
     "output_type": "error",
     "traceback": [
      "\u001b[1;36m  File \u001b[1;32m\"<ipython-input-39-a0ae7ff91228>\"\u001b[1;36m, line \u001b[1;32m1\u001b[0m\n\u001b[1;33m    AmountSpent~AgeMiddle+AgeYoung+GenderFemale+OwnHomeOwn+MarriedMarried+LocationClose+Salary+Children+HistoryHigh+HistoryLow+HistoryMissing+Catalogs\u001b[0m\n\u001b[1;37m               ^\u001b[0m\n\u001b[1;31mSyntaxError\u001b[0m\u001b[1;31m:\u001b[0m invalid syntax\n"
     ]
    }
   ],
   "source": [
    "AmountSpent~AgeMiddle+AgeYoung+GenderFemale+OwnHomeOwn+MarriedMarried+LocationClose+Salary+Children+HistoryHigh+HistoryLow+HistoryMissing+Catalogs"
   ]
  },
  {
   "cell_type": "code",
   "execution_count": 40,
   "metadata": {},
   "outputs": [],
   "source": [
    "#Linear model to predict Amount Spent\n",
    "from statsmodels.formula.api import ols\n",
    "mod1=ols('AmountSpent~AgeMiddle+AgeYoung+GenderFemale+OwnHomeOwn+MarriedMarried+LocationClose+Salary+Children+HistoryHigh+HistoryLow+HistoryMissing+Catalogs',data).fit()"
   ]
  },
  {
   "cell_type": "code",
   "execution_count": 41,
   "metadata": {},
   "outputs": [
    {
     "data": {
      "text/html": [
       "<table class=\"simpletable\">\n",
       "<caption>OLS Regression Results</caption>\n",
       "<tr>\n",
       "  <th>Dep. Variable:</th>       <td>AmountSpent</td>   <th>  R-squared:         </th> <td>   0.748</td> \n",
       "</tr>\n",
       "<tr>\n",
       "  <th>Model:</th>                   <td>OLS</td>       <th>  Adj. R-squared:    </th> <td>   0.745</td> \n",
       "</tr>\n",
       "<tr>\n",
       "  <th>Method:</th>             <td>Least Squares</td>  <th>  F-statistic:       </th> <td>   243.7</td> \n",
       "</tr>\n",
       "<tr>\n",
       "  <th>Date:</th>             <td>Fri, 31 Jan 2020</td> <th>  Prob (F-statistic):</th> <td>4.66e-285</td>\n",
       "</tr>\n",
       "<tr>\n",
       "  <th>Time:</th>                 <td>10:58:17</td>     <th>  Log-Likelihood:    </th> <td> -7598.0</td> \n",
       "</tr>\n",
       "<tr>\n",
       "  <th>No. Observations:</th>      <td>  1000</td>      <th>  AIC:               </th> <td>1.522e+04</td>\n",
       "</tr>\n",
       "<tr>\n",
       "  <th>Df Residuals:</th>          <td>   987</td>      <th>  BIC:               </th> <td>1.529e+04</td>\n",
       "</tr>\n",
       "<tr>\n",
       "  <th>Df Model:</th>              <td>    12</td>      <th>                     </th>     <td> </td>    \n",
       "</tr>\n",
       "<tr>\n",
       "  <th>Covariance Type:</th>      <td>nonrobust</td>    <th>                     </th>     <td> </td>    \n",
       "</tr>\n",
       "</table>\n",
       "<table class=\"simpletable\">\n",
       "<tr>\n",
       "         <td></td>           <th>coef</th>     <th>std err</th>      <th>t</th>      <th>P>|t|</th>  <th>[0.025</th>    <th>0.975]</th>  \n",
       "</tr>\n",
       "<tr>\n",
       "  <th>Intercept</th>      <td> -221.1741</td> <td>   79.205</td> <td>   -2.792</td> <td> 0.005</td> <td> -376.603</td> <td>  -65.745</td>\n",
       "</tr>\n",
       "<tr>\n",
       "  <th>AgeMiddle</th>      <td>  -63.3683</td> <td>   47.796</td> <td>   -1.326</td> <td> 0.185</td> <td> -157.161</td> <td>   30.425</td>\n",
       "</tr>\n",
       "<tr>\n",
       "  <th>AgeYoung</th>       <td>  -54.4671</td> <td>   54.421</td> <td>   -1.001</td> <td> 0.317</td> <td> -161.262</td> <td>   52.328</td>\n",
       "</tr>\n",
       "<tr>\n",
       "  <th>GenderFemale</th>   <td>   46.9984</td> <td>   32.852</td> <td>    1.431</td> <td> 0.153</td> <td>  -17.469</td> <td>  111.466</td>\n",
       "</tr>\n",
       "<tr>\n",
       "  <th>OwnHomeOwn</th>     <td>   16.6338</td> <td>   36.643</td> <td>    0.454</td> <td> 0.650</td> <td>  -55.274</td> <td>   88.541</td>\n",
       "</tr>\n",
       "<tr>\n",
       "  <th>MarriedMarried</th> <td>  -32.7431</td> <td>   44.541</td> <td>   -0.735</td> <td> 0.462</td> <td> -120.148</td> <td>   54.662</td>\n",
       "</tr>\n",
       "<tr>\n",
       "  <th>LocationClose</th>  <td> -436.5057</td> <td>   35.921</td> <td>  -12.152</td> <td> 0.000</td> <td> -506.997</td> <td> -366.015</td>\n",
       "</tr>\n",
       "<tr>\n",
       "  <th>Salary</th>         <td>    0.0192</td> <td>    0.001</td> <td>   18.652</td> <td> 0.000</td> <td>    0.017</td> <td>    0.021</td>\n",
       "</tr>\n",
       "<tr>\n",
       "  <th>Children</th>       <td> -162.7355</td> <td>   18.003</td> <td>   -9.039</td> <td> 0.000</td> <td> -198.065</td> <td> -127.406</td>\n",
       "</tr>\n",
       "<tr>\n",
       "  <th>HistoryHigh</th>    <td>  404.4101</td> <td>   52.944</td> <td>    7.638</td> <td> 0.000</td> <td>  300.514</td> <td>  508.306</td>\n",
       "</tr>\n",
       "<tr>\n",
       "  <th>HistoryLow</th>     <td>   51.5148</td> <td>   52.155</td> <td>    0.988</td> <td> 0.324</td> <td>  -50.832</td> <td>  153.862</td>\n",
       "</tr>\n",
       "<tr>\n",
       "  <th>HistoryMissing</th> <td>  411.4023</td> <td>   44.866</td> <td>    9.170</td> <td> 0.000</td> <td>  323.360</td> <td>  499.445</td>\n",
       "</tr>\n",
       "<tr>\n",
       "  <th>Catalogs</th>       <td>   41.8688</td> <td>    2.458</td> <td>   17.034</td> <td> 0.000</td> <td>   37.045</td> <td>   46.692</td>\n",
       "</tr>\n",
       "</table>\n",
       "<table class=\"simpletable\">\n",
       "<tr>\n",
       "  <th>Omnibus:</th>       <td>289.119</td> <th>  Durbin-Watson:     </th> <td>   1.980</td> \n",
       "</tr>\n",
       "<tr>\n",
       "  <th>Prob(Omnibus):</th> <td> 0.000</td>  <th>  Jarque-Bera (JB):  </th> <td>1381.935</td> \n",
       "</tr>\n",
       "<tr>\n",
       "  <th>Skew:</th>          <td> 1.259</td>  <th>  Prob(JB):          </th> <td>8.25e-301</td>\n",
       "</tr>\n",
       "<tr>\n",
       "  <th>Kurtosis:</th>      <td> 8.179</td>  <th>  Cond. No.          </th> <td>3.84e+05</td> \n",
       "</tr>\n",
       "</table><br/><br/>Warnings:<br/>[1] Standard Errors assume that the covariance matrix of the errors is correctly specified.<br/>[2] The condition number is large, 3.84e+05. This might indicate that there are<br/>strong multicollinearity or other numerical problems."
      ],
      "text/plain": [
       "<class 'statsmodels.iolib.summary.Summary'>\n",
       "\"\"\"\n",
       "                            OLS Regression Results                            \n",
       "==============================================================================\n",
       "Dep. Variable:            AmountSpent   R-squared:                       0.748\n",
       "Model:                            OLS   Adj. R-squared:                  0.745\n",
       "Method:                 Least Squares   F-statistic:                     243.7\n",
       "Date:                Fri, 31 Jan 2020   Prob (F-statistic):          4.66e-285\n",
       "Time:                        10:58:17   Log-Likelihood:                -7598.0\n",
       "No. Observations:                1000   AIC:                         1.522e+04\n",
       "Df Residuals:                     987   BIC:                         1.529e+04\n",
       "Df Model:                          12                                         \n",
       "Covariance Type:            nonrobust                                         \n",
       "==================================================================================\n",
       "                     coef    std err          t      P>|t|      [0.025      0.975]\n",
       "----------------------------------------------------------------------------------\n",
       "Intercept       -221.1741     79.205     -2.792      0.005    -376.603     -65.745\n",
       "AgeMiddle        -63.3683     47.796     -1.326      0.185    -157.161      30.425\n",
       "AgeYoung         -54.4671     54.421     -1.001      0.317    -161.262      52.328\n",
       "GenderFemale      46.9984     32.852      1.431      0.153     -17.469     111.466\n",
       "OwnHomeOwn        16.6338     36.643      0.454      0.650     -55.274      88.541\n",
       "MarriedMarried   -32.7431     44.541     -0.735      0.462    -120.148      54.662\n",
       "LocationClose   -436.5057     35.921    -12.152      0.000    -506.997    -366.015\n",
       "Salary             0.0192      0.001     18.652      0.000       0.017       0.021\n",
       "Children        -162.7355     18.003     -9.039      0.000    -198.065    -127.406\n",
       "HistoryHigh      404.4101     52.944      7.638      0.000     300.514     508.306\n",
       "HistoryLow        51.5148     52.155      0.988      0.324     -50.832     153.862\n",
       "HistoryMissing   411.4023     44.866      9.170      0.000     323.360     499.445\n",
       "Catalogs          41.8688      2.458     17.034      0.000      37.045      46.692\n",
       "==============================================================================\n",
       "Omnibus:                      289.119   Durbin-Watson:                   1.980\n",
       "Prob(Omnibus):                  0.000   Jarque-Bera (JB):             1381.935\n",
       "Skew:                           1.259   Prob(JB):                    8.25e-301\n",
       "Kurtosis:                       8.179   Cond. No.                     3.84e+05\n",
       "==============================================================================\n",
       "\n",
       "Warnings:\n",
       "[1] Standard Errors assume that the covariance matrix of the errors is correctly specified.\n",
       "[2] The condition number is large, 3.84e+05. This might indicate that there are\n",
       "strong multicollinearity or other numerical problems.\n",
       "\"\"\""
      ]
     },
     "execution_count": 41,
     "metadata": {},
     "output_type": "execute_result"
    }
   ],
   "source": [
    "mod1.summary()"
   ]
  },
  {
   "cell_type": "code",
   "execution_count": 42,
   "metadata": {},
   "outputs": [],
   "source": [
    "mod2=ols('AmountSpent~AgeMiddle+AgeYoung+GenderMale+OwnHomeRent+MarriedMarried+LocationClose+Salary+Children+HistoryMissing+HistoryHigh+HistoryMedium+Catalogs',data).fit()"
   ]
  },
  {
   "cell_type": "code",
   "execution_count": 43,
   "metadata": {},
   "outputs": [
    {
     "data": {
      "text/html": [
       "<table class=\"simpletable\">\n",
       "<caption>OLS Regression Results</caption>\n",
       "<tr>\n",
       "  <th>Dep. Variable:</th>       <td>AmountSpent</td>   <th>  R-squared:         </th> <td>   0.748</td> \n",
       "</tr>\n",
       "<tr>\n",
       "  <th>Model:</th>                   <td>OLS</td>       <th>  Adj. R-squared:    </th> <td>   0.745</td> \n",
       "</tr>\n",
       "<tr>\n",
       "  <th>Method:</th>             <td>Least Squares</td>  <th>  F-statistic:       </th> <td>   243.7</td> \n",
       "</tr>\n",
       "<tr>\n",
       "  <th>Date:</th>             <td>Fri, 31 Jan 2020</td> <th>  Prob (F-statistic):</th> <td>4.66e-285</td>\n",
       "</tr>\n",
       "<tr>\n",
       "  <th>Time:</th>                 <td>10:58:19</td>     <th>  Log-Likelihood:    </th> <td> -7598.0</td> \n",
       "</tr>\n",
       "<tr>\n",
       "  <th>No. Observations:</th>      <td>  1000</td>      <th>  AIC:               </th> <td>1.522e+04</td>\n",
       "</tr>\n",
       "<tr>\n",
       "  <th>Df Residuals:</th>          <td>   987</td>      <th>  BIC:               </th> <td>1.529e+04</td>\n",
       "</tr>\n",
       "<tr>\n",
       "  <th>Df Model:</th>              <td>    12</td>      <th>                     </th>     <td> </td>    \n",
       "</tr>\n",
       "<tr>\n",
       "  <th>Covariance Type:</th>      <td>nonrobust</td>    <th>                     </th>     <td> </td>    \n",
       "</tr>\n",
       "</table>\n",
       "<table class=\"simpletable\">\n",
       "<tr>\n",
       "         <td></td>           <th>coef</th>     <th>std err</th>      <th>t</th>      <th>P>|t|</th>  <th>[0.025</th>    <th>0.975]</th>  \n",
       "</tr>\n",
       "<tr>\n",
       "  <th>Intercept</th>      <td> -106.0271</td> <td>   73.538</td> <td>   -1.442</td> <td> 0.150</td> <td> -250.336</td> <td>   38.281</td>\n",
       "</tr>\n",
       "<tr>\n",
       "  <th>AgeMiddle</th>      <td>  -63.3683</td> <td>   47.796</td> <td>   -1.326</td> <td> 0.185</td> <td> -157.161</td> <td>   30.425</td>\n",
       "</tr>\n",
       "<tr>\n",
       "  <th>AgeYoung</th>       <td>  -54.4671</td> <td>   54.421</td> <td>   -1.001</td> <td> 0.317</td> <td> -161.262</td> <td>   52.328</td>\n",
       "</tr>\n",
       "<tr>\n",
       "  <th>GenderMale</th>     <td>  -46.9984</td> <td>   32.852</td> <td>   -1.431</td> <td> 0.153</td> <td> -111.466</td> <td>   17.469</td>\n",
       "</tr>\n",
       "<tr>\n",
       "  <th>OwnHomeRent</th>    <td>  -16.6338</td> <td>   36.643</td> <td>   -0.454</td> <td> 0.650</td> <td>  -88.541</td> <td>   55.274</td>\n",
       "</tr>\n",
       "<tr>\n",
       "  <th>MarriedMarried</th> <td>  -32.7431</td> <td>   44.541</td> <td>   -0.735</td> <td> 0.462</td> <td> -120.148</td> <td>   54.662</td>\n",
       "</tr>\n",
       "<tr>\n",
       "  <th>LocationClose</th>  <td> -436.5057</td> <td>   35.921</td> <td>  -12.152</td> <td> 0.000</td> <td> -506.997</td> <td> -366.015</td>\n",
       "</tr>\n",
       "<tr>\n",
       "  <th>Salary</th>         <td>    0.0192</td> <td>    0.001</td> <td>   18.652</td> <td> 0.000</td> <td>    0.017</td> <td>    0.021</td>\n",
       "</tr>\n",
       "<tr>\n",
       "  <th>Children</th>       <td> -162.7355</td> <td>   18.003</td> <td>   -9.039</td> <td> 0.000</td> <td> -198.065</td> <td> -127.406</td>\n",
       "</tr>\n",
       "<tr>\n",
       "  <th>HistoryMissing</th> <td>  359.8875</td> <td>   46.711</td> <td>    7.705</td> <td> 0.000</td> <td>  268.223</td> <td>  451.552</td>\n",
       "</tr>\n",
       "<tr>\n",
       "  <th>HistoryHigh</th>    <td>  352.8953</td> <td>   65.575</td> <td>    5.382</td> <td> 0.000</td> <td>  224.212</td> <td>  481.578</td>\n",
       "</tr>\n",
       "<tr>\n",
       "  <th>HistoryMedium</th>  <td>  -51.5148</td> <td>   52.155</td> <td>   -0.988</td> <td> 0.324</td> <td> -153.862</td> <td>   50.832</td>\n",
       "</tr>\n",
       "<tr>\n",
       "  <th>Catalogs</th>       <td>   41.8688</td> <td>    2.458</td> <td>   17.034</td> <td> 0.000</td> <td>   37.045</td> <td>   46.692</td>\n",
       "</tr>\n",
       "</table>\n",
       "<table class=\"simpletable\">\n",
       "<tr>\n",
       "  <th>Omnibus:</th>       <td>289.119</td> <th>  Durbin-Watson:     </th> <td>   1.980</td> \n",
       "</tr>\n",
       "<tr>\n",
       "  <th>Prob(Omnibus):</th> <td> 0.000</td>  <th>  Jarque-Bera (JB):  </th> <td>1381.935</td> \n",
       "</tr>\n",
       "<tr>\n",
       "  <th>Skew:</th>          <td> 1.259</td>  <th>  Prob(JB):          </th> <td>8.25e-301</td>\n",
       "</tr>\n",
       "<tr>\n",
       "  <th>Kurtosis:</th>      <td> 8.179</td>  <th>  Cond. No.          </th> <td>3.87e+05</td> \n",
       "</tr>\n",
       "</table><br/><br/>Warnings:<br/>[1] Standard Errors assume that the covariance matrix of the errors is correctly specified.<br/>[2] The condition number is large, 3.87e+05. This might indicate that there are<br/>strong multicollinearity or other numerical problems."
      ],
      "text/plain": [
       "<class 'statsmodels.iolib.summary.Summary'>\n",
       "\"\"\"\n",
       "                            OLS Regression Results                            \n",
       "==============================================================================\n",
       "Dep. Variable:            AmountSpent   R-squared:                       0.748\n",
       "Model:                            OLS   Adj. R-squared:                  0.745\n",
       "Method:                 Least Squares   F-statistic:                     243.7\n",
       "Date:                Fri, 31 Jan 2020   Prob (F-statistic):          4.66e-285\n",
       "Time:                        10:58:19   Log-Likelihood:                -7598.0\n",
       "No. Observations:                1000   AIC:                         1.522e+04\n",
       "Df Residuals:                     987   BIC:                         1.529e+04\n",
       "Df Model:                          12                                         \n",
       "Covariance Type:            nonrobust                                         \n",
       "==================================================================================\n",
       "                     coef    std err          t      P>|t|      [0.025      0.975]\n",
       "----------------------------------------------------------------------------------\n",
       "Intercept       -106.0271     73.538     -1.442      0.150    -250.336      38.281\n",
       "AgeMiddle        -63.3683     47.796     -1.326      0.185    -157.161      30.425\n",
       "AgeYoung         -54.4671     54.421     -1.001      0.317    -161.262      52.328\n",
       "GenderMale       -46.9984     32.852     -1.431      0.153    -111.466      17.469\n",
       "OwnHomeRent      -16.6338     36.643     -0.454      0.650     -88.541      55.274\n",
       "MarriedMarried   -32.7431     44.541     -0.735      0.462    -120.148      54.662\n",
       "LocationClose   -436.5057     35.921    -12.152      0.000    -506.997    -366.015\n",
       "Salary             0.0192      0.001     18.652      0.000       0.017       0.021\n",
       "Children        -162.7355     18.003     -9.039      0.000    -198.065    -127.406\n",
       "HistoryMissing   359.8875     46.711      7.705      0.000     268.223     451.552\n",
       "HistoryHigh      352.8953     65.575      5.382      0.000     224.212     481.578\n",
       "HistoryMedium    -51.5148     52.155     -0.988      0.324    -153.862      50.832\n",
       "Catalogs          41.8688      2.458     17.034      0.000      37.045      46.692\n",
       "==============================================================================\n",
       "Omnibus:                      289.119   Durbin-Watson:                   1.980\n",
       "Prob(Omnibus):                  0.000   Jarque-Bera (JB):             1381.935\n",
       "Skew:                           1.259   Prob(JB):                    8.25e-301\n",
       "Kurtosis:                       8.179   Cond. No.                     3.87e+05\n",
       "==============================================================================\n",
       "\n",
       "Warnings:\n",
       "[1] Standard Errors assume that the covariance matrix of the errors is correctly specified.\n",
       "[2] The condition number is large, 3.87e+05. This might indicate that there are\n",
       "strong multicollinearity or other numerical problems.\n",
       "\"\"\""
      ]
     },
     "execution_count": 43,
     "metadata": {},
     "output_type": "execute_result"
    }
   ],
   "source": [
    "mod2.summary()"
   ]
  },
  {
   "cell_type": "code",
   "execution_count": 44,
   "metadata": {},
   "outputs": [],
   "source": [
    "mod3=ols('AmountSpent~AgeMiddle+AgeOld+GenderMale+OwnHomeRent+MarriedMarried+LocationClose+Salary+Children+HistoryLow+HistoryHigh+HistoryMedium+Catalogs',data).fit()"
   ]
  },
  {
   "cell_type": "code",
   "execution_count": 45,
   "metadata": {},
   "outputs": [
    {
     "data": {
      "text/html": [
       "<table class=\"simpletable\">\n",
       "<caption>OLS Regression Results</caption>\n",
       "<tr>\n",
       "  <th>Dep. Variable:</th>       <td>AmountSpent</td>   <th>  R-squared:         </th> <td>   0.748</td> \n",
       "</tr>\n",
       "<tr>\n",
       "  <th>Model:</th>                   <td>OLS</td>       <th>  Adj. R-squared:    </th> <td>   0.745</td> \n",
       "</tr>\n",
       "<tr>\n",
       "  <th>Method:</th>             <td>Least Squares</td>  <th>  F-statistic:       </th> <td>   243.7</td> \n",
       "</tr>\n",
       "<tr>\n",
       "  <th>Date:</th>             <td>Fri, 31 Jan 2020</td> <th>  Prob (F-statistic):</th> <td>4.66e-285</td>\n",
       "</tr>\n",
       "<tr>\n",
       "  <th>Time:</th>                 <td>10:58:21</td>     <th>  Log-Likelihood:    </th> <td> -7598.0</td> \n",
       "</tr>\n",
       "<tr>\n",
       "  <th>No. Observations:</th>      <td>  1000</td>      <th>  AIC:               </th> <td>1.522e+04</td>\n",
       "</tr>\n",
       "<tr>\n",
       "  <th>Df Residuals:</th>          <td>   987</td>      <th>  BIC:               </th> <td>1.529e+04</td>\n",
       "</tr>\n",
       "<tr>\n",
       "  <th>Df Model:</th>              <td>    12</td>      <th>                     </th>     <td> </td>    \n",
       "</tr>\n",
       "<tr>\n",
       "  <th>Covariance Type:</th>      <td>nonrobust</td>    <th>                     </th>     <td> </td>    \n",
       "</tr>\n",
       "</table>\n",
       "<table class=\"simpletable\">\n",
       "<tr>\n",
       "         <td></td>           <th>coef</th>     <th>std err</th>      <th>t</th>      <th>P>|t|</th>  <th>[0.025</th>    <th>0.975]</th>  \n",
       "</tr>\n",
       "<tr>\n",
       "  <th>Intercept</th>      <td>  199.3934</td> <td>   71.577</td> <td>    2.786</td> <td> 0.005</td> <td>   58.933</td> <td>  339.853</td>\n",
       "</tr>\n",
       "<tr>\n",
       "  <th>AgeMiddle</th>      <td>   -8.9012</td> <td>   49.701</td> <td>   -0.179</td> <td> 0.858</td> <td> -106.432</td> <td>   88.630</td>\n",
       "</tr>\n",
       "<tr>\n",
       "  <th>AgeOld</th>         <td>   54.4671</td> <td>   54.421</td> <td>    1.001</td> <td> 0.317</td> <td>  -52.328</td> <td>  161.262</td>\n",
       "</tr>\n",
       "<tr>\n",
       "  <th>GenderMale</th>     <td>  -46.9984</td> <td>   32.852</td> <td>   -1.431</td> <td> 0.153</td> <td> -111.466</td> <td>   17.469</td>\n",
       "</tr>\n",
       "<tr>\n",
       "  <th>OwnHomeRent</th>    <td>  -16.6338</td> <td>   36.643</td> <td>   -0.454</td> <td> 0.650</td> <td>  -88.541</td> <td>   55.274</td>\n",
       "</tr>\n",
       "<tr>\n",
       "  <th>MarriedMarried</th> <td>  -32.7431</td> <td>   44.541</td> <td>   -0.735</td> <td> 0.462</td> <td> -120.148</td> <td>   54.662</td>\n",
       "</tr>\n",
       "<tr>\n",
       "  <th>LocationClose</th>  <td> -436.5057</td> <td>   35.921</td> <td>  -12.152</td> <td> 0.000</td> <td> -506.997</td> <td> -366.015</td>\n",
       "</tr>\n",
       "<tr>\n",
       "  <th>Salary</th>         <td>    0.0192</td> <td>    0.001</td> <td>   18.652</td> <td> 0.000</td> <td>    0.017</td> <td>    0.021</td>\n",
       "</tr>\n",
       "<tr>\n",
       "  <th>Children</th>       <td> -162.7355</td> <td>   18.003</td> <td>   -9.039</td> <td> 0.000</td> <td> -198.065</td> <td> -127.406</td>\n",
       "</tr>\n",
       "<tr>\n",
       "  <th>HistoryLow</th>     <td> -359.8875</td> <td>   46.711</td> <td>   -7.705</td> <td> 0.000</td> <td> -451.552</td> <td> -268.223</td>\n",
       "</tr>\n",
       "<tr>\n",
       "  <th>HistoryHigh</th>    <td>   -6.9922</td> <td>   51.329</td> <td>   -0.136</td> <td> 0.892</td> <td> -107.719</td> <td>   93.735</td>\n",
       "</tr>\n",
       "<tr>\n",
       "  <th>HistoryMedium</th>  <td> -411.4023</td> <td>   44.866</td> <td>   -9.170</td> <td> 0.000</td> <td> -499.445</td> <td> -323.360</td>\n",
       "</tr>\n",
       "<tr>\n",
       "  <th>Catalogs</th>       <td>   41.8688</td> <td>    2.458</td> <td>   17.034</td> <td> 0.000</td> <td>   37.045</td> <td>   46.692</td>\n",
       "</tr>\n",
       "</table>\n",
       "<table class=\"simpletable\">\n",
       "<tr>\n",
       "  <th>Omnibus:</th>       <td>289.119</td> <th>  Durbin-Watson:     </th> <td>   1.980</td> \n",
       "</tr>\n",
       "<tr>\n",
       "  <th>Prob(Omnibus):</th> <td> 0.000</td>  <th>  Jarque-Bera (JB):  </th> <td>1381.935</td> \n",
       "</tr>\n",
       "<tr>\n",
       "  <th>Skew:</th>          <td> 1.259</td>  <th>  Prob(JB):          </th> <td>8.25e-301</td>\n",
       "</tr>\n",
       "<tr>\n",
       "  <th>Kurtosis:</th>      <td> 8.179</td>  <th>  Cond. No.          </th> <td>3.40e+05</td> \n",
       "</tr>\n",
       "</table><br/><br/>Warnings:<br/>[1] Standard Errors assume that the covariance matrix of the errors is correctly specified.<br/>[2] The condition number is large, 3.4e+05. This might indicate that there are<br/>strong multicollinearity or other numerical problems."
      ],
      "text/plain": [
       "<class 'statsmodels.iolib.summary.Summary'>\n",
       "\"\"\"\n",
       "                            OLS Regression Results                            \n",
       "==============================================================================\n",
       "Dep. Variable:            AmountSpent   R-squared:                       0.748\n",
       "Model:                            OLS   Adj. R-squared:                  0.745\n",
       "Method:                 Least Squares   F-statistic:                     243.7\n",
       "Date:                Fri, 31 Jan 2020   Prob (F-statistic):          4.66e-285\n",
       "Time:                        10:58:21   Log-Likelihood:                -7598.0\n",
       "No. Observations:                1000   AIC:                         1.522e+04\n",
       "Df Residuals:                     987   BIC:                         1.529e+04\n",
       "Df Model:                          12                                         \n",
       "Covariance Type:            nonrobust                                         \n",
       "==================================================================================\n",
       "                     coef    std err          t      P>|t|      [0.025      0.975]\n",
       "----------------------------------------------------------------------------------\n",
       "Intercept        199.3934     71.577      2.786      0.005      58.933     339.853\n",
       "AgeMiddle         -8.9012     49.701     -0.179      0.858    -106.432      88.630\n",
       "AgeOld            54.4671     54.421      1.001      0.317     -52.328     161.262\n",
       "GenderMale       -46.9984     32.852     -1.431      0.153    -111.466      17.469\n",
       "OwnHomeRent      -16.6338     36.643     -0.454      0.650     -88.541      55.274\n",
       "MarriedMarried   -32.7431     44.541     -0.735      0.462    -120.148      54.662\n",
       "LocationClose   -436.5057     35.921    -12.152      0.000    -506.997    -366.015\n",
       "Salary             0.0192      0.001     18.652      0.000       0.017       0.021\n",
       "Children        -162.7355     18.003     -9.039      0.000    -198.065    -127.406\n",
       "HistoryLow      -359.8875     46.711     -7.705      0.000    -451.552    -268.223\n",
       "HistoryHigh       -6.9922     51.329     -0.136      0.892    -107.719      93.735\n",
       "HistoryMedium   -411.4023     44.866     -9.170      0.000    -499.445    -323.360\n",
       "Catalogs          41.8688      2.458     17.034      0.000      37.045      46.692\n",
       "==============================================================================\n",
       "Omnibus:                      289.119   Durbin-Watson:                   1.980\n",
       "Prob(Omnibus):                  0.000   Jarque-Bera (JB):             1381.935\n",
       "Skew:                           1.259   Prob(JB):                    8.25e-301\n",
       "Kurtosis:                       8.179   Cond. No.                     3.40e+05\n",
       "==============================================================================\n",
       "\n",
       "Warnings:\n",
       "[1] Standard Errors assume that the covariance matrix of the errors is correctly specified.\n",
       "[2] The condition number is large, 3.4e+05. This might indicate that there are\n",
       "strong multicollinearity or other numerical problems.\n",
       "\"\"\""
      ]
     },
     "execution_count": 45,
     "metadata": {},
     "output_type": "execute_result"
    }
   ],
   "source": [
    "mod3.summary()"
   ]
  },
  {
   "cell_type": "code",
   "execution_count": 46,
   "metadata": {},
   "outputs": [],
   "source": [
    "mod4=ols('AmountSpent~GenderFemale+LocationFar+Salary+Children+HistoryLow+HistoryMedium+Catalogs',data).fit()"
   ]
  },
  {
   "cell_type": "code",
   "execution_count": 47,
   "metadata": {},
   "outputs": [
    {
     "data": {
      "text/html": [
       "<table class=\"simpletable\">\n",
       "<caption>OLS Regression Results</caption>\n",
       "<tr>\n",
       "  <th>Dep. Variable:</th>       <td>AmountSpent</td>   <th>  R-squared:         </th> <td>   0.747</td> \n",
       "</tr>\n",
       "<tr>\n",
       "  <th>Model:</th>                   <td>OLS</td>       <th>  Adj. R-squared:    </th> <td>   0.745</td> \n",
       "</tr>\n",
       "<tr>\n",
       "  <th>Method:</th>             <td>Least Squares</td>  <th>  F-statistic:       </th> <td>   418.2</td> \n",
       "</tr>\n",
       "<tr>\n",
       "  <th>Date:</th>             <td>Fri, 31 Jan 2020</td> <th>  Prob (F-statistic):</th> <td>8.29e-291</td>\n",
       "</tr>\n",
       "<tr>\n",
       "  <th>Time:</th>                 <td>10:58:22</td>     <th>  Log-Likelihood:    </th> <td> -7599.5</td> \n",
       "</tr>\n",
       "<tr>\n",
       "  <th>No. Observations:</th>      <td>  1000</td>      <th>  AIC:               </th> <td>1.521e+04</td>\n",
       "</tr>\n",
       "<tr>\n",
       "  <th>Df Residuals:</th>          <td>   992</td>      <th>  BIC:               </th> <td>1.525e+04</td>\n",
       "</tr>\n",
       "<tr>\n",
       "  <th>Df Model:</th>              <td>     7</td>      <th>                     </th>     <td> </td>    \n",
       "</tr>\n",
       "<tr>\n",
       "  <th>Covariance Type:</th>      <td>nonrobust</td>    <th>                     </th>     <td> </td>    \n",
       "</tr>\n",
       "</table>\n",
       "<table class=\"simpletable\">\n",
       "<tr>\n",
       "        <td></td>           <th>coef</th>     <th>std err</th>      <th>t</th>      <th>P>|t|</th>  <th>[0.025</th>    <th>0.975]</th>  \n",
       "</tr>\n",
       "<tr>\n",
       "  <th>Intercept</th>     <td> -282.7070</td> <td>   59.724</td> <td>   -4.734</td> <td> 0.000</td> <td> -399.907</td> <td> -165.507</td>\n",
       "</tr>\n",
       "<tr>\n",
       "  <th>GenderFemale</th>  <td>   54.2840</td> <td>   32.148</td> <td>    1.689</td> <td> 0.092</td> <td>   -8.802</td> <td>  117.370</td>\n",
       "</tr>\n",
       "<tr>\n",
       "  <th>LocationFar</th>   <td>  436.0518</td> <td>   34.847</td> <td>   12.513</td> <td> 0.000</td> <td>  367.670</td> <td>  504.434</td>\n",
       "</tr>\n",
       "<tr>\n",
       "  <th>Salary</th>        <td>    0.0189</td> <td>    0.001</td> <td>   31.880</td> <td> 0.000</td> <td>    0.018</td> <td>    0.020</td>\n",
       "</tr>\n",
       "<tr>\n",
       "  <th>Children</th>      <td> -171.9862</td> <td>   15.650</td> <td>  -10.989</td> <td> 0.000</td> <td> -202.698</td> <td> -141.274</td>\n",
       "</tr>\n",
       "<tr>\n",
       "  <th>HistoryLow</th>    <td> -355.0246</td> <td>   46.113</td> <td>   -7.699</td> <td> 0.000</td> <td> -445.515</td> <td> -264.534</td>\n",
       "</tr>\n",
       "<tr>\n",
       "  <th>HistoryMedium</th> <td> -408.7898</td> <td>   40.139</td> <td>  -10.184</td> <td> 0.000</td> <td> -487.558</td> <td> -330.022</td>\n",
       "</tr>\n",
       "<tr>\n",
       "  <th>Catalogs</th>      <td>   41.7462</td> <td>    2.410</td> <td>   17.322</td> <td> 0.000</td> <td>   37.017</td> <td>   46.475</td>\n",
       "</tr>\n",
       "</table>\n",
       "<table class=\"simpletable\">\n",
       "<tr>\n",
       "  <th>Omnibus:</th>       <td>290.521</td> <th>  Durbin-Watson:     </th> <td>   1.978</td> \n",
       "</tr>\n",
       "<tr>\n",
       "  <th>Prob(Omnibus):</th> <td> 0.000</td>  <th>  Jarque-Bera (JB):  </th> <td>1380.073</td> \n",
       "</tr>\n",
       "<tr>\n",
       "  <th>Skew:</th>          <td> 1.268</td>  <th>  Prob(JB):          </th> <td>2.09e-300</td>\n",
       "</tr>\n",
       "<tr>\n",
       "  <th>Kurtosis:</th>      <td> 8.166</td>  <th>  Cond. No.          </th> <td>2.87e+05</td> \n",
       "</tr>\n",
       "</table><br/><br/>Warnings:<br/>[1] Standard Errors assume that the covariance matrix of the errors is correctly specified.<br/>[2] The condition number is large, 2.87e+05. This might indicate that there are<br/>strong multicollinearity or other numerical problems."
      ],
      "text/plain": [
       "<class 'statsmodels.iolib.summary.Summary'>\n",
       "\"\"\"\n",
       "                            OLS Regression Results                            \n",
       "==============================================================================\n",
       "Dep. Variable:            AmountSpent   R-squared:                       0.747\n",
       "Model:                            OLS   Adj. R-squared:                  0.745\n",
       "Method:                 Least Squares   F-statistic:                     418.2\n",
       "Date:                Fri, 31 Jan 2020   Prob (F-statistic):          8.29e-291\n",
       "Time:                        10:58:22   Log-Likelihood:                -7599.5\n",
       "No. Observations:                1000   AIC:                         1.521e+04\n",
       "Df Residuals:                     992   BIC:                         1.525e+04\n",
       "Df Model:                           7                                         \n",
       "Covariance Type:            nonrobust                                         \n",
       "=================================================================================\n",
       "                    coef    std err          t      P>|t|      [0.025      0.975]\n",
       "---------------------------------------------------------------------------------\n",
       "Intercept      -282.7070     59.724     -4.734      0.000    -399.907    -165.507\n",
       "GenderFemale     54.2840     32.148      1.689      0.092      -8.802     117.370\n",
       "LocationFar     436.0518     34.847     12.513      0.000     367.670     504.434\n",
       "Salary            0.0189      0.001     31.880      0.000       0.018       0.020\n",
       "Children       -171.9862     15.650    -10.989      0.000    -202.698    -141.274\n",
       "HistoryLow     -355.0246     46.113     -7.699      0.000    -445.515    -264.534\n",
       "HistoryMedium  -408.7898     40.139    -10.184      0.000    -487.558    -330.022\n",
       "Catalogs         41.7462      2.410     17.322      0.000      37.017      46.475\n",
       "==============================================================================\n",
       "Omnibus:                      290.521   Durbin-Watson:                   1.978\n",
       "Prob(Omnibus):                  0.000   Jarque-Bera (JB):             1380.073\n",
       "Skew:                           1.268   Prob(JB):                    2.09e-300\n",
       "Kurtosis:                       8.166   Cond. No.                     2.87e+05\n",
       "==============================================================================\n",
       "\n",
       "Warnings:\n",
       "[1] Standard Errors assume that the covariance matrix of the errors is correctly specified.\n",
       "[2] The condition number is large, 2.87e+05. This might indicate that there are\n",
       "strong multicollinearity or other numerical problems.\n",
       "\"\"\""
      ]
     },
     "execution_count": 47,
     "metadata": {},
     "output_type": "execute_result"
    }
   ],
   "source": [
    "mod4.summary()"
   ]
  },
  {
   "cell_type": "code",
   "execution_count": 48,
   "metadata": {},
   "outputs": [
    {
     "data": {
      "text/html": [
       "<table class=\"simpletable\">\n",
       "<caption>OLS Regression Results</caption>\n",
       "<tr>\n",
       "  <th>Dep. Variable:</th>       <td>AmountSpent</td>   <th>  R-squared:         </th> <td>   0.746</td> \n",
       "</tr>\n",
       "<tr>\n",
       "  <th>Model:</th>                   <td>OLS</td>       <th>  Adj. R-squared:    </th> <td>   0.745</td> \n",
       "</tr>\n",
       "<tr>\n",
       "  <th>Method:</th>             <td>Least Squares</td>  <th>  F-statistic:       </th> <td>   486.6</td> \n",
       "</tr>\n",
       "<tr>\n",
       "  <th>Date:</th>             <td>Fri, 31 Jan 2020</td> <th>  Prob (F-statistic):</th> <td>1.49e-291</td>\n",
       "</tr>\n",
       "<tr>\n",
       "  <th>Time:</th>                 <td>10:58:24</td>     <th>  Log-Likelihood:    </th> <td> -7600.9</td> \n",
       "</tr>\n",
       "<tr>\n",
       "  <th>No. Observations:</th>      <td>  1000</td>      <th>  AIC:               </th> <td>1.522e+04</td>\n",
       "</tr>\n",
       "<tr>\n",
       "  <th>Df Residuals:</th>          <td>   993</td>      <th>  BIC:               </th> <td>1.525e+04</td>\n",
       "</tr>\n",
       "<tr>\n",
       "  <th>Df Model:</th>              <td>     6</td>      <th>                     </th>     <td> </td>    \n",
       "</tr>\n",
       "<tr>\n",
       "  <th>Covariance Type:</th>      <td>nonrobust</td>    <th>                     </th>     <td> </td>    \n",
       "</tr>\n",
       "</table>\n",
       "<table class=\"simpletable\">\n",
       "<tr>\n",
       "        <td></td>           <th>coef</th>     <th>std err</th>      <th>t</th>      <th>P>|t|</th>  <th>[0.025</th>    <th>0.975]</th>  \n",
       "</tr>\n",
       "<tr>\n",
       "  <th>Intercept</th>     <td> -246.6598</td> <td>   55.831</td> <td>   -4.418</td> <td> 0.000</td> <td> -356.219</td> <td> -137.100</td>\n",
       "</tr>\n",
       "<tr>\n",
       "  <th>LocationFar</th>   <td>  436.6128</td> <td>   34.878</td> <td>   12.518</td> <td> 0.000</td> <td>  368.171</td> <td>  505.055</td>\n",
       "</tr>\n",
       "<tr>\n",
       "  <th>Salary</th>        <td>    0.0187</td> <td>    0.001</td> <td>   32.153</td> <td> 0.000</td> <td>    0.018</td> <td>    0.020</td>\n",
       "</tr>\n",
       "<tr>\n",
       "  <th>Children</th>      <td> -169.6602</td> <td>   15.604</td> <td>  -10.873</td> <td> 0.000</td> <td> -200.281</td> <td> -139.039</td>\n",
       "</tr>\n",
       "<tr>\n",
       "  <th>HistoryLow</th>    <td> -349.2223</td> <td>   46.028</td> <td>   -7.587</td> <td> 0.000</td> <td> -439.546</td> <td> -258.899</td>\n",
       "</tr>\n",
       "<tr>\n",
       "  <th>HistoryMedium</th> <td> -408.6669</td> <td>   40.177</td> <td>  -10.172</td> <td> 0.000</td> <td> -487.508</td> <td> -329.826</td>\n",
       "</tr>\n",
       "<tr>\n",
       "  <th>Catalogs</th>      <td>   41.6687</td> <td>    2.412</td> <td>   17.277</td> <td> 0.000</td> <td>   36.936</td> <td>   46.401</td>\n",
       "</tr>\n",
       "</table>\n",
       "<table class=\"simpletable\">\n",
       "<tr>\n",
       "  <th>Omnibus:</th>       <td>289.711</td> <th>  Durbin-Watson:     </th> <td>   1.977</td> \n",
       "</tr>\n",
       "<tr>\n",
       "  <th>Prob(Omnibus):</th> <td> 0.000</td>  <th>  Jarque-Bera (JB):  </th> <td>1372.492</td> \n",
       "</tr>\n",
       "<tr>\n",
       "  <th>Skew:</th>          <td> 1.265</td>  <th>  Prob(JB):          </th> <td>9.27e-299</td>\n",
       "</tr>\n",
       "<tr>\n",
       "  <th>Kurtosis:</th>      <td> 8.151</td>  <th>  Cond. No.          </th> <td>2.78e+05</td> \n",
       "</tr>\n",
       "</table><br/><br/>Warnings:<br/>[1] Standard Errors assume that the covariance matrix of the errors is correctly specified.<br/>[2] The condition number is large, 2.78e+05. This might indicate that there are<br/>strong multicollinearity or other numerical problems."
      ],
      "text/plain": [
       "<class 'statsmodels.iolib.summary.Summary'>\n",
       "\"\"\"\n",
       "                            OLS Regression Results                            \n",
       "==============================================================================\n",
       "Dep. Variable:            AmountSpent   R-squared:                       0.746\n",
       "Model:                            OLS   Adj. R-squared:                  0.745\n",
       "Method:                 Least Squares   F-statistic:                     486.6\n",
       "Date:                Fri, 31 Jan 2020   Prob (F-statistic):          1.49e-291\n",
       "Time:                        10:58:24   Log-Likelihood:                -7600.9\n",
       "No. Observations:                1000   AIC:                         1.522e+04\n",
       "Df Residuals:                     993   BIC:                         1.525e+04\n",
       "Df Model:                           6                                         \n",
       "Covariance Type:            nonrobust                                         \n",
       "=================================================================================\n",
       "                    coef    std err          t      P>|t|      [0.025      0.975]\n",
       "---------------------------------------------------------------------------------\n",
       "Intercept      -246.6598     55.831     -4.418      0.000    -356.219    -137.100\n",
       "LocationFar     436.6128     34.878     12.518      0.000     368.171     505.055\n",
       "Salary            0.0187      0.001     32.153      0.000       0.018       0.020\n",
       "Children       -169.6602     15.604    -10.873      0.000    -200.281    -139.039\n",
       "HistoryLow     -349.2223     46.028     -7.587      0.000    -439.546    -258.899\n",
       "HistoryMedium  -408.6669     40.177    -10.172      0.000    -487.508    -329.826\n",
       "Catalogs         41.6687      2.412     17.277      0.000      36.936      46.401\n",
       "==============================================================================\n",
       "Omnibus:                      289.711   Durbin-Watson:                   1.977\n",
       "Prob(Omnibus):                  0.000   Jarque-Bera (JB):             1372.492\n",
       "Skew:                           1.265   Prob(JB):                    9.27e-299\n",
       "Kurtosis:                       8.151   Cond. No.                     2.78e+05\n",
       "==============================================================================\n",
       "\n",
       "Warnings:\n",
       "[1] Standard Errors assume that the covariance matrix of the errors is correctly specified.\n",
       "[2] The condition number is large, 2.78e+05. This might indicate that there are\n",
       "strong multicollinearity or other numerical problems.\n",
       "\"\"\""
      ]
     },
     "execution_count": 48,
     "metadata": {},
     "output_type": "execute_result"
    }
   ],
   "source": [
    "mod5=ols('AmountSpent~LocationFar+Salary+Children+HistoryLow+HistoryMedium+Catalogs',data).fit()\n",
    "mod5.summary()"
   ]
  },
  {
   "cell_type": "code",
   "execution_count": 49,
   "metadata": {},
   "outputs": [
    {
     "data": {
      "text/plain": [
       "<matplotlib.axes._subplots.AxesSubplot at 0x2944fa8bf88>"
      ]
     },
     "execution_count": 49,
     "metadata": {},
     "output_type": "execute_result"
    },
    {
     "data": {
      "image/png": "[encoded data removed]",
      "text/plain": [
       "<Figure size 432x288 with 1 Axes>"
      ]
     },
     "metadata": {
      "needs_background": "light"
     },
     "output_type": "display_data"
    }
   ],
   "source": [
    "#Assumption check\n",
    "res=mod5.resid\n",
    "res.hist()"
   ]
  },
  {
   "cell_type": "code",
   "execution_count": 50,
   "metadata": {},
   "outputs": [
    {
     "data": {
      "image/png": "[encoded data removed]",
      "text/plain": [
       "<Figure size 432x288 with 1 Axes>"
      ]
     },
     "execution_count": 50,
     "metadata": {},
     "output_type": "execute_result"
    },
    {
     "data": {
      "image/png": "[encoded data removed]",
      "text/plain": [
       "<Figure size 432x288 with 1 Axes>"
      ]
     },
     "metadata": {
      "needs_background": "light"
     },
     "output_type": "display_data"
    }
   ],
   "source": [
    "#for normality check\n",
    "import statsmodels.api as sm\n",
    "sm.qqplot(res)"
   ]
  },
  {
   "cell_type": "code",
   "execution_count": 51,
   "metadata": {},
   "outputs": [
    {
     "data": {
      "text/html": [
       "<div>\n",
       "<style scoped>\n",
       "    .dataframe tbody tr th:only-of-type {\n",
       "        vertical-align: middle;\n",
       "    }\n",
       "\n",
       "    .dataframe tbody tr th {\n",
       "        vertical-align: top;\n",
       "    }\n",
       "\n",
       "    .dataframe thead th {\n",
       "        text-align: right;\n",
       "    }\n",
       "</style>\n",
       "<table border=\"1\" class=\"dataframe\">\n",
       "  <thead>\n",
       "    <tr style=\"text-align: right;\">\n",
       "      <th></th>\n",
       "      <th>0</th>\n",
       "      <th>1</th>\n",
       "      <th>2</th>\n",
       "      <th>3</th>\n",
       "      <th>4</th>\n",
       "      <th>5</th>\n",
       "      <th>6</th>\n",
       "    </tr>\n",
       "  </thead>\n",
       "  <tbody>\n",
       "    <tr>\n",
       "      <td>0</td>\n",
       "      <td>1.0</td>\n",
       "      <td>1.0</td>\n",
       "      <td>47500.0</td>\n",
       "      <td>0.0</td>\n",
       "      <td>0.0</td>\n",
       "      <td>0.0</td>\n",
       "      <td>6.0</td>\n",
       "    </tr>\n",
       "    <tr>\n",
       "      <td>1</td>\n",
       "      <td>1.0</td>\n",
       "      <td>0.0</td>\n",
       "      <td>63600.0</td>\n",
       "      <td>0.0</td>\n",
       "      <td>0.0</td>\n",
       "      <td>0.0</td>\n",
       "      <td>6.0</td>\n",
       "    </tr>\n",
       "    <tr>\n",
       "      <td>2</td>\n",
       "      <td>1.0</td>\n",
       "      <td>0.0</td>\n",
       "      <td>13500.0</td>\n",
       "      <td>0.0</td>\n",
       "      <td>1.0</td>\n",
       "      <td>0.0</td>\n",
       "      <td>18.0</td>\n",
       "    </tr>\n",
       "    <tr>\n",
       "      <td>3</td>\n",
       "      <td>1.0</td>\n",
       "      <td>0.0</td>\n",
       "      <td>85600.0</td>\n",
       "      <td>1.0</td>\n",
       "      <td>0.0</td>\n",
       "      <td>0.0</td>\n",
       "      <td>18.0</td>\n",
       "    </tr>\n",
       "    <tr>\n",
       "      <td>4</td>\n",
       "      <td>1.0</td>\n",
       "      <td>0.0</td>\n",
       "      <td>68400.0</td>\n",
       "      <td>0.0</td>\n",
       "      <td>0.0</td>\n",
       "      <td>0.0</td>\n",
       "      <td>12.0</td>\n",
       "    </tr>\n",
       "    <tr>\n",
       "      <td>...</td>\n",
       "      <td>...</td>\n",
       "      <td>...</td>\n",
       "      <td>...</td>\n",
       "      <td>...</td>\n",
       "      <td>...</td>\n",
       "      <td>...</td>\n",
       "      <td>...</td>\n",
       "    </tr>\n",
       "    <tr>\n",
       "      <td>995</td>\n",
       "      <td>1.0</td>\n",
       "      <td>0.0</td>\n",
       "      <td>19400.0</td>\n",
       "      <td>1.0</td>\n",
       "      <td>0.0</td>\n",
       "      <td>0.0</td>\n",
       "      <td>18.0</td>\n",
       "    </tr>\n",
       "    <tr>\n",
       "      <td>996</td>\n",
       "      <td>1.0</td>\n",
       "      <td>1.0</td>\n",
       "      <td>40500.0</td>\n",
       "      <td>1.0</td>\n",
       "      <td>0.0</td>\n",
       "      <td>0.0</td>\n",
       "      <td>18.0</td>\n",
       "    </tr>\n",
       "    <tr>\n",
       "      <td>997</td>\n",
       "      <td>1.0</td>\n",
       "      <td>0.0</td>\n",
       "      <td>44800.0</td>\n",
       "      <td>0.0</td>\n",
       "      <td>0.0</td>\n",
       "      <td>1.0</td>\n",
       "      <td>24.0</td>\n",
       "    </tr>\n",
       "    <tr>\n",
       "      <td>998</td>\n",
       "      <td>1.0</td>\n",
       "      <td>0.0</td>\n",
       "      <td>79000.0</td>\n",
       "      <td>2.0</td>\n",
       "      <td>0.0</td>\n",
       "      <td>1.0</td>\n",
       "      <td>18.0</td>\n",
       "    </tr>\n",
       "    <tr>\n",
       "      <td>999</td>\n",
       "      <td>1.0</td>\n",
       "      <td>0.0</td>\n",
       "      <td>53600.0</td>\n",
       "      <td>1.0</td>\n",
       "      <td>0.0</td>\n",
       "      <td>1.0</td>\n",
       "      <td>24.0</td>\n",
       "    </tr>\n",
       "  </tbody>\n",
       "</table>\n",
       "<p>1000 rows × 7 columns</p>\n",
       "</div>"
      ],
      "text/plain": [
       "       0    1        2    3    4    5     6\n",
       "0    1.0  1.0  47500.0  0.0  0.0  0.0   6.0\n",
       "1    1.0  0.0  63600.0  0.0  0.0  0.0   6.0\n",
       "2    1.0  0.0  13500.0  0.0  1.0  0.0  18.0\n",
       "3    1.0  0.0  85600.0  1.0  0.0  0.0  18.0\n",
       "4    1.0  0.0  68400.0  0.0  0.0  0.0  12.0\n",
       "..   ...  ...      ...  ...  ...  ...   ...\n",
       "995  1.0  0.0  19400.0  1.0  0.0  0.0  18.0\n",
       "996  1.0  1.0  40500.0  1.0  0.0  0.0  18.0\n",
       "997  1.0  0.0  44800.0  0.0  0.0  1.0  24.0\n",
       "998  1.0  0.0  79000.0  2.0  0.0  1.0  18.0\n",
       "999  1.0  0.0  53600.0  1.0  0.0  1.0  24.0\n",
       "\n",
       "[1000 rows x 7 columns]"
      ]
     },
     "execution_count": 51,
     "metadata": {},
     "output_type": "execute_result"
    }
   ],
   "source": [
    "# to extract from ols model we use \"exog\"\n",
    "pd.DataFrame(mod5.model.exog)"
   ]
  },
  {
   "cell_type": "code",
   "execution_count": 52,
   "metadata": {},
   "outputs": [
    {
     "data": {
      "text/plain": [
       "[13.216570327271516,\n",
       " 1.0619992174610435,\n",
       " 1.3463999733468444,\n",
       " 1.1394392751566271,\n",
       " 1.5908792151645113,\n",
       " 1.1433690597703363,\n",
       " 1.0807254116559717]"
      ]
     },
     "execution_count": 52,
     "metadata": {},
     "output_type": "execute_result"
    }
   ],
   "source": [
    "#Multicollinearity check\n",
    "# how they each independent variable are hiddenly correlated through \"variance_inflation\"\n",
    "# the value must be less than 10 then keep tem otherwise reject.\n",
    "from statsmodels.stats.outliers_influence import variance_inflation_factor\n",
    "idv = mod5.model.exog\n",
    "vif = [variance_inflation_factor(idv, i) for i in range(idv.shape[1])]\n",
    "vif"
   ]
  },
  {
   "cell_type": "code",
   "execution_count": 53,
   "metadata": {},
   "outputs": [
    {
     "data": {
      "text/html": [
       "<div>\n",
       "<style scoped>\n",
       "    .dataframe tbody tr th:only-of-type {\n",
       "        vertical-align: middle;\n",
       "    }\n",
       "\n",
       "    .dataframe tbody tr th {\n",
       "        vertical-align: top;\n",
       "    }\n",
       "\n",
       "    .dataframe thead th {\n",
       "        text-align: right;\n",
       "    }\n",
       "</style>\n",
       "<table border=\"1\" class=\"dataframe\">\n",
       "  <thead>\n",
       "    <tr style=\"text-align: right;\">\n",
       "      <th></th>\n",
       "      <th>Features</th>\n",
       "      <th>vif</th>\n",
       "    </tr>\n",
       "  </thead>\n",
       "  <tbody>\n",
       "    <tr>\n",
       "      <td>0</td>\n",
       "      <td>Intercept</td>\n",
       "      <td>13.216570</td>\n",
       "    </tr>\n",
       "    <tr>\n",
       "      <td>1</td>\n",
       "      <td>LocationFar</td>\n",
       "      <td>1.061999</td>\n",
       "    </tr>\n",
       "    <tr>\n",
       "      <td>2</td>\n",
       "      <td>Salary</td>\n",
       "      <td>1.346400</td>\n",
       "    </tr>\n",
       "    <tr>\n",
       "      <td>3</td>\n",
       "      <td>Children</td>\n",
       "      <td>1.139439</td>\n",
       "    </tr>\n",
       "    <tr>\n",
       "      <td>4</td>\n",
       "      <td>HistoryLow</td>\n",
       "      <td>1.590879</td>\n",
       "    </tr>\n",
       "    <tr>\n",
       "      <td>5</td>\n",
       "      <td>HistoryMedium</td>\n",
       "      <td>1.143369</td>\n",
       "    </tr>\n",
       "    <tr>\n",
       "      <td>6</td>\n",
       "      <td>Catalogs</td>\n",
       "      <td>1.080725</td>\n",
       "    </tr>\n",
       "  </tbody>\n",
       "</table>\n",
       "</div>"
      ],
      "text/plain": [
       "        Features        vif\n",
       "0      Intercept  13.216570\n",
       "1    LocationFar   1.061999\n",
       "2         Salary   1.346400\n",
       "3       Children   1.139439\n",
       "4     HistoryLow   1.590879\n",
       "5  HistoryMedium   1.143369\n",
       "6       Catalogs   1.080725"
      ]
     },
     "execution_count": 53,
     "metadata": {},
     "output_type": "execute_result"
    }
   ],
   "source": [
    "pd.DataFrame({'Features':mod5.model.exog_names,'vif':vif})"
   ]
  },
  {
   "cell_type": "code",
   "execution_count": 54,
   "metadata": {},
   "outputs": [
    {
     "data": {
      "text/plain": [
       "<matplotlib.collections.PathCollection at 0x294510a0d88>"
      ]
     },
     "execution_count": 54,
     "metadata": {},
     "output_type": "execute_result"
    },
    {
     "data": {
      "image/png": "[encoded data removed]",
      "text/plain": [
       "<Figure size 432x288 with 1 Axes>"
      ]
     },
     "metadata": {
      "needs_background": "light"
     },
     "output_type": "display_data"
    }
   ],
   "source": [
    "#Constant variance  check for homoscedasticity:\n",
    "plt.scatter(mod5.predict(),mod5.resid)"
   ]
  },
  {
   "cell_type": "code",
   "execution_count": 55,
   "metadata": {},
   "outputs": [
    {
     "data": {
      "text/html": [
       "<table class=\"simpletable\">\n",
       "<caption>OLS Regression Results</caption>\n",
       "<tr>\n",
       "  <th>Dep. Variable:</th>    <td>np.log(AmountSpent)</td> <th>  R-squared:         </th> <td>   0.841</td>\n",
       "</tr>\n",
       "<tr>\n",
       "  <th>Model:</th>                    <td>OLS</td>         <th>  Adj. R-squared:    </th> <td>   0.840</td>\n",
       "</tr>\n",
       "<tr>\n",
       "  <th>Method:</th>              <td>Least Squares</td>    <th>  F-statistic:       </th> <td>   875.7</td>\n",
       "</tr>\n",
       "<tr>\n",
       "  <th>Date:</th>              <td>Fri, 31 Jan 2020</td>   <th>  Prob (F-statistic):</th>  <td>  0.00</td> \n",
       "</tr>\n",
       "<tr>\n",
       "  <th>Time:</th>                  <td>10:58:31</td>       <th>  Log-Likelihood:    </th> <td> -365.90</td>\n",
       "</tr>\n",
       "<tr>\n",
       "  <th>No. Observations:</th>       <td>  1000</td>        <th>  AIC:               </th> <td>   745.8</td>\n",
       "</tr>\n",
       "<tr>\n",
       "  <th>Df Residuals:</th>           <td>   993</td>        <th>  BIC:               </th> <td>   780.2</td>\n",
       "</tr>\n",
       "<tr>\n",
       "  <th>Df Model:</th>               <td>     6</td>        <th>                     </th>     <td> </td>   \n",
       "</tr>\n",
       "<tr>\n",
       "  <th>Covariance Type:</th>       <td>nonrobust</td>      <th>                     </th>     <td> </td>   \n",
       "</tr>\n",
       "</table>\n",
       "<table class=\"simpletable\">\n",
       "<tr>\n",
       "        <td></td>           <th>coef</th>     <th>std err</th>      <th>t</th>      <th>P>|t|</th>  <th>[0.025</th>    <th>0.975]</th>  \n",
       "</tr>\n",
       "<tr>\n",
       "  <th>Intercept</th>     <td>    5.5752</td> <td>    0.040</td> <td>  138.516</td> <td> 0.000</td> <td>    5.496</td> <td>    5.654</td>\n",
       "</tr>\n",
       "<tr>\n",
       "  <th>LocationFar</th>   <td>    0.3148</td> <td>    0.025</td> <td>   12.521</td> <td> 0.000</td> <td>    0.265</td> <td>    0.364</td>\n",
       "</tr>\n",
       "<tr>\n",
       "  <th>Salary</th>        <td> 1.577e-05</td> <td>  4.2e-07</td> <td>   37.568</td> <td> 0.000</td> <td> 1.49e-05</td> <td> 1.66e-05</td>\n",
       "</tr>\n",
       "<tr>\n",
       "  <th>Children</th>      <td>   -0.1739</td> <td>    0.011</td> <td>  -15.460</td> <td> 0.000</td> <td>   -0.196</td> <td>   -0.152</td>\n",
       "</tr>\n",
       "<tr>\n",
       "  <th>HistoryLow</th>    <td>   -0.6434</td> <td>    0.033</td> <td>  -19.388</td> <td> 0.000</td> <td>   -0.708</td> <td>   -0.578</td>\n",
       "</tr>\n",
       "<tr>\n",
       "  <th>HistoryMedium</th> <td>   -0.1346</td> <td>    0.029</td> <td>   -4.649</td> <td> 0.000</td> <td>   -0.191</td> <td>   -0.078</td>\n",
       "</tr>\n",
       "<tr>\n",
       "  <th>Catalogs</th>      <td>    0.0381</td> <td>    0.002</td> <td>   21.930</td> <td> 0.000</td> <td>    0.035</td> <td>    0.042</td>\n",
       "</tr>\n",
       "</table>\n",
       "<table class=\"simpletable\">\n",
       "<tr>\n",
       "  <th>Omnibus:</th>       <td>23.840</td> <th>  Durbin-Watson:     </th> <td>   1.923</td>\n",
       "</tr>\n",
       "<tr>\n",
       "  <th>Prob(Omnibus):</th> <td> 0.000</td> <th>  Jarque-Bera (JB):  </th> <td>  28.506</td>\n",
       "</tr>\n",
       "<tr>\n",
       "  <th>Skew:</th>          <td>-0.300</td> <th>  Prob(JB):          </th> <td>6.46e-07</td>\n",
       "</tr>\n",
       "<tr>\n",
       "  <th>Kurtosis:</th>      <td> 3.570</td> <th>  Cond. No.          </th> <td>2.78e+05</td>\n",
       "</tr>\n",
       "</table><br/><br/>Warnings:<br/>[1] Standard Errors assume that the covariance matrix of the errors is correctly specified.<br/>[2] The condition number is large, 2.78e+05. This might indicate that there are<br/>strong multicollinearity or other numerical problems."
      ],
      "text/plain": [
       "<class 'statsmodels.iolib.summary.Summary'>\n",
       "\"\"\"\n",
       "                             OLS Regression Results                            \n",
       "===============================================================================\n",
       "Dep. Variable:     np.log(AmountSpent)   R-squared:                       0.841\n",
       "Model:                             OLS   Adj. R-squared:                  0.840\n",
       "Method:                  Least Squares   F-statistic:                     875.7\n",
       "Date:                 Fri, 31 Jan 2020   Prob (F-statistic):               0.00\n",
       "Time:                         10:58:31   Log-Likelihood:                -365.90\n",
       "No. Observations:                 1000   AIC:                             745.8\n",
       "Df Residuals:                      993   BIC:                             780.2\n",
       "Df Model:                            6                                         \n",
       "Covariance Type:             nonrobust                                         \n",
       "=================================================================================\n",
       "                    coef    std err          t      P>|t|      [0.025      0.975]\n",
       "---------------------------------------------------------------------------------\n",
       "Intercept         5.5752      0.040    138.516      0.000       5.496       5.654\n",
       "LocationFar       0.3148      0.025     12.521      0.000       0.265       0.364\n",
       "Salary         1.577e-05    4.2e-07     37.568      0.000    1.49e-05    1.66e-05\n",
       "Children         -0.1739      0.011    -15.460      0.000      -0.196      -0.152\n",
       "HistoryLow       -0.6434      0.033    -19.388      0.000      -0.708      -0.578\n",
       "HistoryMedium    -0.1346      0.029     -4.649      0.000      -0.191      -0.078\n",
       "Catalogs          0.0381      0.002     21.930      0.000       0.035       0.042\n",
       "==============================================================================\n",
       "Omnibus:                       23.840   Durbin-Watson:                   1.923\n",
       "Prob(Omnibus):                  0.000   Jarque-Bera (JB):               28.506\n",
       "Skew:                          -0.300   Prob(JB):                     6.46e-07\n",
       "Kurtosis:                       3.570   Cond. No.                     2.78e+05\n",
       "==============================================================================\n",
       "\n",
       "Warnings:\n",
       "[1] Standard Errors assume that the covariance matrix of the errors is correctly specified.\n",
       "[2] The condition number is large, 2.78e+05. This might indicate that there are\n",
       "strong multicollinearity or other numerical problems.\n",
       "\"\"\""
      ]
     },
     "execution_count": 55,
     "metadata": {},
     "output_type": "execute_result"
    }
   ],
   "source": [
    "#Remidies: Apply log transform to y variable(dependent)\n",
    "mod6=ols('np.log(AmountSpent)~LocationFar+Salary+Children+HistoryLow+HistoryMedium+Catalogs',data).fit()\n",
    "mod6.summary()"
   ]
  },
  {
   "cell_type": "code",
   "execution_count": 56,
   "metadata": {},
   "outputs": [
    {
     "data": {
      "image/png": "[encoded data removed]",
      "text/plain": [
       "<Figure size 432x288 with 1 Axes>"
      ]
     },
     "execution_count": 56,
     "metadata": {},
     "output_type": "execute_result"
    },
    {
     "data": {
      "image/png": "[encoded data removed]",
      "text/plain": [
       "<Figure size 432x288 with 1 Axes>"
      ]
     },
     "metadata": {
      "needs_background": "light"
     },
     "output_type": "display_data"
    }
   ],
   "source": [
    "#qqplot\n",
    "sm.qqplot(mod6.resid)"
   ]
  },
  {
   "cell_type": "code",
   "execution_count": 57,
   "metadata": {},
   "outputs": [
    {
     "data": {
      "text/plain": [
       "<matplotlib.collections.PathCollection at 0x2944eef95c8>"
      ]
     },
     "execution_count": 57,
     "metadata": {},
     "output_type": "execute_result"
    },
    {
     "data": {
      "image/png": "[encoded data removed]",
      "text/plain": [
       "<Figure size 432x288 with 1 Axes>"
      ]
     },
     "metadata": {
      "needs_background": "light"
     },
     "output_type": "display_data"
    }
   ],
   "source": [
    "#Constant variance check homoscedasticity\n",
    "plt.scatter(mod6.predict(),mod6.resid)"
   ]
  },
  {
   "cell_type": "code",
   "execution_count": 58,
   "metadata": {},
   "outputs": [],
   "source": [
    "# line chart : actual vs predicted\n",
    "#data['log_amt']=np.log(data['AmountSpent'])\n",
    "#data['Predicted']=mod6.predict()\n",
    "#plt.plot(data['log_amt'],\"b\")\n",
    "#plt.plot(mod6.predict(),\"g\")"
   ]
  },
  {
   "cell_type": "code",
   "execution_count": 59,
   "metadata": {},
   "outputs": [
    {
     "data": {
      "text/html": [
       "<div>\n",
       "<style scoped>\n",
       "    .dataframe tbody tr th:only-of-type {\n",
       "        vertical-align: middle;\n",
       "    }\n",
       "\n",
       "    .dataframe tbody tr th {\n",
       "        vertical-align: top;\n",
       "    }\n",
       "\n",
       "    .dataframe thead th {\n",
       "        text-align: right;\n",
       "    }\n",
       "</style>\n",
       "<table border=\"1\" class=\"dataframe\">\n",
       "  <thead>\n",
       "    <tr style=\"text-align: right;\">\n",
       "      <th></th>\n",
       "      <th>LocationFar</th>\n",
       "      <th>Salary</th>\n",
       "      <th>Children</th>\n",
       "      <th>HistoryLow</th>\n",
       "      <th>HistoryMedium</th>\n",
       "      <th>Catalogs</th>\n",
       "    </tr>\n",
       "  </thead>\n",
       "  <tbody>\n",
       "    <tr>\n",
       "      <td>0</td>\n",
       "      <td>1</td>\n",
       "      <td>20000</td>\n",
       "      <td>2</td>\n",
       "      <td>1</td>\n",
       "      <td>0</td>\n",
       "      <td>6</td>\n",
       "    </tr>\n",
       "  </tbody>\n",
       "</table>\n",
       "</div>"
      ],
      "text/plain": [
       "   LocationFar  Salary  Children  HistoryLow  HistoryMedium  Catalogs\n",
       "0            1   20000         2           1              0         6"
      ]
     },
     "execution_count": 59,
     "metadata": {},
     "output_type": "execute_result"
    }
   ],
   "source": [
    "# test\n",
    "test=pd.DataFrame({'LocationFar':[1],'Salary':[20000],'Children':[2],'HistoryLow':[1],'HistoryMedium':[0],'Catalogs':[6]})\n",
    "test"
   ]
  },
  {
   "cell_type": "code",
   "execution_count": 60,
   "metadata": {},
   "outputs": [
    {
     "data": {
      "text/plain": [
       "0    5.443015\n",
       "dtype: float64"
      ]
     },
     "execution_count": 60,
     "metadata": {},
     "output_type": "execute_result"
    }
   ],
   "source": [
    "mod6.predict(test)"
   ]
  },
  {
   "cell_type": "code",
   "execution_count": 61,
   "metadata": {},
   "outputs": [
    {
     "data": {
      "text/plain": [
       "0    231.138\n",
       "dtype: float64"
      ]
     },
     "execution_count": 61,
     "metadata": {},
     "output_type": "execute_result"
    }
   ],
   "source": [
    "np.exp(mod6.predict(test))"
   ]
  },
  {
   "cell_type": "code",
   "execution_count": 62,
   "metadata": {},
   "outputs": [
    {
     "data": {
      "text/plain": [
       "<Figure size 432x288 with 0 Axes>"
      ]
     },
     "metadata": {},
     "output_type": "display_data"
    }
   ],
   "source": [
    "# select the stepwise sheet\n",
    "%run stepwise.py"
   ]
  },
  {
   "cell_type": "code",
   "execution_count": 63,
   "metadata": {},
   "outputs": [],
   "source": [
    "data.dropcolumns=('log_amt')"
   ]
  },
  {
   "cell_type": "code",
   "execution_count": 64,
   "metadata": {},
   "outputs": [
    {
     "name": "stderr",
     "output_type": "stream",
     "text": [
      "C:\\Users\\Gudavalli\\Anaconda3\\lib\\site-packages\\numpy\\core\\fromnumeric.py:2389: FutureWarning: Method .ptp is deprecated and will be removed in a future version. Use numpy.ptp instead.\n",
      "  return ptp(axis=axis, out=out, **kwargs)\n",
      "C:\\Users\\Gudavalli\\Anaconda3\\lib\\site-packages\\numpy\\core\\fromnumeric.py:2389: FutureWarning: Method .ptp is deprecated and will be removed in a future version. Use numpy.ptp instead.\n",
      "  return ptp(axis=axis, out=out, **kwargs)\n",
      "C:\\Users\\Gudavalli\\Anaconda3\\lib\\site-packages\\numpy\\core\\fromnumeric.py:2389: FutureWarning: Method .ptp is deprecated and will be removed in a future version. Use numpy.ptp instead.\n",
      "  return ptp(axis=axis, out=out, **kwargs)\n",
      "C:\\Users\\Gudavalli\\Anaconda3\\lib\\site-packages\\numpy\\core\\fromnumeric.py:2389: FutureWarning: Method .ptp is deprecated and will be removed in a future version. Use numpy.ptp instead.\n",
      "  return ptp(axis=axis, out=out, **kwargs)\n",
      "C:\\Users\\Gudavalli\\Anaconda3\\lib\\site-packages\\numpy\\core\\fromnumeric.py:2389: FutureWarning: Method .ptp is deprecated and will be removed in a future version. Use numpy.ptp instead.\n",
      "  return ptp(axis=axis, out=out, **kwargs)\n",
      "C:\\Users\\Gudavalli\\Anaconda3\\lib\\site-packages\\numpy\\core\\fromnumeric.py:2389: FutureWarning: Method .ptp is deprecated and will be removed in a future version. Use numpy.ptp instead.\n",
      "  return ptp(axis=axis, out=out, **kwargs)\n",
      "C:\\Users\\Gudavalli\\Anaconda3\\lib\\site-packages\\numpy\\core\\fromnumeric.py:2389: FutureWarning: Method .ptp is deprecated and will be removed in a future version. Use numpy.ptp instead.\n",
      "  return ptp(axis=axis, out=out, **kwargs)\n",
      "C:\\Users\\Gudavalli\\Anaconda3\\lib\\site-packages\\numpy\\core\\fromnumeric.py:2389: FutureWarning: Method .ptp is deprecated and will be removed in a future version. Use numpy.ptp instead.\n",
      "  return ptp(axis=axis, out=out, **kwargs)\n",
      "C:\\Users\\Gudavalli\\Anaconda3\\lib\\site-packages\\numpy\\core\\fromnumeric.py:2389: FutureWarning: Method .ptp is deprecated and will be removed in a future version. Use numpy.ptp instead.\n",
      "  return ptp(axis=axis, out=out, **kwargs)\n",
      "C:\\Users\\Gudavalli\\Anaconda3\\lib\\site-packages\\numpy\\core\\fromnumeric.py:2389: FutureWarning: Method .ptp is deprecated and will be removed in a future version. Use numpy.ptp instead.\n",
      "  return ptp(axis=axis, out=out, **kwargs)\n",
      "C:\\Users\\Gudavalli\\Anaconda3\\lib\\site-packages\\numpy\\core\\fromnumeric.py:2389: FutureWarning: Method .ptp is deprecated and will be removed in a future version. Use numpy.ptp instead.\n",
      "  return ptp(axis=axis, out=out, **kwargs)\n",
      "C:\\Users\\Gudavalli\\Anaconda3\\lib\\site-packages\\numpy\\core\\fromnumeric.py:2389: FutureWarning: Method .ptp is deprecated and will be removed in a future version. Use numpy.ptp instead.\n",
      "  return ptp(axis=axis, out=out, **kwargs)\n",
      "C:\\Users\\Gudavalli\\Anaconda3\\lib\\site-packages\\numpy\\core\\fromnumeric.py:2389: FutureWarning: Method .ptp is deprecated and will be removed in a future version. Use numpy.ptp instead.\n",
      "  return ptp(axis=axis, out=out, **kwargs)\n",
      "C:\\Users\\Gudavalli\\Anaconda3\\lib\\site-packages\\numpy\\core\\fromnumeric.py:2389: FutureWarning: Method .ptp is deprecated and will be removed in a future version. Use numpy.ptp instead.\n",
      "  return ptp(axis=axis, out=out, **kwargs)\n",
      "C:\\Users\\Gudavalli\\Anaconda3\\lib\\site-packages\\numpy\\core\\fromnumeric.py:2389: FutureWarning: Method .ptp is deprecated and will be removed in a future version. Use numpy.ptp instead.\n",
      "  return ptp(axis=axis, out=out, **kwargs)\n",
      "C:\\Users\\Gudavalli\\Desktop\\IIDT\\MACHINE LEARNING\\stepwise.py:34: FutureWarning: \n",
      "The current behaviour of 'Series.argmin' is deprecated, use 'idxmin'\n",
      "instead.\n",
      "The behavior of 'argmin' will be corrected to return the positional\n",
      "minimum in the future. For now, use 'series.values.argmin' or\n",
      "'np.argmin(np.array(values))' to get the position of the minimum\n",
      "row.\n",
      "  best_feature = new_pval.argmin()\n"
     ]
    },
    {
     "name": "stdout",
     "output_type": "stream",
     "text": [
      "Add  Salary                         with p-value 7.49541e-148\n",
      "Add  Catalogs                       with p-value 1.74943e-61\n",
      "Add  LocationClose                  with p-value 2.00202e-34\n",
      "Add  Children                       with p-value 6.49865e-36\n",
      "Add  HistoryMedium                  with p-value 1.07962e-14\n",
      "Add  HistoryLow                     with p-value 7.50822e-14\n",
      "Add  LocationFar                    with p-value 6.74845e-15\n"
     ]
    },
    {
     "data": {
      "text/plain": [
       "['Salary',\n",
       " 'Catalogs',\n",
       " 'LocationClose',\n",
       " 'Children',\n",
       " 'HistoryMedium',\n",
       " 'HistoryLow',\n",
       " 'LocationFar']"
      ]
     },
     "execution_count": 64,
     "metadata": {},
     "output_type": "execute_result"
    }
   ],
   "source": [
    "#select features using forward-backward selection\n",
    "features=stepwise_selection(X=data.drop('AmountSpent',axis=1),y=data['AmountSpent'])\n",
    "features"
   ]
  },
  {
   "cell_type": "code",
   "execution_count": 71,
   "metadata": {},
   "outputs": [
    {
     "data": {
      "text/html": [
       "<table class=\"simpletable\">\n",
       "<caption>OLS Regression Results</caption>\n",
       "<tr>\n",
       "  <th>Dep. Variable:</th>       <td>AmountSpent</td>   <th>  R-squared:         </th> <td>   0.841</td>\n",
       "</tr>\n",
       "<tr>\n",
       "  <th>Model:</th>                   <td>OLS</td>       <th>  Adj. R-squared:    </th> <td>   0.840</td>\n",
       "</tr>\n",
       "<tr>\n",
       "  <th>Method:</th>             <td>Least Squares</td>  <th>  F-statistic:       </th> <td>   875.7</td>\n",
       "</tr>\n",
       "<tr>\n",
       "  <th>Date:</th>             <td>Fri, 31 Jan 2020</td> <th>  Prob (F-statistic):</th>  <td>  0.00</td> \n",
       "</tr>\n",
       "<tr>\n",
       "  <th>Time:</th>                 <td>11:11:55</td>     <th>  Log-Likelihood:    </th> <td> -365.90</td>\n",
       "</tr>\n",
       "<tr>\n",
       "  <th>No. Observations:</th>      <td>  1000</td>      <th>  AIC:               </th> <td>   745.8</td>\n",
       "</tr>\n",
       "<tr>\n",
       "  <th>Df Residuals:</th>          <td>   993</td>      <th>  BIC:               </th> <td>   780.2</td>\n",
       "</tr>\n",
       "<tr>\n",
       "  <th>Df Model:</th>              <td>     6</td>      <th>                     </th>     <td> </td>   \n",
       "</tr>\n",
       "<tr>\n",
       "  <th>Covariance Type:</th>      <td>nonrobust</td>    <th>                     </th>     <td> </td>   \n",
       "</tr>\n",
       "</table>\n",
       "<table class=\"simpletable\">\n",
       "<tr>\n",
       "        <td></td>           <th>coef</th>     <th>std err</th>      <th>t</th>      <th>P>|t|</th>  <th>[0.025</th>    <th>0.975]</th>  \n",
       "</tr>\n",
       "<tr>\n",
       "  <th>Salary</th>        <td> 1.577e-05</td> <td>  4.2e-07</td> <td>   37.568</td> <td> 0.000</td> <td> 1.49e-05</td> <td> 1.66e-05</td>\n",
       "</tr>\n",
       "<tr>\n",
       "  <th>Catalogs</th>      <td>    0.0381</td> <td>    0.002</td> <td>   21.930</td> <td> 0.000</td> <td>    0.035</td> <td>    0.042</td>\n",
       "</tr>\n",
       "<tr>\n",
       "  <th>LocationClose</th> <td>    5.5752</td> <td>    0.040</td> <td>  138.516</td> <td> 0.000</td> <td>    5.496</td> <td>    5.654</td>\n",
       "</tr>\n",
       "<tr>\n",
       "  <th>Children</th>      <td>   -0.1739</td> <td>    0.011</td> <td>  -15.460</td> <td> 0.000</td> <td>   -0.196</td> <td>   -0.152</td>\n",
       "</tr>\n",
       "<tr>\n",
       "  <th>HistoryMedium</th> <td>   -0.1346</td> <td>    0.029</td> <td>   -4.649</td> <td> 0.000</td> <td>   -0.191</td> <td>   -0.078</td>\n",
       "</tr>\n",
       "<tr>\n",
       "  <th>HistoryLow</th>    <td>   -0.6434</td> <td>    0.033</td> <td>  -19.388</td> <td> 0.000</td> <td>   -0.708</td> <td>   -0.578</td>\n",
       "</tr>\n",
       "<tr>\n",
       "  <th>LocationFar</th>   <td>    5.8900</td> <td>    0.043</td> <td>  138.536</td> <td> 0.000</td> <td>    5.807</td> <td>    5.973</td>\n",
       "</tr>\n",
       "</table>\n",
       "<table class=\"simpletable\">\n",
       "<tr>\n",
       "  <th>Omnibus:</th>       <td>23.840</td> <th>  Durbin-Watson:     </th> <td>   1.923</td>\n",
       "</tr>\n",
       "<tr>\n",
       "  <th>Prob(Omnibus):</th> <td> 0.000</td> <th>  Jarque-Bera (JB):  </th> <td>  28.506</td>\n",
       "</tr>\n",
       "<tr>\n",
       "  <th>Skew:</th>          <td>-0.300</td> <th>  Prob(JB):          </th> <td>6.46e-07</td>\n",
       "</tr>\n",
       "<tr>\n",
       "  <th>Kurtosis:</th>      <td> 3.570</td> <th>  Cond. No.          </th> <td>3.44e+05</td>\n",
       "</tr>\n",
       "</table><br/><br/>Warnings:<br/>[1] Standard Errors assume that the covariance matrix of the errors is correctly specified.<br/>[2] The condition number is large, 3.44e+05. This might indicate that there are<br/>strong multicollinearity or other numerical problems."
      ],
      "text/plain": [
       "<class 'statsmodels.iolib.summary.Summary'>\n",
       "\"\"\"\n",
       "                            OLS Regression Results                            \n",
       "==============================================================================\n",
       "Dep. Variable:            AmountSpent   R-squared:                       0.841\n",
       "Model:                            OLS   Adj. R-squared:                  0.840\n",
       "Method:                 Least Squares   F-statistic:                     875.7\n",
       "Date:                Fri, 31 Jan 2020   Prob (F-statistic):               0.00\n",
       "Time:                        11:11:55   Log-Likelihood:                -365.90\n",
       "No. Observations:                1000   AIC:                             745.8\n",
       "Df Residuals:                     993   BIC:                             780.2\n",
       "Df Model:                           6                                         \n",
       "Covariance Type:            nonrobust                                         \n",
       "=================================================================================\n",
       "                    coef    std err          t      P>|t|      [0.025      0.975]\n",
       "---------------------------------------------------------------------------------\n",
       "Salary         1.577e-05    4.2e-07     37.568      0.000    1.49e-05    1.66e-05\n",
       "Catalogs          0.0381      0.002     21.930      0.000       0.035       0.042\n",
       "LocationClose     5.5752      0.040    138.516      0.000       5.496       5.654\n",
       "Children         -0.1739      0.011    -15.460      0.000      -0.196      -0.152\n",
       "HistoryMedium    -0.1346      0.029     -4.649      0.000      -0.191      -0.078\n",
       "HistoryLow       -0.6434      0.033    -19.388      0.000      -0.708      -0.578\n",
       "LocationFar       5.8900      0.043    138.536      0.000       5.807       5.973\n",
       "==============================================================================\n",
       "Omnibus:                       23.840   Durbin-Watson:                   1.923\n",
       "Prob(Omnibus):                  0.000   Jarque-Bera (JB):               28.506\n",
       "Skew:                          -0.300   Prob(JB):                     6.46e-07\n",
       "Kurtosis:                       3.570   Cond. No.                     3.44e+05\n",
       "==============================================================================\n",
       "\n",
       "Warnings:\n",
       "[1] Standard Errors assume that the covariance matrix of the errors is correctly specified.\n",
       "[2] The condition number is large, 3.44e+05. This might indicate that there are\n",
       "strong multicollinearity or other numerical problems.\n",
       "\"\"\""
      ]
     },
     "execution_count": 71,
     "metadata": {},
     "output_type": "execute_result"
    }
   ],
   "source": [
    "import statsmodels.api as sm\n",
    "model=sm.OLS(np.log(data['AmountSpent']),data[features]).fit()\n",
    "model.summary()\n",
    "# here the dependent variable is y i.e amount spent taken from the data features since we only need the significant values\n",
    "# to create a model."
   ]
  },
  {
   "cell_type": "code",
   "execution_count": 72,
   "metadata": {},
   "outputs": [
    {
     "data": {
      "text/plain": [
       "<matplotlib.collections.PathCollection at 0x29451295508>"
      ]
     },
     "execution_count": 72,
     "metadata": {},
     "output_type": "execute_result"
    },
    {
     "data": {
      "image/png": "[encoded data removed]",
      "text/plain": [
       "<Figure size 432x288 with 1 Axes>"
      ]
     },
     "metadata": {
      "needs_background": "light"
     },
     "output_type": "display_data"
    }
   ],
   "source": [
    "plt.scatter(model.predict(),model.resid)"
   ]
  },
  {
   "cell_type": "code",
   "execution_count": 73,
   "metadata": {},
   "outputs": [
    {
     "data": {
      "text/plain": [
       "209673.43852280654"
      ]
     },
     "execution_count": 73,
     "metadata": {},
     "output_type": "execute_result"
    }
   ],
   "source": [
    "#mean squared error\n",
    "from sklearn.metrics import mean_squared_error\n",
    "mean_squared_error(data['AmountSpent'],np.exp(model.predict()))\n",
    "#minimised MSE(mean squared error)avoiding heterscedasticity."
   ]
  },
  {
   "cell_type": "code",
   "execution_count": 75,
   "metadata": {},
   "outputs": [
    {
     "data": {
      "image/png": "[encoded data removed]",
      "text/plain": [
       "<Figure size 432x288 with 1 Axes>"
      ]
     },
     "execution_count": 75,
     "metadata": {},
     "output_type": "execute_result"
    },
    {
     "data": {
      "image/png": "[encoded data removed]",
      "text/plain": [
       "<Figure size 432x288 with 1 Axes>"
      ]
     },
     "metadata": {
      "needs_background": "light"
     },
     "output_type": "display_data"
    }
   ],
   "source": [
    "sm.qqplot(model.resid)"
   ]
  },
  {
   "cell_type": "code",
   "execution_count": 81,
   "metadata": {},
   "outputs": [
    {
     "data": {
      "text/plain": [
       "LinearRegression(copy_X=True, fit_intercept=True, n_jobs=None, normalize=False)"
      ]
     },
     "execution_count": 81,
     "metadata": {},
     "output_type": "execute_result"
    }
   ],
   "source": [
    "#machine learning approach\n",
    "from sklearn.linear_model import LinearRegression\n",
    "lm=LinearRegression()\n",
    "lm.fit(data[features],data['AmountSpent'])"
   ]
  },
  {
   "cell_type": "code",
   "execution_count": 82,
   "metadata": {},
   "outputs": [
    {
     "data": {
      "text/plain": [
       "0.7461949049621851"
      ]
     },
     "execution_count": 82,
     "metadata": {},
     "output_type": "execute_result"
    }
   ],
   "source": [
    "#coefficient of determination(r2 )\n",
    "lm.score(data[features],data['AmountSpent'])"
   ]
  },
  {
   "cell_type": "code",
   "execution_count": null,
   "metadata": {},
   "outputs": [],
   "source": []
  },
  {
   "cell_type": "code",
   "execution_count": null,
   "metadata": {},
   "outputs": [],
   "source": []
  },
  {
   "cell_type": "code",
   "execution_count": null,
   "metadata": {},
   "outputs": [],
   "source": []
  },
  {
   "cell_type": "code",
   "execution_count": null,
   "metadata": {},
   "outputs": [],
   "source": []
  }
 ],
 "metadata": {
  "kernelspec": {
   "display_name": "Python 3",
   "language": "python",
   "name": "python3"
  },
  "language_info": {
   "codemirror_mode": {
    "name": "ipython",
    "version": 3
   },
   "file_extension": ".py",
   "mimetype": "text/x-python",
   "name": "python",
   "nbconvert_exporter": "python",
   "pygments_lexer": "ipython3",
   "version": "3.7.4"
  }
 },
 "nbformat": 4,
 "nbformat_minor": 2
}
